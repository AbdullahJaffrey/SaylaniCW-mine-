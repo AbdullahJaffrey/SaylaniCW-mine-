{
 "cells": [
  {
   "cell_type": "markdown",
   "id": "fc77a077",
   "metadata": {},
   "source": [
    "# class 7:"
   ]
  },
  {
   "cell_type": "code",
   "execution_count": 1,
   "id": "a8059728",
   "metadata": {},
   "outputs": [],
   "source": [
    "# https://github.com/AbdullahJaffrey/SaylaniAssignments/blob/master/SaylaniHw1.ipynb\n",
    "\n",
    "# we solved this assignment in class."
   ]
  },
  {
   "cell_type": "markdown",
   "id": "b075a4d3",
   "metadata": {},
   "source": [
    "# class 8:"
   ]
  },
  {
   "cell_type": "code",
   "execution_count": 2,
   "id": "dba37b86",
   "metadata": {},
   "outputs": [],
   "source": [
    "# Jun 2, 2022, 7:45PM - 10:15 PM"
   ]
  },
  {
   "cell_type": "markdown",
   "id": "848812e1",
   "metadata": {},
   "source": [
    "### For Loop:"
   ]
  },
  {
   "cell_type": "code",
   "execution_count": 3,
   "id": "de2101c1",
   "metadata": {},
   "outputs": [
    {
     "name": "stdout",
     "output_type": "stream",
     "text": [
      "0\n",
      "1\n",
      "2\n",
      "3\n",
      "4\n",
      "5\n",
      "6\n",
      "7\n",
      "8\n",
      "9\n"
     ]
    }
   ],
   "source": [
    "for i in range(10):\n",
    "    print(i)"
   ]
  },
  {
   "cell_type": "markdown",
   "id": "dff801b8",
   "metadata": {},
   "source": [
    "#### Range function:"
   ]
  },
  {
   "cell_type": "code",
   "execution_count": 4,
   "id": "7bc8f3a5",
   "metadata": {},
   "outputs": [
    {
     "data": {
      "text/plain": [
       "range(0, 10)"
      ]
     },
     "execution_count": 4,
     "metadata": {},
     "output_type": "execute_result"
    }
   ],
   "source": [
    "range(10)\n",
    "#same as above but in a function form."
   ]
  },
  {
   "cell_type": "code",
   "execution_count": 5,
   "id": "c83430fd",
   "metadata": {},
   "outputs": [
    {
     "name": "stdout",
     "output_type": "stream",
     "text": [
      "2\n",
      "3\n",
      "4\n",
      "5\n",
      "6\n",
      "7\n",
      "8\n",
      "9\n"
     ]
    }
   ],
   "source": [
    "for i in range(2,10):\n",
    "    print(i)"
   ]
  },
  {
   "cell_type": "code",
   "execution_count": 6,
   "id": "3d0b560e",
   "metadata": {},
   "outputs": [
    {
     "name": "stdout",
     "output_type": "stream",
     "text": [
      "10\n",
      "9\n",
      "8\n",
      "7\n",
      "6\n",
      "5\n",
      "4\n",
      "3\n",
      "2\n",
      "1\n"
     ]
    }
   ],
   "source": [
    "for i in range(10,0,-1):\n",
    "    print(i)"
   ]
  },
  {
   "cell_type": "code",
   "execution_count": 7,
   "id": "08f1f934",
   "metadata": {},
   "outputs": [
    {
     "name": "stdout",
     "output_type": "stream",
     "text": [
      "\n",
      " Even list\n",
      "[2, 4, 6, 8]\n",
      "\n",
      " Odd list\n",
      "[1, 3, 5, 7, 9]\n"
     ]
    }
   ],
   "source": [
    "even = []\n",
    "odd = []\n",
    "for i in range(1,10):\n",
    "    if i%2==0:\n",
    "        even.append(i)\n",
    "    else:\n",
    "        odd.append(i)\n",
    "        \n",
    "print('\\n Even list')\n",
    "print(even)\n",
    "print('\\n Odd list')\n",
    "print(odd)"
   ]
  },
  {
   "cell_type": "code",
   "execution_count": 8,
   "id": "007d4bf6",
   "metadata": {},
   "outputs": [
    {
     "data": {
      "text/plain": [
       "[2,\n",
       " 4,\n",
       " 6,\n",
       " 8,\n",
       " 12,\n",
       " 14,\n",
       " 16,\n",
       " 18,\n",
       " 22,\n",
       " 24,\n",
       " 26,\n",
       " 28,\n",
       " 32,\n",
       " 34,\n",
       " 36,\n",
       " 38,\n",
       " 42,\n",
       " 44,\n",
       " 46,\n",
       " 48,\n",
       " 52,\n",
       " 54,\n",
       " 56,\n",
       " 58,\n",
       " 62,\n",
       " 64,\n",
       " 66,\n",
       " 68,\n",
       " 72,\n",
       " 74,\n",
       " 76,\n",
       " 78,\n",
       " 82,\n",
       " 84,\n",
       " 86,\n",
       " 88,\n",
       " 92,\n",
       " 94,\n",
       " 96,\n",
       " 98]"
      ]
     },
     "execution_count": 8,
     "metadata": {},
     "output_type": "execute_result"
    }
   ],
   "source": [
    "import math \n",
    "\n",
    "even2  = []\n",
    "odd2 = []\n",
    "for i in range(1,100):\n",
    "    if i%2==0 and i%5!= 0:\n",
    "        even2.append(i)\n",
    "    else:\n",
    "        odd2.append(i)\n",
    "even2"
   ]
  },
  {
   "cell_type": "code",
   "execution_count": 9,
   "id": "3a6d7202",
   "metadata": {},
   "outputs": [
    {
     "name": "stdout",
     "output_type": "stream",
     "text": [
      "False 99\n"
     ]
    }
   ],
   "source": [
    "print(i%2==0,i)"
   ]
  },
  {
   "cell_type": "code",
   "execution_count": 10,
   "id": "f1d89e55",
   "metadata": {},
   "outputs": [
    {
     "name": "stdout",
     "output_type": "stream",
     "text": [
      "\n",
      " Even list\n",
      "[2, 4, 6, 8, 12, 14, 16, 18, 22, 24, 26, 28, 32, 34, 36, 38, 42, 44, 46, 48, 52, 54, 56, 58, 62, 64, 66, 68, 72, 74, 76, 78, 82, 84, 86, 88, 92, 94, 96, 98]\n",
      "-----------------------------------\n",
      "\n",
      " Odd list\n",
      "[1, 3, 7, 9, 11, 13, 17, 19, 21, 23, 27, 29, 31, 33, 37, 39, 41, 43, 47, 49, 51, 53, 57, 59, 61, 63, 67, 69, 71, 73, 77, 79, 81, 83, 87, 89, 91, 93, 97, 99]\n"
     ]
    }
   ],
   "source": [
    "even2  = []\n",
    "odd2 = []\n",
    "for i in range(1,100):\n",
    "    if i%5!= 0:\n",
    "        if i%2==0:\n",
    "            even2.append(i)\n",
    "        else:\n",
    "            odd2.append(i)\n",
    "    else:\n",
    "        i = None\n",
    "\n",
    "print('\\n Even list')\n",
    "print(even2)\n",
    "print('-----------------------------------')\n",
    "print('\\n Odd list')\n",
    "print(odd2)"
   ]
  },
  {
   "cell_type": "code",
   "execution_count": 11,
   "id": "9ef568d0",
   "metadata": {},
   "outputs": [
    {
     "name": "stdout",
     "output_type": "stream",
     "text": [
      "1\n"
     ]
    }
   ],
   "source": [
    "for num in range(1,10):\n",
    "    if num%2==0:\n",
    "        break\n",
    "    else:\n",
    "        print(num)"
   ]
  },
  {
   "cell_type": "code",
   "execution_count": 12,
   "id": "fe58ec06",
   "metadata": {},
   "outputs": [
    {
     "name": "stdout",
     "output_type": "stream",
     "text": [
      "1\n",
      "3\n",
      "5\n",
      "7\n",
      "9\n"
     ]
    }
   ],
   "source": [
    "for num in range(1,10):\n",
    "    if num%2==0:\n",
    "        continue\n",
    "    else:\n",
    "        print(num)"
   ]
  },
  {
   "cell_type": "code",
   "execution_count": 13,
   "id": "6f9efc5b",
   "metadata": {},
   "outputs": [
    {
     "name": "stdout",
     "output_type": "stream",
     "text": [
      "1\n",
      "2\n",
      "3\n",
      "4\n",
      "5\n",
      "6\n",
      "8\n",
      "9\n"
     ]
    }
   ],
   "source": [
    "for num in range(1,10):\n",
    "    if num==7:\n",
    "        continue\n",
    "    else:\n",
    "        print(num)"
   ]
  },
  {
   "cell_type": "markdown",
   "id": "117c83f8",
   "metadata": {},
   "source": [
    "# Break function: \n",
    "    \n",
    "    breaks or terminates the function."
   ]
  },
  {
   "cell_type": "code",
   "execution_count": 14,
   "id": "b78307e8",
   "metadata": {},
   "outputs": [
    {
     "name": "stdout",
     "output_type": "stream",
     "text": [
      "1\n",
      "2\n",
      "3\n",
      "4\n",
      "5\n",
      "6\n"
     ]
    }
   ],
   "source": [
    "for num in range(1,10):\n",
    "    if num==7:\n",
    "        break\n",
    "    else:\n",
    "        print(num)"
   ]
  },
  {
   "cell_type": "markdown",
   "id": "bd033c88",
   "metadata": {},
   "source": [
    "# list in for loop "
   ]
  },
  {
   "cell_type": "code",
   "execution_count": 15,
   "id": "1c2cff8f",
   "metadata": {},
   "outputs": [
    {
     "name": "stdout",
     "output_type": "stream",
     "text": [
      "Hello Salis!\n",
      "Hello Noah!\n",
      "Hello Umair!\n",
      "Hello Ahsan!\n",
      "Hello Waqas!\n",
      "Hello Nuaman!\n"
     ]
    }
   ],
   "source": [
    "list1 = [\"Salis\", \"Noah\", \"Umair\", \"Ahsan\", \"Waqas\",\"Nuaman\"]\n",
    "for name in list1:\n",
    "    print(f\"Hello {name}!\")"
   ]
  },
  {
   "cell_type": "code",
   "execution_count": 16,
   "id": "5de4c485",
   "metadata": {},
   "outputs": [
    {
     "name": "stdout",
     "output_type": "stream",
     "text": [
      "Hello Umair!\n",
      "Hello Ahsan!\n"
     ]
    }
   ],
   "source": [
    "for name in list1[2:4]:\n",
    "    print(f\"Hello {name}!\")"
   ]
  },
  {
   "cell_type": "code",
   "execution_count": 17,
   "id": "e89a0eba",
   "metadata": {},
   "outputs": [
    {
     "name": "stdout",
     "output_type": "stream",
     "text": [
      "We applause your coming!\n",
      "Enter Your name: Salis\n",
      "Enter Your name: Umair\n",
      "Enter Your name: Ahsan\n",
      "Enter Your name: Noah\n",
      "Enter Your name: Yasmeen\n",
      "Enter Your name: Mehak\n",
      "Enter Your name: Usra\n",
      "Enter Your name: Bisma\n",
      "Enter Your name: Noah\n",
      "Enter Your name: Ilyas\n",
      "['SALIS', 'UMAIR', 'AHSAN', 'NOAH', 'YASMEEN', 'MEHAK', 'USRA', 'BISMA', 'NOAH']\n"
     ]
    }
   ],
   "source": [
    "guest=[]\n",
    "\n",
    "print(\"We applause your coming!\")\n",
    "for names in range(10):\n",
    "    names  = input(\"Enter Your name: \").upper()\n",
    "    if  names == \"ILYAS\":\n",
    "        continue\n",
    "    else:\n",
    "        guest.append(names)\n",
    "\n",
    "        \n",
    "print(guest)"
   ]
  },
  {
   "cell_type": "code",
   "execution_count": 18,
   "id": "e32278e1",
   "metadata": {},
   "outputs": [
    {
     "data": {
      "text/plain": [
       "True"
      ]
     },
     "execution_count": 18,
     "metadata": {},
     "output_type": "execute_result"
    }
   ],
   "source": [
    "\"USRA\" in guest"
   ]
  },
  {
   "cell_type": "code",
   "execution_count": 22,
   "id": "d66ec8df",
   "metadata": {},
   "outputs": [
    {
     "name": "stdout",
     "output_type": "stream",
     "text": [
      "We applause your coming!\n",
      "Enter Your name: Haider\n",
      "Enter Your name: Salis\n",
      "Enter Your name: Salman\n",
      "Enter Your name: \n",
      "Enter Your name: Kaleem\n",
      "Enter Your name: Kaleem\n",
      "Enter Your name: Sasha\n",
      "Enter Your name: Qawi\n",
      "Enter Your name: Usra\n",
      "Enter Your name: Kaiser\n"
     ]
    }
   ],
   "source": [
    "guests=[]\n",
    "\n",
    "print(\"We applause your coming!\")\n",
    "for names in range(10):\n",
    "    names  = input(\"Enter Your name: \").upper()\n",
    "    if  names == \"ILYAS\" or names in guests or names in guest or len(names)==0:\n",
    "        continue\n",
    "    else:\n",
    "        guests.append(names)"
   ]
  },
  {
   "cell_type": "code",
   "execution_count": 23,
   "id": "29dc5e45",
   "metadata": {},
   "outputs": [
    {
     "data": {
      "text/plain": [
       "['HAIDER', 'SALMAN', 'KALEEM', 'SASHA', 'QAWI', 'KAISER']"
      ]
     },
     "execution_count": 23,
     "metadata": {},
     "output_type": "execute_result"
    }
   ],
   "source": [
    "guests"
   ]
  },
  {
   "cell_type": "code",
   "execution_count": null,
   "id": "f052833d",
   "metadata": {},
   "outputs": [],
   "source": []
  }
 ],
 "metadata": {
  "kernelspec": {
   "display_name": "Python 3 (ipykernel)",
   "language": "python",
   "name": "python3"
  },
  "language_info": {
   "codemirror_mode": {
    "name": "ipython",
    "version": 3
   },
   "file_extension": ".py",
   "mimetype": "text/x-python",
   "name": "python",
   "nbconvert_exporter": "python",
   "pygments_lexer": "ipython3",
   "version": "3.9.7"
  }
 },
 "nbformat": 4,
 "nbformat_minor": 5
}
