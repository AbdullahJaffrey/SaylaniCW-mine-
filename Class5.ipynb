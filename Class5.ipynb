{
 "cells": [
  {
   "cell_type": "code",
   "execution_count": 1,
   "id": "29ecfa4c",
   "metadata": {},
   "outputs": [],
   "source": [
    "#Class5(May 23, 2022, 7:23 PM)"
   ]
  },
  {
   "cell_type": "markdown",
   "id": "b3eb3b6e",
   "metadata": {},
   "source": [
    "# Quiz App:"
   ]
  },
  {
   "cell_type": "code",
   "execution_count": 2,
   "id": "3a40e1ae",
   "metadata": {},
   "outputs": [
    {
     "name": "stdout",
     "output_type": "stream",
     "text": [
      "enter a digit:  7\n",
      "It's too small\n"
     ]
    }
   ],
   "source": [
    "inputs = int(input(\"enter a digit: \"))\n",
    "if inputs < 9:\n",
    "    print(\"It's too small\")\n",
    "elif inputs == 9:\n",
    "    print('right answer')\n",
    "else:\n",
    "    print(\"It's too big to guess\")"
   ]
  },
  {
   "cell_type": "markdown",
   "id": "a1e3a7b8",
   "metadata": {},
   "source": [
    "# Grading system:"
   ]
  },
  {
   "cell_type": "code",
   "execution_count": 3,
   "id": "68d492d5",
   "metadata": {},
   "outputs": [
    {
     "name": "stdout",
     "output_type": "stream",
     "text": [
      "Enter Marks in Maths: 72\n",
      "Enter Marks in DBMS: 78\n",
      "Enter Marks in OR: 81\n",
      "Enter Marks in DSC: 74\n",
      "Enter Marks in Calculas: 59\n",
      "You got 364.0 out of 500\n",
      "Your Percentage: 72.8\n",
      "You got A\n"
     ]
    }
   ],
   "source": [
    "subj1  = float(input(\"Enter Marks in Maths: \"))\n",
    "subj2  = float(input(\"Enter Marks in DBMS: \"));\n",
    "subj3  = float(input(\"Enter Marks in OR: \"))\n",
    "subj4  = float(input(\"Enter Marks in DSC: \"));\n",
    "subj5  = float(input(\"Enter Marks in Calculas: \"))\n",
    "\n",
    "obt_marks = subj1+subj2+subj3+subj4+subj5\n",
    "total_marks = 500\n",
    "print(f\"You got {obt_marks} out of {total_marks}\")\n",
    "\n",
    "percentage_grid = (obt_marks/total_marks)*100\n",
    "print(f\"Your Percentage: {percentage_grid}\")\n",
    "\n",
    "if percentage_grid < 50:\n",
    "    print('Sorry, You failed Grade')\n",
    "elif percentage_grid > 50 and percentage_grid < 60:\n",
    "    print('You got C Grade')\n",
    "elif percentage_grid > 60 and percentage_grid < 70:\n",
    "    print('You got B Grade')\n",
    "elif percentage_grid > 70 and percentage_grid < 80:\n",
    "    print('You got A')\n",
    "elif percentage_grid > 80 and percentage_grid < 100:\n",
    "    print('You got A+')\n",
    "else:\n",
    "    print(\"You require a recheck\")"
   ]
  },
  {
   "cell_type": "code",
   "execution_count": 4,
   "id": "327370d4",
   "metadata": {},
   "outputs": [
    {
     "name": "stdout",
     "output_type": "stream",
     "text": [
      "Saylani Mass IT Training Result:\n"
     ]
    },
    {
     "data": {
      "text/plain": [
       "'Its Result Time: '"
      ]
     },
     "execution_count": 4,
     "metadata": {},
     "output_type": "execute_result"
    }
   ],
   "source": [
    "print(\"Saylani Mass IT Training Result:\")\n",
    "\n",
    "\"Its Result Time: \""
   ]
  },
  {
   "cell_type": "code",
   "execution_count": 5,
   "id": "f7a0865d",
   "metadata": {},
   "outputs": [
    {
     "name": "stdout",
     "output_type": "stream",
     "text": [
      "Enter your Name: Abdullah Jafri\n",
      "Enter Marks in Maths: 72\n",
      "Enter Marks in AL: 78\n",
      "Enter Marks in DBMS: 78\n",
      "Enter Marks in OR: 81\n",
      "Enter Marks in DSC: 74\n",
      "Enter Marks in Calculas: 59\n",
      "                               Congrats \n",
      "      Name: Abdullah Jafri \n",
      "      Roll Number: 72\n",
      "      Grade you get: A\n",
      "      Marks you obtained: 370.0 \n",
      "      Out of 500\n"
     ]
    }
   ],
   "source": [
    "Name  = str(input(\"Enter your Name: \"))\n",
    "Rollno = int(input(\"Enter Marks in Maths: \"))\n",
    "subj1  = float(input(\"Enter Marks in AL: \"))\n",
    "subj2  = float(input(\"Enter Marks in DBMS: \"));\n",
    "subj3  = float(input(\"Enter Marks in OR: \"))\n",
    "subj4  = float(input(\"Enter Marks in DSC: \"));\n",
    "subj5  = float(input(\"Enter Marks in Calculas: \"))\n",
    "\n",
    "obt_marks = subj1+subj2+subj3+subj4+subj5\n",
    "total_marks = 500\n",
    "#print(f\"You got {obt_marks} out of {total_marks}\")\n",
    "\n",
    "percentage_grid = (obt_marks/total_marks)*100\n",
    "#print(f\"Your Percentage: {percentage_grid}\")\n",
    "grade = None\n",
    "\n",
    "if percentage_grid < 50:\n",
    "    grade = \"F\"\n",
    "elif percentage_grid > 50 and percentage_grid < 60:\n",
    "    grade = \"C\"\n",
    "elif percentage_grid > 60 and percentage_grid < 70:\n",
    "    grade = \"B\"\n",
    "elif percentage_grid > 70 and percentage_grid < 80:\n",
    "    grade = \"A\"\n",
    "elif percentage_grid > 80 and percentage_grid < 100:\n",
    "    grade = \"A+\"\n",
    "else:\n",
    "    grade = None\n",
    "#print(grade)\n",
    "\n",
    "\n",
    "print(f'''                               Congrats \n",
    "      Name: {Name} \n",
    "      Roll Number: {Rollno}\n",
    "      Grade you get: {grade}\n",
    "      Marks you obtained: {obt_marks} \n",
    "      Out of {total_marks}''')"
   ]
  },
  {
   "cell_type": "markdown",
   "id": "f9f37154",
   "metadata": {},
   "source": [
    "# Nested if:"
   ]
  },
  {
   "cell_type": "code",
   "execution_count": 6,
   "id": "c76e1ec7",
   "metadata": {},
   "outputs": [
    {
     "name": "stdout",
     "output_type": "stream",
     "text": [
      "enter a digit: 42\n",
      "Locates 45 to 0\n"
     ]
    }
   ],
   "source": [
    "inputs = int(input(\"enter a digit: \"))\n",
    "if inputs < 50 and inputs > 40:\n",
    "    if inputs < 50 and inputs > 45:\n",
    "        print(\"Locates 50 to 45\")\n",
    "    else:\n",
    "        print(\"Locates 45 to 0\")\n",
    "elif inputs == 50:\n",
    "    print('right answer')\n",
    "else:\n",
    "    print(\"It's too big to guess\")"
   ]
  },
  {
   "cell_type": "markdown",
   "id": "cce86355",
   "metadata": {},
   "source": [
    "# fb project:"
   ]
  },
  {
   "cell_type": "code",
   "execution_count": 8,
   "id": "18020f7e",
   "metadata": {},
   "outputs": [
    {
     "name": "stdout",
     "output_type": "stream",
     "text": [
      "Enter name: Naseer Hussain\n",
      "Enter password: 1234\n",
      "Welcome back Naseer\n"
     ]
    }
   ],
   "source": [
    "users = \"Naseer Hussain\"\n",
    "pass_word = \"1234\"\n",
    "First_name = users[0:6]\n",
    "\n",
    "\n",
    "user_input = str(input('Enter name: '))\n",
    "pass_word_input = str(input('Enter password: '))\n",
    "\n",
    "if user_input == users:\n",
    "    if pass_word_input == pass_word:\n",
    "        print(f\"Welcome back {First_name}\")\n",
    "    else:\n",
    "        print(f\"{First_name}, your password is not matching\")\n",
    "else:\n",
    "    print('Sorry, Id not find!')"
   ]
  },
  {
   "cell_type": "markdown",
   "id": "96323b93",
   "metadata": {},
   "source": [
    "### rectifying code:\n"
   ]
  },
  {
   "cell_type": "code",
   "execution_count": 10,
   "id": "c2b612bc",
   "metadata": {},
   "outputs": [
    {
     "name": "stdout",
     "output_type": "stream",
     "text": [
      "Enter name: Naseer Hussain\n",
      "Enter password: 3456\n",
      "Naseer, your password is not matching\n"
     ]
    }
   ],
   "source": [
    "users = \"Naseer Hussain\"\n",
    "pass_word = \"1234\"\n",
    "First_name = users[0:6]\n",
    "\n",
    "\n",
    "user_input = str(input('Enter name: '))\n",
    "\n",
    "if user_input == users:\n",
    "    pass_word_input = str(input('Enter password: '))\n",
    "    if pass_word_input == pass_word:\n",
    "        print(f\"Welcome back {First_name}\")\n",
    "    else:\n",
    "        print(f\"{First_name}, your password is not matching\")\n",
    "else:\n",
    "    print('Sorry, Id not find!')"
   ]
  },
  {
   "cell_type": "markdown",
   "id": "fcd520d2",
   "metadata": {},
   "source": [
    "### final program:\n"
   ]
  },
  {
   "cell_type": "code",
   "execution_count": 11,
   "id": "1427a36d",
   "metadata": {},
   "outputs": [
    {
     "name": "stdout",
     "output_type": "stream",
     "text": [
      "Enter user name: Naseer Hussain\n",
      "Enter password: 1234\n",
      "Welcome back Naseer\n",
      "Enter your Name: Naseer Hussain\n",
      "Enter Marks in Maths: 72\n",
      "Enter Marks in AL: 78\n",
      "Enter Marks in DBMS: 78\n",
      "Enter Marks in OR: 81\n",
      "Enter Marks in DSC: 74\n",
      "Enter Marks in Calculas: 59\n",
      "                               Congrats \n",
      "          Name: Naseer Hussain \n",
      "          Roll Number: 72\n",
      "          Grade you get: A\n",
      "          Marks you obtained: 370.0 \n",
      "          Out of 500\n"
     ]
    }
   ],
   "source": [
    "users = \"Naseer Hussain\"\n",
    "pass_word = \"1234\"\n",
    "First_name = users[0:6]\n",
    "\n",
    "\n",
    "user_input = str(input('Enter user name: '))\n",
    "\n",
    "if user_input == users:\n",
    "    pass_word_input = str(input('Enter password: '))\n",
    "    if pass_word_input == pass_word:\n",
    "        print(f\"Welcome back {First_name}\")\n",
    "        \n",
    "        Name  = str(input(\"Enter your Name: \"))\n",
    "\n",
    "        Rollno = int(input(\"Enter Marks in Maths: \"))\n",
    "\n",
    "        subj1  = float(input(\"Enter Marks in AL: \"))\n",
    "\n",
    "        subj2  = float(input(\"Enter Marks in DBMS: \"));\n",
    "\n",
    "        subj3  = float(input(\"Enter Marks in OR: \"))\n",
    "\n",
    "        subj4  = float(input(\"Enter Marks in DSC: \"));\n",
    "\n",
    "        subj5  = float(input(\"Enter Marks in Calculas: \"))\n",
    "\n",
    "\n",
    "        obt_marks = subj1+subj2+subj3+subj4+subj5\n",
    "\n",
    "        total_marks = 500\n",
    "        #print(f\"You got {obt_marks} out of {total_marks}\")\n",
    "\n",
    "        percentage_grid = (obt_marks/total_marks)*100\n",
    "        #print(f\"Your Percentage: {percentage_grid}\")\n",
    "\n",
    "        grade = None\n",
    "\n",
    "        if percentage_grid < 50:\n",
    "            grade = \"F\"\n",
    "        elif percentage_grid > 50 and percentage_grid < 60:\n",
    "            grade = \"C\"\n",
    "        elif percentage_grid > 60 and percentage_grid < 70:\n",
    "            grade = \"B\"\n",
    "        elif percentage_grid > 70 and percentage_grid < 80:\n",
    "            grade = \"A\"\n",
    "        elif percentage_grid > 80 and percentage_grid < 100:\n",
    "            grade = \"A+\"\n",
    "        else:\n",
    "            grade = None\n",
    "\n",
    "\n",
    "    else:\n",
    "        print(f\"{First_name}, your password is not matching\")\n",
    "    #print(grade)\n",
    "\n",
    "\n",
    "else:\n",
    "    print('Sorry, Id not find!')\n",
    "\n",
    "print(f'''                               Congrats \n",
    "          Name: {Name} \n",
    "          Roll Number: {Rollno}\n",
    "          Grade you get: {grade}\n",
    "          Marks you obtained: {obt_marks} \n",
    "          Out of {total_marks}''')"
   ]
  }
 ],
 "metadata": {
  "kernelspec": {
   "display_name": "Python 3 (ipykernel)",
   "language": "python",
   "name": "python3"
  },
  "language_info": {
   "codemirror_mode": {
    "name": "ipython",
    "version": 3
   },
   "file_extension": ".py",
   "mimetype": "text/x-python",
   "name": "python",
   "nbconvert_exporter": "python",
   "pygments_lexer": "ipython3",
   "version": "3.9.7"
  }
 },
 "nbformat": 4,
 "nbformat_minor": 5
}
