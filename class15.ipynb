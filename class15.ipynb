{
 "cells": [
  {
   "cell_type": "code",
   "execution_count": 1,
   "id": "81f3960f",
   "metadata": {},
   "outputs": [],
   "source": [
    "# 27 - 06 - 2022"
   ]
  },
  {
   "cell_type": "code",
   "execution_count": 2,
   "id": "a5eff45a",
   "metadata": {},
   "outputs": [],
   "source": [
    "def greet():\n",
    "    print('Hello world')"
   ]
  },
  {
   "cell_type": "code",
   "execution_count": 3,
   "id": "e34a2163",
   "metadata": {},
   "outputs": [
    {
     "name": "stdout",
     "output_type": "stream",
     "text": [
      "Hello world\n"
     ]
    }
   ],
   "source": [
    "greet()"
   ]
  },
  {
   "cell_type": "code",
   "execution_count": 4,
   "id": "8af1ddbd",
   "metadata": {},
   "outputs": [],
   "source": [
    "def greet(name):\n",
    "    name = input(\"Enter name: \")\n",
    "    messages = \"Hello\"\n",
    "    print(f\"{messages} {name}\")"
   ]
  },
  {
   "cell_type": "code",
   "execution_count": 5,
   "id": "e4fc8e3d",
   "metadata": {},
   "outputs": [
    {
     "name": "stdout",
     "output_type": "stream",
     "text": [
      "Enter name: Abdullah\n",
      "Hello Abdullah\n"
     ]
    }
   ],
   "source": [
    "greet(\" \")"
   ]
  },
  {
   "cell_type": "code",
   "execution_count": 6,
   "id": "39c1c95b",
   "metadata": {},
   "outputs": [],
   "source": [
    "def square(m): \n",
    "    sq = m**2\n",
    "    #or\n",
    "    #sq = m*m\n",
    "    #print(sq)\n",
    "    \n"
   ]
  },
  {
   "cell_type": "code",
   "execution_count": 7,
   "id": "7721d6b8",
   "metadata": {},
   "outputs": [],
   "source": [
    "square(6)"
   ]
  },
  {
   "cell_type": "code",
   "execution_count": 8,
   "id": "197b94a6",
   "metadata": {},
   "outputs": [
    {
     "ename": "NameError",
     "evalue": "name 'sq' is not defined",
     "output_type": "error",
     "traceback": [
      "\u001b[1;31m---------------------------------------------------------------------------\u001b[0m",
      "\u001b[1;31mNameError\u001b[0m                                 Traceback (most recent call last)",
      "\u001b[1;32m~\\AppData\\Local\\Temp/ipykernel_4820/372377755.py\u001b[0m in \u001b[0;36m<module>\u001b[1;34m\u001b[0m\n\u001b[1;32m----> 1\u001b[1;33m \u001b[0mprint\u001b[0m\u001b[1;33m(\u001b[0m\u001b[0msq\u001b[0m\u001b[1;33m)\u001b[0m\u001b[1;33m\u001b[0m\u001b[1;33m\u001b[0m\u001b[0m\n\u001b[0m",
      "\u001b[1;31mNameError\u001b[0m: name 'sq' is not defined"
     ]
    }
   ],
   "source": [
    "print(sq)"
   ]
  },
  {
   "cell_type": "markdown",
   "id": "faf229f0",
   "metadata": {},
   "source": [
    "# global vs local\n",
    "\n",
    "#global: calling a variable exist outside function\n",
    "#local: calling a variable exist inside function"
   ]
  },
  {
   "cell_type": "code",
   "execution_count": 9,
   "id": "73fae06a",
   "metadata": {},
   "outputs": [],
   "source": [
    "def square(m): \n",
    "    sq = m**2\n",
    "    global name \n",
    "    name = \"Saylani\""
   ]
  },
  {
   "cell_type": "code",
   "execution_count": 10,
   "id": "d8a64446",
   "metadata": {},
   "outputs": [
    {
     "name": "stdout",
     "output_type": "stream",
     "text": [
      "Saylani\n"
     ]
    }
   ],
   "source": [
    "square(6)\n",
    "print(name)"
   ]
  },
  {
   "cell_type": "code",
   "execution_count": 11,
   "id": "01cda002",
   "metadata": {},
   "outputs": [],
   "source": [
    "def sq2(num):\n",
    "    sqe = num*num\n",
    "    return sqe\n",
    "    \n",
    "    #or \n",
    "    #return num**2\n",
    "\n"
   ]
  },
  {
   "cell_type": "code",
   "execution_count": 12,
   "id": "9bb1c915",
   "metadata": {},
   "outputs": [
    {
     "data": {
      "text/plain": [
       "100"
      ]
     },
     "execution_count": 12,
     "metadata": {},
     "output_type": "execute_result"
    }
   ],
   "source": [
    "sq2(10)"
   ]
  },
  {
   "cell_type": "code",
   "execution_count": 13,
   "id": "ccdae862",
   "metadata": {},
   "outputs": [],
   "source": [
    "def add(num1,num2):\n",
    "    sqe = num1+num2\n",
    "    return sqe\n",
    "    \n",
    "    #or \n",
    "    #return num**2\n",
    "\n"
   ]
  },
  {
   "cell_type": "code",
   "execution_count": 14,
   "id": "912484da",
   "metadata": {},
   "outputs": [
    {
     "data": {
      "text/plain": [
       "8"
      ]
     },
     "execution_count": 14,
     "metadata": {},
     "output_type": "execute_result"
    }
   ],
   "source": [
    "add(3,5)"
   ]
  },
  {
   "cell_type": "code",
   "execution_count": 15,
   "id": "8e84e4cd",
   "metadata": {},
   "outputs": [],
   "source": [
    "def cal(num1,num2,sign):\n",
    "    num1 = int(input('Enter a num: '))\n",
    "    num2 = int(input('Enter a num: '))\n",
    "    sign = input('Enter a sign: ')\n",
    "    if sign == '+':\n",
    "        return num1+num2\n",
    "    elif sign == '-':\n",
    "        return num1-num2\n",
    "    elif sign == '*':\n",
    "        return num1*num2\n",
    "    else:\n",
    "        return num1/num2"
   ]
  },
  {
   "cell_type": "code",
   "execution_count": 16,
   "id": "df9465ed",
   "metadata": {},
   "outputs": [
    {
     "name": "stdout",
     "output_type": "stream",
     "text": [
      "Enter a num: 7\n",
      "Enter a num: 8\n",
      "Enter a sign: +\n"
     ]
    },
    {
     "data": {
      "text/plain": [
       "15"
      ]
     },
     "execution_count": 16,
     "metadata": {},
     "output_type": "execute_result"
    }
   ],
   "source": [
    "cal('num1','num2','sign')"
   ]
  },
  {
   "cell_type": "code",
   "execution_count": 17,
   "id": "c1b589bb",
   "metadata": {},
   "outputs": [],
   "source": [
    "def sub(v1,v2):\n",
    "    ans = v2-v1\n",
    "    return ans"
   ]
  },
  {
   "cell_type": "code",
   "execution_count": 18,
   "id": "f6cfe75e",
   "metadata": {},
   "outputs": [
    {
     "name": "stdout",
     "output_type": "stream",
     "text": [
      "10\n"
     ]
    }
   ],
   "source": [
    "print(sub(20,30))"
   ]
  },
  {
   "cell_type": "code",
   "execution_count": 19,
   "id": "67c9e992",
   "metadata": {},
   "outputs": [],
   "source": [
    "def strr(val):\n",
    "    val = 1\n",
    "    global name\n",
    "    name = 'Abdullah'\n",
    "    return val\n"
   ]
  },
  {
   "cell_type": "code",
   "execution_count": 20,
   "id": "71a06e8f",
   "metadata": {},
   "outputs": [
    {
     "data": {
      "text/plain": [
       "1"
      ]
     },
     "execution_count": 20,
     "metadata": {},
     "output_type": "execute_result"
    }
   ],
   "source": [
    "strr('val')"
   ]
  },
  {
   "cell_type": "code",
   "execution_count": 21,
   "id": "5aaf3287",
   "metadata": {},
   "outputs": [
    {
     "data": {
      "text/plain": [
       "'Abdullah'"
      ]
     },
     "execution_count": 21,
     "metadata": {},
     "output_type": "execute_result"
    }
   ],
   "source": [
    "name"
   ]
  },
  {
   "cell_type": "markdown",
   "id": "dc8651ce",
   "metadata": {},
   "source": [
    "# Positional Parameters and Arguments"
   ]
  },
  {
   "cell_type": "code",
   "execution_count": 22,
   "id": "dc07fe39",
   "metadata": {},
   "outputs": [],
   "source": [
    "def complete_name(first_name,last_name):\n",
    "    full_name  = first_name +\" \" + last_name\n",
    "    return full_name"
   ]
  },
  {
   "cell_type": "code",
   "execution_count": 23,
   "id": "e5468254",
   "metadata": {},
   "outputs": [
    {
     "data": {
      "text/plain": [
       "'Noah Hussein'"
      ]
     },
     "execution_count": 23,
     "metadata": {},
     "output_type": "execute_result"
    }
   ],
   "source": [
    "complete_name('Noah','Hussein')"
   ]
  },
  {
   "cell_type": "markdown",
   "id": "dd2219c8",
   "metadata": {},
   "source": [
    "# Default parameters:"
   ]
  },
  {
   "cell_type": "code",
   "execution_count": 24,
   "id": "25e549a4",
   "metadata": {},
   "outputs": [],
   "source": [
    "def cubic(num=2):\n",
    "    cub = num**3\n",
    "    return cub\n",
    "    "
   ]
  },
  {
   "cell_type": "code",
   "execution_count": 25,
   "id": "a70b56d7",
   "metadata": {},
   "outputs": [
    {
     "data": {
      "text/plain": [
       "64"
      ]
     },
     "execution_count": 25,
     "metadata": {},
     "output_type": "execute_result"
    }
   ],
   "source": [
    "cubic(4)"
   ]
  },
  {
   "cell_type": "code",
   "execution_count": 26,
   "id": "fcdc5520",
   "metadata": {},
   "outputs": [
    {
     "data": {
      "text/plain": [
       "8"
      ]
     },
     "execution_count": 26,
     "metadata": {},
     "output_type": "execute_result"
    }
   ],
   "source": [
    "cubic()"
   ]
  },
  {
   "cell_type": "code",
   "execution_count": 29,
   "id": "d662f959",
   "metadata": {},
   "outputs": [],
   "source": [
    "def largest(numbers):\n",
    "        numbers = int(input('Enter a number: '))\n",
    "        if numbers < 10:\n",
    "            return 'smaller than 10'\n",
    "        elif numbers == 10:\n",
    "            return 'equals to 10'\n",
    "        else:\n",
    "            return 'larger than 10'"
   ]
  },
  {
   "cell_type": "code",
   "execution_count": 30,
   "id": "33152191",
   "metadata": {},
   "outputs": [
    {
     "name": "stdout",
     "output_type": "stream",
     "text": [
      "Enter a number: 10\n"
     ]
    },
    {
     "data": {
      "text/plain": [
       "'equals to 10'"
      ]
     },
     "execution_count": 30,
     "metadata": {},
     "output_type": "execute_result"
    }
   ],
   "source": [
    "largest('Enter a num')"
   ]
  },
  {
   "cell_type": "code",
   "execution_count": 31,
   "id": "281a495e",
   "metadata": {},
   "outputs": [],
   "source": [
    "def highest(arr):\n",
    "    return max(arr)\n",
    "\n",
    "def lowest(arr):\n",
    "    return min(arr)"
   ]
  },
  {
   "cell_type": "code",
   "execution_count": 32,
   "id": "9a73c953",
   "metadata": {},
   "outputs": [
    {
     "data": {
      "text/plain": [
       "8"
      ]
     },
     "execution_count": 32,
     "metadata": {},
     "output_type": "execute_result"
    }
   ],
   "source": [
    "highest([2,5,7,8,6,1,3,4])"
   ]
  },
  {
   "cell_type": "code",
   "execution_count": 33,
   "id": "9140af09",
   "metadata": {},
   "outputs": [
    {
     "data": {
      "text/plain": [
       "1"
      ]
     },
     "execution_count": 33,
     "metadata": {},
     "output_type": "execute_result"
    }
   ],
   "source": [
    "lowest([2,5,7,8,6,1,3,4])"
   ]
  },
  {
   "cell_type": "code",
   "execution_count": 34,
   "id": "34984500",
   "metadata": {},
   "outputs": [],
   "source": [
    "def max_num(arr):\n",
    "    return (max(arr)),(min(arr))"
   ]
  },
  {
   "cell_type": "code",
   "execution_count": 35,
   "id": "479be729",
   "metadata": {},
   "outputs": [],
   "source": [
    "_max,_min=max_num([23,45,67,89,98])"
   ]
  },
  {
   "cell_type": "code",
   "execution_count": 36,
   "id": "0071ed6b",
   "metadata": {},
   "outputs": [
    {
     "data": {
      "text/plain": [
       "98"
      ]
     },
     "execution_count": 36,
     "metadata": {},
     "output_type": "execute_result"
    }
   ],
   "source": [
    "_max"
   ]
  },
  {
   "cell_type": "code",
   "execution_count": 37,
   "id": "ede5d26d",
   "metadata": {},
   "outputs": [
    {
     "data": {
      "text/plain": [
       "23"
      ]
     },
     "execution_count": 37,
     "metadata": {},
     "output_type": "execute_result"
    }
   ],
   "source": [
    "_min"
   ]
  },
  {
   "cell_type": "code",
   "execution_count": 38,
   "id": "a132519d",
   "metadata": {},
   "outputs": [],
   "source": [
    "def square():\n",
    "    start = int(input('Enter a number: '))\n",
    "    end= int(input('Enter a number: '))\n",
    "    return [x**2 if x<10 else x for x in range(start,end) ]"
   ]
  },
  {
   "cell_type": "code",
   "execution_count": 39,
   "id": "10fe5c65",
   "metadata": {},
   "outputs": [
    {
     "name": "stdout",
     "output_type": "stream",
     "text": [
      "Enter a number: 5\n",
      "Enter a number: 8\n"
     ]
    },
    {
     "data": {
      "text/plain": [
       "[25, 36, 49]"
      ]
     },
     "execution_count": 39,
     "metadata": {},
     "output_type": "execute_result"
    }
   ],
   "source": [
    "square()"
   ]
  },
  {
   "cell_type": "code",
   "execution_count": null,
   "id": "54b14703",
   "metadata": {},
   "outputs": [],
   "source": [
    "# Done"
   ]
  }
 ],
 "metadata": {
  "kernelspec": {
   "display_name": "Python 3 (ipykernel)",
   "language": "python",
   "name": "python3"
  },
  "language_info": {
   "codemirror_mode": {
    "name": "ipython",
    "version": 3
   },
   "file_extension": ".py",
   "mimetype": "text/x-python",
   "name": "python",
   "nbconvert_exporter": "python",
   "pygments_lexer": "ipython3",
   "version": "3.9.7"
  }
 },
 "nbformat": 4,
 "nbformat_minor": 5
}
