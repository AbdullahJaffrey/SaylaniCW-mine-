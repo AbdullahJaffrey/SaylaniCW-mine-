{
 "cells": [
  {
   "cell_type": "code",
   "execution_count": 1,
   "id": "d08fccea",
   "metadata": {},
   "outputs": [],
   "source": [
    "#May 30, 2022, 7:45 PM"
   ]
  },
  {
   "cell_type": "markdown",
   "id": "34235624",
   "metadata": {},
   "source": [
    "# Class 6:\n",
    "    "
   ]
  },
  {
   "cell_type": "markdown",
   "id": "52fe51a7",
   "metadata": {},
   "source": [
    "## Data Structure:"
   ]
  },
  {
   "cell_type": "markdown",
   "id": "152b580a",
   "metadata": {},
   "source": [
    "- list\n",
    "- tuple \n",
    "- dictionary\n",
    "- set"
   ]
  },
  {
   "cell_type": "markdown",
   "id": "610ceda6",
   "metadata": {},
   "source": [
    "## List"
   ]
  },
  {
   "cell_type": "code",
   "execution_count": 2,
   "id": "4d5493c4",
   "metadata": {},
   "outputs": [],
   "source": [
    "family = [\"Salis\", \"Noah\", \"Jaffery\" ]\n",
    "Me = ['Abdullah']\n",
    "total = [family,Me]\n",
    "#index 0,1,2\n",
    "#index -3,-2-1"
   ]
  },
  {
   "cell_type": "code",
   "execution_count": 3,
   "id": "7597b786",
   "metadata": {},
   "outputs": [
    {
     "data": {
      "text/plain": [
       "['Salis', 'Noah', 'Jaffery']"
      ]
     },
     "execution_count": 3,
     "metadata": {},
     "output_type": "execute_result"
    }
   ],
   "source": [
    "#create \n",
    "family"
   ]
  },
  {
   "cell_type": "code",
   "execution_count": 4,
   "id": "5429cdee",
   "metadata": {},
   "outputs": [
    {
     "data": {
      "text/plain": [
       "'Salis'"
      ]
     },
     "execution_count": 4,
     "metadata": {},
     "output_type": "execute_result"
    }
   ],
   "source": [
    "#Slicing:\n",
    "\n",
    "family[0]"
   ]
  },
  {
   "cell_type": "code",
   "execution_count": 5,
   "id": "ea6be24a",
   "metadata": {},
   "outputs": [
    {
     "data": {
      "text/plain": [
       "[['Salis', 'Noah', 'Jaffery'], ['Abdullah']]"
      ]
     },
     "execution_count": 5,
     "metadata": {},
     "output_type": "execute_result"
    }
   ],
   "source": [
    "# Nested list\n",
    "total"
   ]
  },
  {
   "cell_type": "code",
   "execution_count": 6,
   "id": "037d6c38",
   "metadata": {},
   "outputs": [
    {
     "data": {
      "text/plain": [
       "['Salis', 'Noah', 'Jaffery']"
      ]
     },
     "execution_count": 6,
     "metadata": {},
     "output_type": "execute_result"
    }
   ],
   "source": [
    "family"
   ]
  },
  {
   "cell_type": "code",
   "execution_count": 7,
   "id": "4d07e6ff",
   "metadata": {},
   "outputs": [],
   "source": [
    "family.append('Yasmeen')"
   ]
  },
  {
   "cell_type": "code",
   "execution_count": 8,
   "id": "1e027d6a",
   "metadata": {},
   "outputs": [
    {
     "data": {
      "text/plain": [
       "['Salis', 'Noah', 'Jaffery', 'Yasmeen']"
      ]
     },
     "execution_count": 8,
     "metadata": {},
     "output_type": "execute_result"
    }
   ],
   "source": [
    "family"
   ]
  },
  {
   "cell_type": "markdown",
   "id": "aed5d9af",
   "metadata": {},
   "source": [
    "# -CRUD\n",
    "\n",
    "create \n",
    "retrieve\n",
    "update\n",
    "delete"
   ]
  },
  {
   "cell_type": "code",
   "execution_count": 9,
   "id": "47896b74",
   "metadata": {},
   "outputs": [],
   "source": [
    "#delete\n",
    "\n",
    "del family[3]"
   ]
  },
  {
   "cell_type": "code",
   "execution_count": 10,
   "id": "b9d1b6ea",
   "metadata": {},
   "outputs": [
    {
     "data": {
      "text/plain": [
       "['Salis', 'Noah', 'Hussein']"
      ]
     },
     "execution_count": 10,
     "metadata": {},
     "output_type": "execute_result"
    }
   ],
   "source": [
    "#update\n",
    "family[2] = 'Hussein'\n",
    "#retrieve\n",
    "\n",
    "family"
   ]
  },
  {
   "cell_type": "code",
   "execution_count": 11,
   "id": "7428870b",
   "metadata": {},
   "outputs": [],
   "source": [
    "p = ['Umair','Ahsan']\n",
    "family.append(p)"
   ]
  },
  {
   "cell_type": "code",
   "execution_count": 12,
   "id": "ea0f8776",
   "metadata": {},
   "outputs": [
    {
     "data": {
      "text/plain": [
       "['Salis', 'Noah', 'Hussein', ['Umair', 'Ahsan']]"
      ]
     },
     "execution_count": 12,
     "metadata": {},
     "output_type": "execute_result"
    }
   ],
   "source": [
    "family"
   ]
  },
  {
   "cell_type": "code",
   "execution_count": 13,
   "id": "cf1ca00d",
   "metadata": {},
   "outputs": [],
   "source": [
    "#2nd to add \n",
    "family.insert(3,'usra')"
   ]
  },
  {
   "cell_type": "code",
   "execution_count": 14,
   "id": "21aa9767",
   "metadata": {},
   "outputs": [
    {
     "data": {
      "text/plain": [
       "['Salis', 'Noah', 'Hussein', 'usra', ['Umair', 'Ahsan']]"
      ]
     },
     "execution_count": 14,
     "metadata": {},
     "output_type": "execute_result"
    }
   ],
   "source": [
    "family"
   ]
  },
  {
   "cell_type": "code",
   "execution_count": 15,
   "id": "34780a43",
   "metadata": {},
   "outputs": [
    {
     "data": {
      "text/plain": [
       "['Umair', 'Ahsan']"
      ]
     },
     "execution_count": 15,
     "metadata": {},
     "output_type": "execute_result"
    }
   ],
   "source": [
    "# 2nd way to delete an element in list\n",
    "family.pop()"
   ]
  },
  {
   "cell_type": "code",
   "execution_count": 16,
   "id": "1ddc538f",
   "metadata": {},
   "outputs": [
    {
     "data": {
      "text/plain": [
       "'Noah'"
      ]
     },
     "execution_count": 16,
     "metadata": {},
     "output_type": "execute_result"
    }
   ],
   "source": [
    "family.pop(1)"
   ]
  },
  {
   "cell_type": "code",
   "execution_count": 17,
   "id": "f672d976",
   "metadata": {},
   "outputs": [],
   "source": [
    "# inplace function:  del permanently and  doesnt display any message"
   ]
  },
  {
   "cell_type": "code",
   "execution_count": 18,
   "id": "c642dcb4",
   "metadata": {},
   "outputs": [
    {
     "data": {
      "text/plain": [
       "['Salis', 'Hussein', 'usra', 'Haroon']"
      ]
     },
     "execution_count": 18,
     "metadata": {},
     "output_type": "execute_result"
    }
   ],
   "source": [
    "family.insert(10,'Haroon')\n",
    "family"
   ]
  },
  {
   "cell_type": "code",
   "execution_count": 19,
   "id": "fc3611b7",
   "metadata": {},
   "outputs": [],
   "source": [
    "# 3rd way to delete an element in list\n",
    "\n",
    "family.remove(family[1])"
   ]
  },
  {
   "cell_type": "code",
   "execution_count": 20,
   "id": "d8edbd4b",
   "metadata": {},
   "outputs": [
    {
     "data": {
      "text/plain": [
       "['Salis', 'usra', 'Haroon']"
      ]
     },
     "execution_count": 20,
     "metadata": {},
     "output_type": "execute_result"
    }
   ],
   "source": [
    "family"
   ]
  },
  {
   "cell_type": "code",
   "execution_count": 21,
   "id": "1693c136",
   "metadata": {},
   "outputs": [],
   "source": [
    "# family.extend('Zulqarnain')\n",
    "\n",
    "# ['Salis', 'usra', 'Haroon', 'Z', 'u', 'l', 'q', 'a', 'r', 'n', 'a', 'i', 'n']\n"
   ]
  },
  {
   "cell_type": "code",
   "execution_count": 22,
   "id": "5c1c3316",
   "metadata": {},
   "outputs": [],
   "source": [
    "# family.reverse()\n",
    "\n",
    "# ['n', 'i', 'a', 'n', 'r', 'a', 'q', 'l', 'u', 'Z', 'Haroon', 'usra', 'Salis']"
   ]
  },
  {
   "cell_type": "code",
   "execution_count": 23,
   "id": "c901b116",
   "metadata": {},
   "outputs": [
    {
     "data": {
      "text/plain": [
       "['Salis', 'usra', 'Haroon']"
      ]
     },
     "execution_count": 23,
     "metadata": {},
     "output_type": "execute_result"
    }
   ],
   "source": [
    "family.copy()"
   ]
  },
  {
   "cell_type": "code",
   "execution_count": 24,
   "id": "1d4a0e5f",
   "metadata": {},
   "outputs": [
    {
     "data": {
      "text/plain": [
       "['Salis', 'usra']"
      ]
     },
     "execution_count": 24,
     "metadata": {},
     "output_type": "execute_result"
    }
   ],
   "source": [
    "family.remove('Haroon')\n",
    "family"
   ]
  },
  {
   "cell_type": "markdown",
   "id": "56abc0ab",
   "metadata": {},
   "source": [
    "# Pass by reference\n",
    "\n"
   ]
  },
  {
   "cell_type": "code",
   "execution_count": 25,
   "id": "ced1fbaa",
   "metadata": {},
   "outputs": [
    {
     "data": {
      "text/plain": [
       "['Salis', 'usra', 'Jibrael']"
      ]
     },
     "execution_count": 25,
     "metadata": {},
     "output_type": "execute_result"
    }
   ],
   "source": [
    "my_family = family\n",
    "\n",
    "#both depends on each other. one changes the another one!\n",
    "\n",
    "my_family.append('Jibrael')\n",
    "family"
   ]
  },
  {
   "cell_type": "markdown",
   "id": "ca2be366",
   "metadata": {},
   "source": [
    "# Pass by value"
   ]
  },
  {
   "cell_type": "code",
   "execution_count": 26,
   "id": "32c80f45",
   "metadata": {},
   "outputs": [],
   "source": [
    "#this will not make an any change in the family list"
   ]
  },
  {
   "cell_type": "code",
   "execution_count": 27,
   "id": "0cb6b28c",
   "metadata": {},
   "outputs": [],
   "source": [
    "my_family2 = family.copy()\n"
   ]
  },
  {
   "cell_type": "code",
   "execution_count": 28,
   "id": "180e1735",
   "metadata": {},
   "outputs": [
    {
     "data": {
      "text/plain": [
       "['Salis', 'usra', 'Jibrael']"
      ]
     },
     "execution_count": 28,
     "metadata": {},
     "output_type": "execute_result"
    }
   ],
   "source": [
    "my_family2"
   ]
  },
  {
   "cell_type": "code",
   "execution_count": 29,
   "id": "aa00c8e5",
   "metadata": {},
   "outputs": [
    {
     "name": "stdout",
     "output_type": "stream",
     "text": [
      "2997024740816\n",
      "2997024740816\n"
     ]
    },
    {
     "data": {
      "text/plain": [
       "2997024740816"
      ]
     },
     "execution_count": 29,
     "metadata": {},
     "output_type": "execute_result"
    }
   ],
   "source": [
    "#Important for exmas\n",
    "a = 100\n",
    "b = a\n",
    "c = b\n",
    "\n",
    "\n",
    "#show location of an element\n",
    "print(id(a))\n",
    "print(id(b))\n",
    "id(c)"
   ]
  },
  {
   "cell_type": "code",
   "execution_count": 30,
   "id": "6f979f32",
   "metadata": {},
   "outputs": [
    {
     "name": "stdout",
     "output_type": "stream",
     "text": [
      "2997024740816\n"
     ]
    }
   ],
   "source": [
    "d = c\n",
    "d !=b \n",
    "print(id(d))"
   ]
  },
  {
   "cell_type": "code",
   "execution_count": 31,
   "id": "376755cf",
   "metadata": {},
   "outputs": [
    {
     "name": "stdout",
     "output_type": "stream",
     "text": [
      "140717399758984\n"
     ]
    }
   ],
   "source": [
    "d = c and d !=b \n",
    "print(id(d))"
   ]
  },
  {
   "cell_type": "code",
   "execution_count": 32,
   "id": "056a953d",
   "metadata": {},
   "outputs": [
    {
     "data": {
      "text/plain": [
       "3"
      ]
     },
     "execution_count": 32,
     "metadata": {},
     "output_type": "execute_result"
    }
   ],
   "source": [
    "len(my_family2)"
   ]
  },
  {
   "cell_type": "code",
   "execution_count": 33,
   "id": "1af1ecbc",
   "metadata": {},
   "outputs": [
    {
     "data": {
      "text/plain": [
       "1"
      ]
     },
     "execution_count": 33,
     "metadata": {},
     "output_type": "execute_result"
    }
   ],
   "source": [
    "my_family.count(\"usra\")"
   ]
  },
  {
   "cell_type": "code",
   "execution_count": 34,
   "id": "fc99a93d",
   "metadata": {},
   "outputs": [],
   "source": [
    "my_family.extend(['bisma','mehak', ])"
   ]
  },
  {
   "cell_type": "code",
   "execution_count": 35,
   "id": "cf3a655f",
   "metadata": {},
   "outputs": [
    {
     "data": {
      "text/plain": [
       "['Salis', 'usra', 'Jibrael', 'bisma', 'mehak']"
      ]
     },
     "execution_count": 35,
     "metadata": {},
     "output_type": "execute_result"
    }
   ],
   "source": [
    "my_family"
   ]
  },
  {
   "cell_type": "code",
   "execution_count": 36,
   "id": "b38347ff",
   "metadata": {},
   "outputs": [],
   "source": [
    "# extends works on those finc where interation can be possible."
   ]
  },
  {
   "cell_type": "code",
   "execution_count": 37,
   "id": "24055203",
   "metadata": {},
   "outputs": [
    {
     "data": {
      "text/plain": [
       "['Salis', 'usra', 'Noah', 'bisma', 'mehak', '12']"
      ]
     },
     "execution_count": 37,
     "metadata": {},
     "output_type": "execute_result"
    }
   ],
   "source": [
    "my_family[2] = 'Noah'\n",
    "my_family.append('12')\n",
    "my_family"
   ]
  },
  {
   "cell_type": "code",
   "execution_count": 38,
   "id": "04093bee",
   "metadata": {},
   "outputs": [],
   "source": [
    "my_family.sort()"
   ]
  },
  {
   "cell_type": "code",
   "execution_count": 39,
   "id": "ff2d7770",
   "metadata": {},
   "outputs": [
    {
     "data": {
      "text/plain": [
       "['12', 'Noah', 'Salis', 'bisma', 'mehak', 'usra']"
      ]
     },
     "execution_count": 39,
     "metadata": {},
     "output_type": "execute_result"
    }
   ],
   "source": [
    "my_family"
   ]
  },
  {
   "cell_type": "code",
   "execution_count": 40,
   "id": "bedd6e55",
   "metadata": {},
   "outputs": [
    {
     "data": {
      "text/plain": [
       "5"
      ]
     },
     "execution_count": 40,
     "metadata": {},
     "output_type": "execute_result"
    }
   ],
   "source": [
    "my_family.index('usra')"
   ]
  },
  {
   "cell_type": "code",
   "execution_count": 41,
   "id": "61ff0684",
   "metadata": {},
   "outputs": [
    {
     "data": {
      "text/plain": [
       "list"
      ]
     },
     "execution_count": 41,
     "metadata": {},
     "output_type": "execute_result"
    }
   ],
   "source": [
    "type(my_family)"
   ]
  },
  {
   "cell_type": "code",
   "execution_count": 42,
   "id": "87b27975",
   "metadata": {},
   "outputs": [
    {
     "data": {
      "text/plain": [
       "6"
      ]
     },
     "execution_count": 42,
     "metadata": {},
     "output_type": "execute_result"
    }
   ],
   "source": [
    "len(my_family)"
   ]
  },
  {
   "cell_type": "code",
   "execution_count": 43,
   "id": "55999c14",
   "metadata": {},
   "outputs": [
    {
     "data": {
      "text/plain": [
       "2997105765440"
      ]
     },
     "execution_count": 43,
     "metadata": {},
     "output_type": "execute_result"
    }
   ],
   "source": [
    "id(my_family)"
   ]
  },
  {
   "cell_type": "code",
   "execution_count": 44,
   "id": "f45ac737",
   "metadata": {},
   "outputs": [
    {
     "data": {
      "text/plain": [
       "97"
      ]
     },
     "execution_count": 44,
     "metadata": {},
     "output_type": "execute_result"
    }
   ],
   "source": [
    "ord('a')"
   ]
  },
  {
   "cell_type": "code",
   "execution_count": 45,
   "id": "406adb39",
   "metadata": {},
   "outputs": [
    {
     "data": {
      "text/plain": [
       "'A'"
      ]
     },
     "execution_count": 45,
     "metadata": {},
     "output_type": "execute_result"
    }
   ],
   "source": [
    "chr(65)"
   ]
  },
  {
   "cell_type": "markdown",
   "id": "50aad30f",
   "metadata": {},
   "source": [
    "# Indexing and Slicing:"
   ]
  },
  {
   "cell_type": "code",
   "execution_count": 46,
   "id": "528582e8",
   "metadata": {},
   "outputs": [],
   "source": [
    "marks = [90,80,89,97,79,56]"
   ]
  },
  {
   "cell_type": "code",
   "execution_count": 47,
   "id": "73bf0808",
   "metadata": {},
   "outputs": [
    {
     "data": {
      "text/plain": [
       "97"
      ]
     },
     "execution_count": 47,
     "metadata": {},
     "output_type": "execute_result"
    }
   ],
   "source": [
    "#indexing\n",
    "marks[3]"
   ]
  },
  {
   "cell_type": "code",
   "execution_count": 48,
   "id": "0167bcf1",
   "metadata": {},
   "outputs": [
    {
     "data": {
      "text/plain": [
       "[97, 79]"
      ]
     },
     "execution_count": 48,
     "metadata": {},
     "output_type": "execute_result"
    }
   ],
   "source": [
    "#slicing\n",
    "marks[3:-1]"
   ]
  },
  {
   "cell_type": "code",
   "execution_count": 49,
   "id": "2ed022ac",
   "metadata": {},
   "outputs": [
    {
     "data": {
      "text/plain": [
       "[97, 79, 56]"
      ]
     },
     "execution_count": 49,
     "metadata": {},
     "output_type": "execute_result"
    }
   ],
   "source": [
    "marks[3:]"
   ]
  },
  {
   "cell_type": "code",
   "execution_count": 50,
   "id": "9d1ad01c",
   "metadata": {},
   "outputs": [
    {
     "data": {
      "text/plain": [
       "[90, 80, 89, 97, 79]"
      ]
     },
     "execution_count": 50,
     "metadata": {},
     "output_type": "execute_result"
    }
   ],
   "source": [
    "marks[:5]"
   ]
  },
  {
   "cell_type": "code",
   "execution_count": 51,
   "id": "4ef36891",
   "metadata": {},
   "outputs": [
    {
     "data": {
      "text/plain": [
       "[90, 80, 89, 97, 79, 56]"
      ]
     },
     "execution_count": 51,
     "metadata": {},
     "output_type": "execute_result"
    }
   ],
   "source": [
    "marks[:]"
   ]
  },
  {
   "cell_type": "code",
   "execution_count": 52,
   "id": "40776510",
   "metadata": {},
   "outputs": [],
   "source": [
    "#sorting and reversing a number lsit(list)"
   ]
  },
  {
   "cell_type": "code",
   "execution_count": 53,
   "id": "e4587a64",
   "metadata": {},
   "outputs": [],
   "source": [
    "marks.sort()"
   ]
  },
  {
   "cell_type": "code",
   "execution_count": 54,
   "id": "c1b8a5fc",
   "metadata": {},
   "outputs": [
    {
     "data": {
      "text/plain": [
       "[56, 79, 80, 89, 90, 97]"
      ]
     },
     "execution_count": 54,
     "metadata": {},
     "output_type": "execute_result"
    }
   ],
   "source": [
    "marks"
   ]
  },
  {
   "cell_type": "code",
   "execution_count": 55,
   "id": "e8d6d8f8",
   "metadata": {},
   "outputs": [],
   "source": [
    "marks.reverse()"
   ]
  },
  {
   "cell_type": "code",
   "execution_count": 56,
   "id": "e9c1b265",
   "metadata": {},
   "outputs": [
    {
     "data": {
      "text/plain": [
       "[97, 90, 89, 80, 79, 56]"
      ]
     },
     "execution_count": 56,
     "metadata": {},
     "output_type": "execute_result"
    }
   ],
   "source": [
    "marks"
   ]
  },
  {
   "cell_type": "code",
   "execution_count": 57,
   "id": "d3b7932b",
   "metadata": {},
   "outputs": [
    {
     "data": {
      "text/plain": [
       "[97, 90, 89, 80, 79, 56]"
      ]
     },
     "execution_count": 57,
     "metadata": {},
     "output_type": "execute_result"
    }
   ],
   "source": [
    "marks[0:7]"
   ]
  },
  {
   "cell_type": "code",
   "execution_count": 58,
   "id": "33e88c5d",
   "metadata": {},
   "outputs": [
    {
     "data": {
      "text/plain": [
       "[97, 90, 89, 80, 79, 56]"
      ]
     },
     "execution_count": 58,
     "metadata": {},
     "output_type": "execute_result"
    }
   ],
   "source": [
    "marks[0:7:1]"
   ]
  },
  {
   "cell_type": "code",
   "execution_count": 59,
   "id": "fe549e31",
   "metadata": {},
   "outputs": [
    {
     "data": {
      "text/plain": [
       "[97, 90]"
      ]
     },
     "execution_count": 59,
     "metadata": {},
     "output_type": "execute_result"
    }
   ],
   "source": [
    "marks[0:2]"
   ]
  },
  {
   "cell_type": "code",
   "execution_count": 60,
   "id": "66a6233b",
   "metadata": {},
   "outputs": [
    {
     "data": {
      "text/plain": [
       "[97, 89, 79]"
      ]
     },
     "execution_count": 60,
     "metadata": {},
     "output_type": "execute_result"
    }
   ],
   "source": [
    "marks[0:7:2]"
   ]
  },
  {
   "cell_type": "markdown",
   "id": "c1a367c1",
   "metadata": {},
   "source": [
    "ALL To ALL : executes a list from right to left"
   ]
  },
  {
   "cell_type": "code",
   "execution_count": 61,
   "id": "ae9aa9a5",
   "metadata": {},
   "outputs": [
    {
     "data": {
      "text/plain": [
       "[56, 79, 80, 89, 90, 97]"
      ]
     },
     "execution_count": 61,
     "metadata": {},
     "output_type": "execute_result"
    }
   ],
   "source": [
    "marks[::-1]"
   ]
  },
  {
   "cell_type": "code",
   "execution_count": 62,
   "id": "ae87902f",
   "metadata": {},
   "outputs": [
    {
     "data": {
      "text/plain": [
       "[56, 80, 90]"
      ]
     },
     "execution_count": 62,
     "metadata": {},
     "output_type": "execute_result"
    }
   ],
   "source": [
    "marks[::-2]"
   ]
  },
  {
   "cell_type": "code",
   "execution_count": 63,
   "id": "6fd4c8d8",
   "metadata": {},
   "outputs": [
    {
     "data": {
      "text/plain": [
       "[56, 90]"
      ]
     },
     "execution_count": 63,
     "metadata": {},
     "output_type": "execute_result"
    }
   ],
   "source": [
    "marks[::-4]"
   ]
  },
  {
   "cell_type": "code",
   "execution_count": 64,
   "id": "2802186d",
   "metadata": {},
   "outputs": [
    {
     "data": {
      "text/plain": [
       "[]"
      ]
     },
     "execution_count": 64,
     "metadata": {},
     "output_type": "execute_result"
    }
   ],
   "source": [
    "marks[-4:-1:-2]"
   ]
  },
  {
   "cell_type": "code",
   "execution_count": 65,
   "id": "af320332",
   "metadata": {},
   "outputs": [
    {
     "data": {
      "text/plain": [
       "[56, 80]"
      ]
     },
     "execution_count": 65,
     "metadata": {},
     "output_type": "execute_result"
    }
   ],
   "source": [
    "marks[-1:-4:-2]"
   ]
  },
  {
   "cell_type": "code",
   "execution_count": 66,
   "id": "e5376d3c",
   "metadata": {},
   "outputs": [
    {
     "data": {
      "text/plain": [
       "[97, 90, 89, 80, 79, 56]"
      ]
     },
     "execution_count": 66,
     "metadata": {},
     "output_type": "execute_result"
    }
   ],
   "source": [
    "marks"
   ]
  }
 ],
 "metadata": {
  "kernelspec": {
   "display_name": "Python 3 (ipykernel)",
   "language": "python",
   "name": "python3"
  },
  "language_info": {
   "codemirror_mode": {
    "name": "ipython",
    "version": 3
   },
   "file_extension": ".py",
   "mimetype": "text/x-python",
   "name": "python",
   "nbconvert_exporter": "python",
   "pygments_lexer": "ipython3",
   "version": "3.9.7"
  }
 },
 "nbformat": 4,
 "nbformat_minor": 5
}
