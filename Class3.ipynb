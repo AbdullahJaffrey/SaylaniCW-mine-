{
 "cells": [
  {
   "cell_type": "markdown",
   "id": "28135bf6",
   "metadata": {},
   "source": [
    "# Double Type casting:"
   ]
  },
  {
   "cell_type": "code",
   "execution_count": 1,
   "id": "b6b78304",
   "metadata": {},
   "outputs": [],
   "source": [
    "#class2 (17-5-2022)"
   ]
  },
  {
   "cell_type": "code",
   "execution_count": 2,
   "id": "a84f5b54",
   "metadata": {},
   "outputs": [
    {
     "name": "stdout",
     "output_type": "stream",
     "text": [
      "Here's the input: 2\n",
      "2\n"
     ]
    }
   ],
   "source": [
    "print(int(input(\"Here's the input: \")))"
   ]
  },
  {
   "cell_type": "code",
   "execution_count": 3,
   "id": "0dacc4f2",
   "metadata": {},
   "outputs": [
    {
     "name": "stdout",
     "output_type": "stream",
     "text": [
      "Here's the input: 2.5\n",
      "2\n"
     ]
    }
   ],
   "source": [
    "print(int(float(input(\"Here's the input: \"))))"
   ]
  },
  {
   "cell_type": "code",
   "execution_count": 4,
   "id": "abe6d902",
   "metadata": {},
   "outputs": [
    {
     "data": {
      "text/plain": [
       "\"My name is A.jaffery and i'm 22 years old\""
      ]
     },
     "execution_count": 4,
     "metadata": {},
     "output_type": "execute_result"
    }
   ],
   "source": [
    "\"My name is {} and i'm {} years old\".format(\"A.jaffery\", 22)"
   ]
  },
  {
   "cell_type": "code",
   "execution_count": 5,
   "id": "f816dff9",
   "metadata": {},
   "outputs": [
    {
     "data": {
      "text/plain": [
       "\"My name is A.jaffery and i'm 22 years old, My name is A.jaffery \""
      ]
     },
     "execution_count": 5,
     "metadata": {},
     "output_type": "execute_result"
    }
   ],
   "source": [
    "\"My name is {0} and i'm {1} years old, My name is {0} \".format(\"A.jaffery\", 22)"
   ]
  },
  {
   "cell_type": "code",
   "execution_count": 6,
   "id": "fc20d40c",
   "metadata": {},
   "outputs": [],
   "source": [
    "a= \"Pakistan\""
   ]
  },
  {
   "cell_type": "code",
   "execution_count": 7,
   "id": "8df0c108",
   "metadata": {},
   "outputs": [
    {
     "name": "stdout",
     "output_type": "stream",
     "text": [
      "We are in Pakistan\n"
     ]
    }
   ],
   "source": [
    "print(\"We are in {}\".format(a))"
   ]
  },
  {
   "cell_type": "markdown",
   "id": "bba036fb",
   "metadata": {},
   "source": [
    "# Another way to formats a string:"
   ]
  },
  {
   "cell_type": "code",
   "execution_count": 8,
   "id": "b768f839",
   "metadata": {},
   "outputs": [
    {
     "name": "stdout",
     "output_type": "stream",
     "text": [
      "We are in Pakistan\n"
     ]
    }
   ],
   "source": [
    "print(f\"We are in {a}\")"
   ]
  },
  {
   "cell_type": "code",
   "execution_count": 9,
   "id": "ceba62d1",
   "metadata": {},
   "outputs": [
    {
     "name": "stdout",
     "output_type": "stream",
     "text": [
      "we have 4 bananas.\n"
     ]
    }
   ],
   "source": [
    "b = 4\n",
    "print(f\"we have {b} bananas.\")"
   ]
  },
  {
   "cell_type": "code",
   "execution_count": 10,
   "id": "3e81d8d6",
   "metadata": {},
   "outputs": [
    {
     "name": "stdout",
     "output_type": "stream",
     "text": [
      "we have 4 bananas.\n"
     ]
    }
   ],
   "source": [
    "b = 4\n",
    "print(f\"we have {b} bananas.\")"
   ]
  },
  {
   "cell_type": "code",
   "execution_count": 11,
   "id": "e0925699",
   "metadata": {},
   "outputs": [
    {
     "name": "stdout",
     "output_type": "stream",
     "text": [
      "Here's the display string\n"
     ]
    }
   ],
   "source": [
    "print(\"Here's the display string\")"
   ]
  },
  {
   "cell_type": "code",
   "execution_count": 12,
   "id": "741ab912",
   "metadata": {},
   "outputs": [
    {
     "name": "stdout",
     "output_type": "stream",
     "text": [
      "\"Here's the \"display\" string\n"
     ]
    }
   ],
   "source": [
    "print('''\"Here's the \"display\" string''')"
   ]
  },
  {
   "cell_type": "code",
   "execution_count": 13,
   "id": "cc3908be",
   "metadata": {},
   "outputs": [
    {
     "name": "stdout",
     "output_type": "stream",
     "text": [
      "Here's the \"display\" string\n"
     ]
    }
   ],
   "source": [
    "print(\"Here's the \\\"display\\\" string\")"
   ]
  },
  {
   "cell_type": "code",
   "execution_count": 14,
   "id": "cbde7afc",
   "metadata": {},
   "outputs": [
    {
     "name": "stdout",
     "output_type": "stream",
     "text": [
      "\n",
      "\n",
      "\"Saylani Mass Training\" \n",
      "\n",
      "Name :\"Nasir\" \n",
      "course: \"AI and DS\"\n",
      "class timing: \"7-10\"\n",
      "\n"
     ]
    }
   ],
   "source": [
    "print('''\n",
    "\n",
    "\"Saylani Mass Training\" \\n\n",
    "Name :\"Nasir\" \n",
    "course: \"AI and DS\"\n",
    "class timing: \"7-10\"\n",
    "''')"
   ]
  },
  {
   "cell_type": "code",
   "execution_count": 15,
   "id": "7e14e59a",
   "metadata": {},
   "outputs": [
    {
     "name": "stdout",
     "output_type": "stream",
     "text": [
      "\n",
      "\n",
      "\"Saylani Mass Training\" \n",
      "\n",
      " Name :\"Nasir\" \n",
      " course: \"AI and DS\"  \n",
      " class timing: \"7-10\"\n",
      "\n"
     ]
    }
   ],
   "source": [
    "print('''\n",
    "\n",
    "\"Saylani Mass Training\" \\n\\n Name :\"Nasir\" \\n course: \"AI and DS\"  \\n class timing: \"7-10\"\n",
    "''')"
   ]
  },
  {
   "cell_type": "code",
   "execution_count": 16,
   "id": "183f19a9",
   "metadata": {},
   "outputs": [
    {
     "name": "stdout",
     "output_type": "stream",
     "text": [
      "Input Here Abdullah\n",
      "Input Here DSAI\n",
      "Input Here 7pm-10pm\n",
      "\n",
      "\n",
      "\"Saylani Mass Training\" \n",
      "\n",
      "Name : Abdullah \n",
      "course: DSAI\n",
      "class timing: 7pm-10pm\n",
      "\n"
     ]
    }
   ],
   "source": [
    "Name = input('Input Here ')\n",
    "Course = input('Input Here ')\n",
    "classT = input('Input Here ')\n",
    "\n",
    "\n",
    "print(f'''\n",
    "\n",
    "\"Saylani Mass Training\" \\n\n",
    "Name : {Name} \n",
    "course: {Course}\n",
    "class timing: {classT}\n",
    "''')"
   ]
  },
  {
   "cell_type": "code",
   "execution_count": 17,
   "id": "e6d23982",
   "metadata": {},
   "outputs": [
    {
     "name": "stdout",
     "output_type": "stream",
     "text": [
      "Enter here Abdullah\n",
      "Enter here DS-AI\n",
      "Enter here 7pm - 10pm\n",
      "Enter here 49786\n"
     ]
    }
   ],
   "source": [
    "Name = input('Enter here ')\n",
    "Course = input('Enter here ')\n",
    "classT = input('Enter here ')\n",
    "Id = int(input('Enter here '))"
   ]
  },
  {
   "cell_type": "code",
   "execution_count": 18,
   "id": "13819471",
   "metadata": {},
   "outputs": [
    {
     "name": "stdout",
     "output_type": "stream",
     "text": [
      "\n",
      "\n",
      "\b \"You are studing '\u001b[1m'DS-AI'\u001b[1m' in \"Saylani Mass Training\" \b \n",
      "\n",
      "Your Name : Abdullah \n",
      "Your Id: 49786\n",
      "class timing: 7pm - 10pm\n",
      "\n"
     ]
    }
   ],
   "source": [
    "print(f'''\n",
    "\n",
    "\\b \"You are studing '\\033[1m'{Course}'\\033[1m' in \"Saylani Mass Training\" \\b \\n\n",
    "Your Name : {Name} \n",
    "Your Id: {Id}\n",
    "class timing: {classT}\n",
    "''')"
   ]
  },
  {
   "cell_type": "code",
   "execution_count": 19,
   "id": "94b949a2",
   "metadata": {},
   "outputs": [
    {
     "name": "stdout",
     "output_type": "stream",
     "text": [
      "\n",
      "\n",
      "\b \"You are studing '\u001b[1m'DS-AI'\u001b[1m' in \"Saylani Mass Training\" \b \n",
      "\n",
      "Your Name : Abdullah \n",
      "Your Id: 49786\n",
      "class timing: 7pm - 10pm\n",
      "\n"
     ]
    }
   ],
   "source": [
    "card = print(f'''\n",
    "\n",
    "\\b \"You are studing '\\033[1m'{Course}'\\033[1m' in \"Saylani Mass Training\" \\b \\n\n",
    "Your Name : {Name} \n",
    "Your Id: {Id}\n",
    "class timing: {classT}\n",
    "''')"
   ]
  },
  {
   "cell_type": "code",
   "execution_count": 20,
   "id": "0eade81c",
   "metadata": {},
   "outputs": [],
   "source": [
    "country = 'Pakistan'"
   ]
  },
  {
   "cell_type": "code",
   "execution_count": 21,
   "id": "c799d1ad",
   "metadata": {},
   "outputs": [
    {
     "data": {
      "text/plain": [
       "'Pakistan'"
      ]
     },
     "execution_count": 21,
     "metadata": {},
     "output_type": "execute_result"
    }
   ],
   "source": [
    "country.capitalize()"
   ]
  },
  {
   "cell_type": "markdown",
   "id": "0368841b",
   "metadata": {},
   "source": [
    "# Checking either the word exist or not"
   ]
  },
  {
   "cell_type": "code",
   "execution_count": 22,
   "id": "f8938e17",
   "metadata": {},
   "outputs": [],
   "source": [
    "para = \"we are studying AI & Ds in Saylani Mass Training\""
   ]
  },
  {
   "cell_type": "code",
   "execution_count": 23,
   "id": "4f4b4e6d",
   "metadata": {},
   "outputs": [
    {
     "data": {
      "text/plain": [
       "16"
      ]
     },
     "execution_count": 23,
     "metadata": {},
     "output_type": "execute_result"
    }
   ],
   "source": [
    "para.find(\"AI\")"
   ]
  },
  {
   "cell_type": "code",
   "execution_count": 24,
   "id": "575128c3",
   "metadata": {},
   "outputs": [
    {
     "data": {
      "text/plain": [
       "-1"
      ]
     },
     "execution_count": 24,
     "metadata": {},
     "output_type": "execute_result"
    }
   ],
   "source": [
    "para.find(\"SMIT\")"
   ]
  },
  {
   "cell_type": "code",
   "execution_count": 25,
   "id": "fc170b70",
   "metadata": {},
   "outputs": [
    {
     "data": {
      "text/plain": [
       "50"
      ]
     },
     "execution_count": 25,
     "metadata": {},
     "output_type": "execute_result"
    }
   ],
   "source": [
    "para = \"we are studying AI & Ds in Saylani Mass Training, AI\"\n",
    "para.find(\"AI\",17)"
   ]
  },
  {
   "cell_type": "code",
   "execution_count": 26,
   "id": "ac1b1129",
   "metadata": {},
   "outputs": [
    {
     "data": {
      "text/plain": [
       "'we are studying ai & ds in saylani mass training, ai'"
      ]
     },
     "execution_count": 26,
     "metadata": {},
     "output_type": "execute_result"
    }
   ],
   "source": [
    "para.casefold()"
   ]
  },
  {
   "cell_type": "code",
   "execution_count": 27,
   "id": "1138831c",
   "metadata": {},
   "outputs": [
    {
     "data": {
      "text/plain": [
       "'HELLO WORLD'"
      ]
     },
     "execution_count": 27,
     "metadata": {},
     "output_type": "execute_result"
    }
   ],
   "source": [
    "Para2 = para.replace(para, 'HELLO WORLD')\n",
    "Para2"
   ]
  },
  {
   "cell_type": "code",
   "execution_count": 28,
   "id": "485ca638",
   "metadata": {},
   "outputs": [
    {
     "data": {
      "text/plain": [
       "'ORL'"
      ]
     },
     "execution_count": 28,
     "metadata": {},
     "output_type": "execute_result"
    }
   ],
   "source": [
    "Para2[7:-1]"
   ]
  },
  {
   "cell_type": "code",
   "execution_count": 29,
   "id": "ec0cfd17",
   "metadata": {},
   "outputs": [
    {
     "data": {
      "text/plain": [
       "'E'"
      ]
     },
     "execution_count": 29,
     "metadata": {},
     "output_type": "execute_result"
    }
   ],
   "source": [
    "Para2[-10]"
   ]
  },
  {
   "cell_type": "code",
   "execution_count": 30,
   "id": "ecca5cad",
   "metadata": {},
   "outputs": [
    {
     "data": {
      "text/plain": [
       "True"
      ]
     },
     "execution_count": 30,
     "metadata": {},
     "output_type": "execute_result"
    }
   ],
   "source": [
    "Para2.startswith(\"H\" or \"L\")"
   ]
  },
  {
   "cell_type": "code",
   "execution_count": 31,
   "id": "aa89a054",
   "metadata": {},
   "outputs": [
    {
     "data": {
      "text/plain": [
       "11"
      ]
     },
     "execution_count": 31,
     "metadata": {},
     "output_type": "execute_result"
    }
   ],
   "source": [
    "len(Para2)"
   ]
  },
  {
   "cell_type": "code",
   "execution_count": 32,
   "id": "e380f4fe",
   "metadata": {},
   "outputs": [
    {
     "data": {
      "text/plain": [
       "['HELLO', 'WORLD']"
      ]
     },
     "execution_count": 32,
     "metadata": {},
     "output_type": "execute_result"
    }
   ],
   "source": [
    "Para2.rsplit(\" \")"
   ]
  },
  {
   "cell_type": "code",
   "execution_count": 33,
   "id": "3687955c",
   "metadata": {},
   "outputs": [
    {
     "name": "stdout",
     "output_type": "stream",
     "text": [
      "<---------    SHARE     --------->    \n",
      "  <---------    SHARE     --------->\n",
      "<---------    SHARE     --------->\n"
     ]
    }
   ],
   "source": [
    "Para3 = \"  <---------    SHARE     --------->    \"\n",
    "\n",
    "print(Para3.lstrip())\n",
    "print(Para3.rstrip())\n",
    "print(Para3.strip())"
   ]
  },
  {
   "cell_type": "code",
   "execution_count": 34,
   "id": "77dfc48b",
   "metadata": {},
   "outputs": [
    {
     "data": {
      "text/plain": [
       "False"
      ]
     },
     "execution_count": 34,
     "metadata": {},
     "output_type": "execute_result"
    }
   ],
   "source": [
    "Para3.isalpha()"
   ]
  },
  {
   "cell_type": "code",
   "execution_count": 35,
   "id": "c8ff7cdb",
   "metadata": {},
   "outputs": [],
   "source": [
    "a = \"string\""
   ]
  },
  {
   "cell_type": "code",
   "execution_count": 36,
   "id": "32a234ea",
   "metadata": {},
   "outputs": [
    {
     "data": {
      "text/plain": [
       "'astringbstringf'"
      ]
     },
     "execution_count": 36,
     "metadata": {},
     "output_type": "execute_result"
    }
   ],
   "source": [
    "a.join(['a','b','f'])"
   ]
  },
  {
   "cell_type": "code",
   "execution_count": 37,
   "id": "808dbf1b",
   "metadata": {},
   "outputs": [],
   "source": [
    "sen = 'string'"
   ]
  },
  {
   "cell_type": "code",
   "execution_count": 38,
   "id": "6e589d96",
   "metadata": {},
   "outputs": [],
   "source": [
    "# Sine string is an iterable, seach one o one and prints it ."
   ]
  },
  {
   "cell_type": "code",
   "execution_count": 39,
   "id": "0197f5ee",
   "metadata": {},
   "outputs": [
    {
     "data": {
      "text/plain": [
       "'s-t-r-i-n-g'"
      ]
     },
     "execution_count": 39,
     "metadata": {},
     "output_type": "execute_result"
    }
   ],
   "source": [
    "'-'.join(sen)"
   ]
  },
  {
   "cell_type": "code",
   "execution_count": 40,
   "id": "afd3ac4a",
   "metadata": {},
   "outputs": [],
   "source": [
    "# Saylani timings now :\n",
    "        \n",
    "# Monday and thursday\n",
    "\n",
    "# 7-10"
   ]
  }
 ],
 "metadata": {
  "kernelspec": {
   "display_name": "Python 3 (ipykernel)",
   "language": "python",
   "name": "python3"
  },
  "language_info": {
   "codemirror_mode": {
    "name": "ipython",
    "version": 3
   },
   "file_extension": ".py",
   "mimetype": "text/x-python",
   "name": "python",
   "nbconvert_exporter": "python",
   "pygments_lexer": "ipython3",
   "version": "3.9.7"
  }
 },
 "nbformat": 4,
 "nbformat_minor": 5
}
