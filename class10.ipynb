{
 "cells": [
  {
   "cell_type": "code",
   "execution_count": 1,
   "id": "cae128d7",
   "metadata": {},
   "outputs": [],
   "source": [
    "#new class 10: Jun 9, 2022, 7:24 PM"
   ]
  },
  {
   "cell_type": "code",
   "execution_count": 2,
   "id": "b4e60883",
   "metadata": {},
   "outputs": [
    {
     "name": "stdout",
     "output_type": "stream",
     "text": [
      "Koala\n",
      "Cat\n",
      "Fox\n"
     ]
    }
   ],
   "source": [
    "lists  = [\"Koala\",\"Cat\",\"Fox\"]\n",
    "for i in lists:\n",
    "    print(i)"
   ]
  },
  {
   "cell_type": "code",
   "execution_count": 3,
   "id": "610b75c2",
   "metadata": {},
   "outputs": [
    {
     "name": "stdout",
     "output_type": "stream",
     "text": [
      "Welcome Sam\n",
      "Welcome Micheal\n",
      "Welcome Noah\n",
      "Welcome Lisa\n"
     ]
    }
   ],
   "source": [
    "lists  = [\"Sam\",\"Micheal\",\"Noah\",\"Lisa\"]\n",
    "for i in lists:\n",
    "    print(f\"Welcome {i}\")"
   ]
  },
  {
   "cell_type": "code",
   "execution_count": 4,
   "id": "0ade2f45",
   "metadata": {},
   "outputs": [
    {
     "name": "stdout",
     "output_type": "stream",
     "text": [
      "A\n",
      "n\n",
      "t\n",
      "a\n",
      "r\n",
      "c\n",
      "t\n",
      "i\n",
      "c\n",
      "a\n"
     ]
    }
   ],
   "source": [
    "str1 =  'Antarctica'\n",
    "\n",
    "for i in str1:\n",
    "    print(i)"
   ]
  },
  {
   "cell_type": "code",
   "execution_count": 5,
   "id": "06fbd50f",
   "metadata": {},
   "outputs": [
    {
     "name": "stdout",
     "output_type": "stream",
     "text": [
      "['Phil', 'Oz', 'Seuss', 'Dre']\n"
     ]
    }
   ],
   "source": [
    "#Write a for loop so that every item in the list is printed.\n",
    "\n",
    "\n",
    "lst1=[\"Phil\", \"Oz\", \"Seuss\", \"Dre\"]\n",
    "lst2=[]\n",
    "#Type your answer here.\n",
    "\n",
    "for i in lst1:\n",
    "    lst2.append(i)\n",
    "\n",
    "\n",
    "\n",
    "print(lst2)"
   ]
  },
  {
   "cell_type": "code",
   "execution_count": 6,
   "id": "60fe30df",
   "metadata": {},
   "outputs": [
    {
     "name": "stdout",
     "output_type": "stream",
     "text": [
      "['Phil', 'Oz', 'Seuss', 'Dre', 'Phil', 'Oz', 'Seuss', 'Dre']\n"
     ]
    }
   ],
   "source": [
    "#Jun 9, 2022, 7:44 PM\n",
    "\n",
    "\n",
    "#Type your answer here.\n",
    "\n",
    "for i in lst1:\n",
    "    lst2.append(i)\n",
    "\n",
    "print(lst2)"
   ]
  },
  {
   "cell_type": "code",
   "execution_count": 7,
   "id": "5c05df9d",
   "metadata": {},
   "outputs": [
    {
     "name": "stdout",
     "output_type": "stream",
     "text": [
      "[9, 49, 36, 64, 81, 121, 225, 625]\n"
     ]
    }
   ],
   "source": [
    "\n",
    "#Write a for loop which appends the square of each number to the new list.\n",
    "lst1=[3, 7, 6, 8, 9, 11, 15, 25]\n",
    "lst2=[]\n",
    "#Type your answer here.\n",
    "\n",
    "for i in lst1:\n",
    "    n = i**2\n",
    "    lst2.append(n)\n",
    "\n",
    "print(lst2)"
   ]
  },
  {
   "cell_type": "code",
   "execution_count": 8,
   "id": "fd8d13f4",
   "metadata": {},
   "outputs": [
    {
     "name": "stdout",
     "output_type": "stream",
     "text": [
      "[<class 'float'>, <class 'int'>, <class 'str'>, <class 'bool'>, <class 'list'>, <class 'dict'>]\n"
     ]
    }
   ],
   "source": [
    "lst1=[3.14, 66, \"Teddy Bear\", True, [], {}]\n",
    "lst2=[]\n",
    "#Type your answer here.\n",
    "\n",
    "\n",
    "for i in lst1:\n",
    "    n = type(i)\n",
    "    lst2.append(n)\n",
    "\n",
    "print(lst2)"
   ]
  },
  {
   "cell_type": "code",
   "execution_count": 9,
   "id": "658e70f3",
   "metadata": {},
   "outputs": [
    {
     "name": "stdout",
     "output_type": "stream",
     "text": [
      "12\n"
     ]
    }
   ],
   "source": [
    "str=\"Civilization\"\n",
    "\n",
    "c=0\n",
    "for i in str:\n",
    "    c=c+1\n",
    "print(c)"
   ]
  },
  {
   "cell_type": "code",
   "execution_count": 10,
   "id": "bd566063",
   "metadata": {},
   "outputs": [
    {
     "name": "stdout",
     "output_type": "stream",
     "text": [
      "n\n",
      "a\n",
      "t\n",
      "s\n",
      "i\n",
      "k\n",
      "a\n",
      "P\n"
     ]
    }
   ],
   "source": [
    "name = 'Pakistan'\n",
    "\n",
    "for char in name[::-1]:\n",
    "    print(char)"
   ]
  },
  {
   "cell_type": "code",
   "execution_count": 11,
   "id": "d9fe0aaa",
   "metadata": {},
   "outputs": [
    {
     "name": "stdout",
     "output_type": "stream",
     "text": [
      "Nasir Hussain\n",
      "Asad Rafiq\n",
      "Umer Khan\n",
      "Saad Rehman\n"
     ]
    }
   ],
   "source": [
    "#MEthod 1:\n",
    "lst1=['Nasir','Asad','Umer','Saad']\n",
    "lst2 = ['Hussain', 'Rafiq','Khan','Rehman']\n",
    "\n",
    "for name in lst1:\n",
    "    print(name +\" \" + lst2[lst1.index(name)])"
   ]
  },
  {
   "cell_type": "code",
   "execution_count": 12,
   "id": "886a41e0",
   "metadata": {},
   "outputs": [
    {
     "name": "stdout",
     "output_type": "stream",
     "text": [
      "Nasir Hussain\n",
      "Asad Rafiq\n",
      "Umer Khan\n",
      "Saad Rehman\n"
     ]
    }
   ],
   "source": [
    "# MEthod 2:\n",
    "\n",
    "lst1=['Nasir','Asad','Umer','Saad']\n",
    "lst2 = ['Hussain', 'Rafiq','Khan','Rehman']\n",
    "\n",
    "for name in lst1:\n",
    "    print(f'{name} {lst2[lst1.index(name)]}')"
   ]
  },
  {
   "cell_type": "code",
   "execution_count": 13,
   "id": "cc9f689f",
   "metadata": {},
   "outputs": [
    {
     "data": {
      "text/plain": [
       "'Hussain'"
      ]
     },
     "execution_count": 13,
     "metadata": {},
     "output_type": "execute_result"
    }
   ],
   "source": [
    "lst1.index('Nasir')\n",
    "lst2[lst1.index('Nasir')]"
   ]
  },
  {
   "cell_type": "code",
   "execution_count": 14,
   "id": "1463ccc5",
   "metadata": {},
   "outputs": [
    {
     "name": "stdout",
     "output_type": "stream",
     "text": [
      "0 0\n",
      "1 1\n",
      "2 2\n",
      "3 3\n",
      "4 4\n",
      "5 5\n",
      "6 6\n",
      "7 7\n",
      "8 8\n"
     ]
    }
   ],
   "source": [
    "val1 = list(range(0,9))\n",
    "val2 = list(range(0,9))\n",
    "\n",
    "for i in val1:\n",
    "    print(f'{i} {val2[val1.index(i)]}')"
   ]
  },
  {
   "cell_type": "markdown",
   "id": "398091ce",
   "metadata": {},
   "source": [
    "# Dictionary:"
   ]
  },
  {
   "cell_type": "code",
   "execution_count": 15,
   "id": "7eb8a16c",
   "metadata": {},
   "outputs": [
    {
     "data": {
      "text/plain": [
       "dict"
      ]
     },
     "execution_count": 15,
     "metadata": {},
     "output_type": "execute_result"
    }
   ],
   "source": [
    "# empty dictionary\n",
    "dictionary = {}\n",
    "type(dictionary)"
   ]
  },
  {
   "cell_type": "code",
   "execution_count": 16,
   "id": "fd75dc80",
   "metadata": {},
   "outputs": [
    {
     "name": "stdout",
     "output_type": "stream",
     "text": [
      "\n",
      " Step1\n",
      "{'name': 'saylani', 'campus': 'gulshan'}\n",
      "\n",
      " Step2\n",
      "gulshan\n",
      "\n",
      " Step3\n",
      "{'name': 'saylani', 'campus': 'gulshan', 'teacher': 'Nasir'}\n"
     ]
    }
   ],
   "source": [
    "# how to create a dictionary:\n",
    "print('\\n Step1')\n",
    "dictionary= {'name':'saylani', 'campus':'gulshan'}\n",
    "\n",
    "print(dictionary)\n",
    "\n",
    "#accessing data with key:\n",
    "print('\\n Step2')\n",
    "print(dictionary['campus'])\n",
    "\n",
    "#to insert a new value:\n",
    "print('\\n Step3')\n",
    "dictionary['teacher'] = 'Nasir'\n",
    "print(dictionary)"
   ]
  },
  {
   "cell_type": "code",
   "execution_count": 17,
   "id": "c1e24ac5",
   "metadata": {},
   "outputs": [
    {
     "name": "stdout",
     "output_type": "stream",
     "text": [
      "{'name': 'Saylani', 'campus': 'Gulshan', 'course': 'DSAI'}\n",
      "{'name': 'Saylani', 'campus': 'Gulshan', 'course': 'DSAI', 'teacher': 'Nasir'}\n"
     ]
    },
    {
     "data": {
      "text/plain": [
       "{'name': 'Saylani',\n",
       " 'campus': 'Gulshan',\n",
       " 'course': 'DSAI',\n",
       " 'teacher': 'Abdullah'}"
      ]
     },
     "execution_count": 17,
     "metadata": {},
     "output_type": "execute_result"
    }
   ],
   "source": [
    "# adictionary with keys nad vaLUES\n",
    "dictionary={'name':'Saylani', 'campus':'Gulshan', 'course':'DSAI'}\n",
    " #             key    value       key    value       key    value\n",
    "print(dictionary)\n",
    "\n",
    "#Inserting a value \n",
    "dictionary['teacher']=\"Nasir\"\n",
    "print(dictionary)\n",
    "\n",
    "\n",
    "# UPDAting a values against a key\n",
    "\n",
    "dictionary['teacher']=\"Abdullah\"\n",
    "dictionary"
   ]
  },
  {
   "cell_type": "code",
   "execution_count": 18,
   "id": "a881b633",
   "metadata": {},
   "outputs": [
    {
     "data": {
      "text/plain": [
       "{'name': 'Saylani', 'campus': 'Gulshan', 'teacher': 'Abdullah'}"
      ]
     },
     "execution_count": 18,
     "metadata": {},
     "output_type": "execute_result"
    }
   ],
   "source": [
    "# deleting a part a dict\n",
    "del dictionary['course']\n",
    "dictionary"
   ]
  },
  {
   "cell_type": "code",
   "execution_count": 19,
   "id": "28f5b89e",
   "metadata": {},
   "outputs": [
    {
     "data": {
      "text/plain": [
       "{'babar': 45, 'rizwan': 89, 'fakhar': 7}"
      ]
     },
     "execution_count": 19,
     "metadata": {},
     "output_type": "execute_result"
    }
   ],
   "source": [
    "score = {'babar':45, \"rizwan\":89,\"fakhar\":7}\n",
    "score"
   ]
  },
  {
   "cell_type": "code",
   "execution_count": 20,
   "id": "2a8ad78c",
   "metadata": {},
   "outputs": [
    {
     "name": "stdout",
     "output_type": "stream",
     "text": [
      "babar\n",
      "rizwan\n",
      "fakhar\n"
     ]
    }
   ],
   "source": [
    "for i in score:\n",
    "    print(i)"
   ]
  },
  {
   "cell_type": "code",
   "execution_count": 21,
   "id": "33330c42",
   "metadata": {},
   "outputs": [
    {
     "name": "stdout",
     "output_type": "stream",
     "text": [
      "babar\n",
      "rizwan\n",
      "fakhar\n"
     ]
    }
   ],
   "source": [
    "for i in score.keys():\n",
    "    print(i)"
   ]
  },
  {
   "cell_type": "code",
   "execution_count": 22,
   "id": "f9bcd5b6",
   "metadata": {},
   "outputs": [
    {
     "name": "stdout",
     "output_type": "stream",
     "text": [
      "45\n",
      "89\n",
      "7\n"
     ]
    }
   ],
   "source": [
    "for i in score.values():\n",
    "    print(i)"
   ]
  },
  {
   "cell_type": "code",
   "execution_count": 23,
   "id": "3caa52cb",
   "metadata": {},
   "outputs": [
    {
     "name": "stdout",
     "output_type": "stream",
     "text": [
      "('babar', 45)\n",
      "('rizwan', 89)\n",
      "('fakhar', 7)\n"
     ]
    }
   ],
   "source": [
    "for i in score.items():\n",
    "    print(i)"
   ]
  },
  {
   "cell_type": "code",
   "execution_count": 24,
   "id": "debfcf2b",
   "metadata": {},
   "outputs": [
    {
     "name": "stdout",
     "output_type": "stream",
     "text": [
      "key:babar  value:45 \n",
      "key:rizwan  value:89 \n",
      "key:fakhar  value:7 \n"
     ]
    }
   ],
   "source": [
    "for key,val in score.items():\n",
    "    print(f\"key:{key}  value:{val} \")"
   ]
  },
  {
   "cell_type": "code",
   "execution_count": 25,
   "id": "13c2a04e",
   "metadata": {},
   "outputs": [
    {
     "name": "stdout",
     "output_type": "stream",
     "text": [
      "45\n",
      "89\n",
      "7\n"
     ]
    }
   ],
   "source": [
    "for key in score.keys():\n",
    "    print(score[key])"
   ]
  },
  {
   "cell_type": "code",
   "execution_count": 26,
   "id": "5db80b64",
   "metadata": {},
   "outputs": [],
   "source": [
    "name,score = 'babar', 100"
   ]
  },
  {
   "cell_type": "code",
   "execution_count": 27,
   "id": "c5210d90",
   "metadata": {},
   "outputs": [
    {
     "data": {
      "text/plain": [
       "'babar'"
      ]
     },
     "execution_count": 27,
     "metadata": {},
     "output_type": "execute_result"
    }
   ],
   "source": [
    "name"
   ]
  },
  {
   "cell_type": "code",
   "execution_count": 28,
   "id": "011a5a56",
   "metadata": {},
   "outputs": [
    {
     "data": {
      "text/plain": [
       "[0, 2, 4, 6, 8]"
      ]
     },
     "execution_count": 28,
     "metadata": {},
     "output_type": "execute_result"
    }
   ],
   "source": [
    "#BONUS (RECALL OF LIST COMPREHENSION)\n",
    "[num for num in range(10) if num%2==0]"
   ]
  },
  {
   "cell_type": "code",
   "execution_count": 29,
   "id": "a4148e2f",
   "metadata": {},
   "outputs": [
    {
     "data": {
      "text/plain": [
       "[0, 'Good', 2, 'Good', 4, 'Good', 6, 'Good', 8, 'Good']"
      ]
     },
     "execution_count": 29,
     "metadata": {},
     "output_type": "execute_result"
    }
   ],
   "source": [
    "[num if num%2==0 else \"Good\" for num in range(10) ]"
   ]
  },
  {
   "cell_type": "code",
   "execution_count": 30,
   "id": "2b558ad8",
   "metadata": {},
   "outputs": [],
   "source": [
    "#Done! Class over"
   ]
  }
 ],
 "metadata": {
  "kernelspec": {
   "display_name": "Python 3 (ipykernel)",
   "language": "python",
   "name": "python3"
  },
  "language_info": {
   "codemirror_mode": {
    "name": "ipython",
    "version": 3
   },
   "file_extension": ".py",
   "mimetype": "text/x-python",
   "name": "python",
   "nbconvert_exporter": "python",
   "pygments_lexer": "ipython3",
   "version": "3.9.7"
  }
 },
 "nbformat": 4,
 "nbformat_minor": 5
}
