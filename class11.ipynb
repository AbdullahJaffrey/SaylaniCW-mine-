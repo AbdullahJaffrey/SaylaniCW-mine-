{
 "cells": [
  {
   "cell_type": "code",
   "execution_count": 1,
   "id": "0b65a913",
   "metadata": {},
   "outputs": [],
   "source": [
    "#13-June-2022 7.45pm - 10.15pm"
   ]
  },
  {
   "cell_type": "code",
   "execution_count": 2,
   "id": "c6edd32a",
   "metadata": {},
   "outputs": [],
   "source": [
    "# Placing List in Dictionary"
   ]
  },
  {
   "cell_type": "code",
   "execution_count": 3,
   "id": "9ad69a4f",
   "metadata": {},
   "outputs": [],
   "source": [
    "list_in_dic = {'students': ['nasir', 'yasir','umer','saad'], 'marks': [9,10,9,10]}"
   ]
  },
  {
   "cell_type": "code",
   "execution_count": 4,
   "id": "b79c39f7",
   "metadata": {},
   "outputs": [
    {
     "data": {
      "text/plain": [
       "'umer'"
      ]
     },
     "execution_count": 4,
     "metadata": {},
     "output_type": "execute_result"
    }
   ],
   "source": [
    "list_in_dic['students'][2]"
   ]
  },
  {
   "cell_type": "code",
   "execution_count": 5,
   "id": "d26e8248",
   "metadata": {},
   "outputs": [
    {
     "data": {
      "text/plain": [
       "['nasir', 'yasir', 'umer', 'saad']"
      ]
     },
     "execution_count": 5,
     "metadata": {},
     "output_type": "execute_result"
    }
   ],
   "source": [
    "list_in_dic['students']"
   ]
  },
  {
   "cell_type": "code",
   "execution_count": 6,
   "id": "ac2897f6",
   "metadata": {},
   "outputs": [
    {
     "data": {
      "text/plain": [
       "['yasir', 'umer']"
      ]
     },
     "execution_count": 6,
     "metadata": {},
     "output_type": "execute_result"
    }
   ],
   "source": [
    "list_in_dic['students'][1:3]"
   ]
  },
  {
   "cell_type": "code",
   "execution_count": 7,
   "id": "65804c79",
   "metadata": {
    "scrolled": true
   },
   "outputs": [
    {
     "data": {
      "text/plain": [
       "dict_keys(['students', 'marks'])"
      ]
     },
     "execution_count": 7,
     "metadata": {},
     "output_type": "execute_result"
    }
   ],
   "source": [
    "list_in_dic.keys()"
   ]
  },
  {
   "cell_type": "code",
   "execution_count": 8,
   "id": "0b5c1641",
   "metadata": {},
   "outputs": [],
   "source": [
    "dic_in_list=['nasir', 'yasir','umer','saad',  {'students': 'Haider'}]"
   ]
  },
  {
   "cell_type": "code",
   "execution_count": 9,
   "id": "5ea2d8e3",
   "metadata": {},
   "outputs": [
    {
     "data": {
      "text/plain": [
       "['nasir', 'yasir', 'umer', 'saad', {'students': 'Haider'}]"
      ]
     },
     "execution_count": 9,
     "metadata": {},
     "output_type": "execute_result"
    }
   ],
   "source": [
    "dic_in_list"
   ]
  },
  {
   "cell_type": "code",
   "execution_count": 10,
   "id": "e49b41d9",
   "metadata": {},
   "outputs": [],
   "source": [
    "# Placing Dictionary in list"
   ]
  },
  {
   "cell_type": "code",
   "execution_count": 11,
   "id": "f8f14127",
   "metadata": {},
   "outputs": [],
   "source": [
    "dic_in_list2 =[\n",
    "    {'dict1': {'sales':[1,21,31,42,34,51,23,41]}},\n",
    "    {'dict2': {'profit':[2,3,4,5,6,7,7,9]}}\n",
    "]"
   ]
  },
  {
   "cell_type": "code",
   "execution_count": 12,
   "id": "809e445a",
   "metadata": {},
   "outputs": [
    {
     "data": {
      "text/plain": [
       "[{'dict1': {'sales': [1, 21, 31, 42, 34, 51, 23, 41]}},\n",
       " {'dict2': {'profit': [2, 3, 4, 5, 6, 7, 7, 9]}}]"
      ]
     },
     "execution_count": 12,
     "metadata": {},
     "output_type": "execute_result"
    }
   ],
   "source": [
    "dic_in_list2"
   ]
  },
  {
   "cell_type": "code",
   "execution_count": 13,
   "id": "451dae44",
   "metadata": {},
   "outputs": [
    {
     "data": {
      "text/plain": [
       "{'dict1': {'sales': [1, 21, 31, 42, 34, 51, 23, 41]}}"
      ]
     },
     "execution_count": 13,
     "metadata": {},
     "output_type": "execute_result"
    }
   ],
   "source": [
    "dic_in_list2[0]"
   ]
  },
  {
   "cell_type": "code",
   "execution_count": 14,
   "id": "73f4a6f2",
   "metadata": {},
   "outputs": [
    {
     "data": {
      "text/plain": [
       "6"
      ]
     },
     "execution_count": 14,
     "metadata": {},
     "output_type": "execute_result"
    }
   ],
   "source": [
    "dic_in_list2[1]['dict2']['profit'][4]"
   ]
  },
  {
   "cell_type": "code",
   "execution_count": 15,
   "id": "164c56d2",
   "metadata": {},
   "outputs": [
    {
     "data": {
      "text/plain": [
       "1.3333333333333333"
      ]
     },
     "execution_count": 15,
     "metadata": {},
     "output_type": "execute_result"
    }
   ],
   "source": [
    "8/6"
   ]
  },
  {
   "cell_type": "code",
   "execution_count": 16,
   "id": "14d7b7e0",
   "metadata": {},
   "outputs": [],
   "source": [
    "#Done"
   ]
  }
 ],
 "metadata": {
  "kernelspec": {
   "display_name": "Python 3 (ipykernel)",
   "language": "python",
   "name": "python3"
  },
  "language_info": {
   "codemirror_mode": {
    "name": "ipython",
    "version": 3
   },
   "file_extension": ".py",
   "mimetype": "text/x-python",
   "name": "python",
   "nbconvert_exporter": "python",
   "pygments_lexer": "ipython3",
   "version": "3.9.7"
  }
 },
 "nbformat": 4,
 "nbformat_minor": 5
}
