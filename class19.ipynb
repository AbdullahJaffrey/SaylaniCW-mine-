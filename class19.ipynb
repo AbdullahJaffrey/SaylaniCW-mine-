{
 "cells": [
  {
   "cell_type": "code",
   "execution_count": 1,
   "id": "6c77fbf3",
   "metadata": {},
   "outputs": [],
   "source": [
    "#18-07-2022"
   ]
  },
  {
   "cell_type": "markdown",
   "id": "bfb00eb6",
   "metadata": {},
   "source": [
    "# Object Oriented Programming in Python: (OOP)\n",
    "\n",
    "<a href=\"https://realpython.com/python3-object-oriented-programming/\">More Details</a>\n",
    "\n",
    "Object-oriented programming (OOP) is a computer programming model that organizes software design around data, or objects, rather than functions and logic. An object can be defined as a data field that has unique attributes and behavior."
   ]
  },
  {
   "cell_type": "markdown",
   "id": "fa8c86b5",
   "metadata": {},
   "source": [
    "The four principles of object-oriented programming are encapsulation, abstraction, inheritance, and polymorphism."
   ]
  },
  {
   "cell_type": "markdown",
   "id": "743eef20",
   "metadata": {},
   "source": [
    "### Function based:\n",
    "\n",
    "In this form, we write lots of functions(procedures) ie. in asm and use it again and again."
   ]
  },
  {
   "cell_type": "markdown",
   "id": "0f799a0a",
   "metadata": {},
   "source": [
    "for loop dones the task in one shot. but we cann't use it again directly. Meanwhile, functions reduced the code efficiency, by calling it again and again. We then decided to create the concept of class, now all we want is to call the class name and boom! all done."
   ]
  },
  {
   "cell_type": "markdown",
   "id": "586a6800",
   "metadata": {},
   "source": [
    "In class, we can only placed general features. Rare features cann't be placed in class."
   ]
  },
  {
   "cell_type": "markdown",
   "id": "55753d74",
   "metadata": {},
   "source": [
    "Map >> House\n",
    "\n",
    "Blueprint >> Code"
   ]
  },
  {
   "cell_type": "markdown",
   "id": "3c7c5328",
   "metadata": {},
   "source": [
    "Demo Mobile >> Map\n",
    "\n",
    "Different phones with the same features of above >> objects"
   ]
  },
  {
   "cell_type": "markdown",
   "id": "e27ed277",
   "metadata": {},
   "source": [
    "  Objects must have a feature(property) and a behavior(function)."
   ]
  },
  {
   "cell_type": "code",
   "execution_count": 2,
   "id": "1adddc48",
   "metadata": {},
   "outputs": [],
   "source": [
    "# It's better to start a class with a capital letter.\n",
    "# class student(): X"
   ]
  },
  {
   "cell_type": "markdown",
   "id": "810e6940",
   "metadata": {},
   "source": [
    "#### Self:\n",
    "We used Self to check the posibility. Either the studying or not"
   ]
  },
  {
   "cell_type": "code",
   "execution_count": 3,
   "id": "b100a321",
   "metadata": {},
   "outputs": [],
   "source": [
    "class Student():\n",
    "    # All the variables are features\\properties\\characteristics\n",
    "    roll_no = 100\n",
    "    name = \"Abdullah\"\n",
    "    course = \"DS\"\n",
    "    school = 'SMIT'\n",
    "    # All the functions are behaviors\\actions\\methods.\n",
    "    \n",
    "#     def study():\n",
    "#         pass\n",
    "#     def exam():\n",
    "#         pass\n",
    "#     def fee():\n",
    "#         pass\n",
    "#     def friends():\n",
    "#         pass\n",
    "    def study(self):\n",
    "        print('Student is studying')\n",
    "    def exam(self):\n",
    "        print('Student is giving exam')\n",
    "    def fee(self):\n",
    "        print('Student is paying fees')\n",
    "    def friends(self):\n",
    "        pass\n",
    "    "
   ]
  },
  {
   "cell_type": "code",
   "execution_count": 4,
   "id": "4e65c01b",
   "metadata": {},
   "outputs": [],
   "source": [
    "s1 = Student()"
   ]
  },
  {
   "cell_type": "code",
   "execution_count": 5,
   "id": "fae4b134",
   "metadata": {},
   "outputs": [
    {
     "data": {
      "text/plain": [
       "('Abdullah', 'SMIT', 100, 'DS')"
      ]
     },
     "execution_count": 5,
     "metadata": {},
     "output_type": "execute_result"
    }
   ],
   "source": [
    "s1.name, s1.school, s1.roll_no, s1.course"
   ]
  },
  {
   "cell_type": "code",
   "execution_count": 6,
   "id": "247dd86a",
   "metadata": {},
   "outputs": [
    {
     "data": {
      "text/plain": [
       "<bound method Student.study of <__main__.Student object at 0x000001A82EC38C10>>"
      ]
     },
     "execution_count": 6,
     "metadata": {},
     "output_type": "execute_result"
    }
   ],
   "source": [
    "s1.study"
   ]
  },
  {
   "cell_type": "code",
   "execution_count": 7,
   "id": "544bb403",
   "metadata": {},
   "outputs": [
    {
     "name": "stdout",
     "output_type": "stream",
     "text": [
      "Student is studying\n"
     ]
    }
   ],
   "source": [
    "s1.study()"
   ]
  },
  {
   "cell_type": "code",
   "execution_count": 8,
   "id": "7f0836be",
   "metadata": {},
   "outputs": [
    {
     "name": "stdout",
     "output_type": "stream",
     "text": [
      "Student is giving exam\n"
     ]
    }
   ],
   "source": [
    "s1.exam()"
   ]
  },
  {
   "cell_type": "code",
   "execution_count": 9,
   "id": "d33c812a",
   "metadata": {},
   "outputs": [],
   "source": [
    "s2 = Student()"
   ]
  },
  {
   "cell_type": "code",
   "execution_count": 10,
   "id": "b9dce301",
   "metadata": {},
   "outputs": [],
   "source": [
    "# s2.name() 'str' object is not callable. will not work as no new copy has been created."
   ]
  },
  {
   "cell_type": "code",
   "execution_count": 11,
   "id": "031143a7",
   "metadata": {},
   "outputs": [],
   "source": [
    "class Teacher(): #object or instance\n",
    "    \n",
    "    def __init__(self, Id, name, course, school):\n",
    "        self.Id = Id\n",
    "        self.name = name\n",
    "        self.course = course\n",
    "        self.school = school\n",
    "   #init = Initializer or constructor\n",
    "    def teach(self):\n",
    "        print('Teacher is teaching')\n",
    "    def exam(self):\n",
    "        print('Teacher is taking exam')\n",
    "    def salary(self):\n",
    "        print('Teaching is receiving fees as salary')\n",
    "    def Id_info(self):\n",
    "        print(f'We have {self.name} on id: {self.Id}')"
   ]
  },
  {
   "cell_type": "markdown",
   "id": "f6d4162c",
   "metadata": {},
   "source": [
    "** reference(object name) enters in self automatically, even without defining. **"
   ]
  },
  {
   "cell_type": "code",
   "execution_count": 12,
   "id": "45467a34",
   "metadata": {},
   "outputs": [
    {
     "data": {
      "text/plain": [
       "'Nasir Hussain'"
      ]
     },
     "execution_count": 12,
     "metadata": {},
     "output_type": "execute_result"
    }
   ],
   "source": [
    "t1 = Teacher(1, 'Nasir Hussain', 'AI', 'SMIT')\n",
    "t1.name"
   ]
  },
  {
   "cell_type": "code",
   "execution_count": 13,
   "id": "35b4f728",
   "metadata": {},
   "outputs": [
    {
     "name": "stdout",
     "output_type": "stream",
     "text": [
      "2 Nauman Islam\n"
     ]
    }
   ],
   "source": [
    "t2 = Teacher(2, 'Nauman Islam', 'AI', 'NED')\n",
    "print(t2.Id, t2.name)"
   ]
  },
  {
   "cell_type": "code",
   "execution_count": 14,
   "id": "3d31b545",
   "metadata": {},
   "outputs": [
    {
     "name": "stdout",
     "output_type": "stream",
     "text": [
      "3 Fareed Alvi Electronics\n"
     ]
    }
   ],
   "source": [
    "t3 = Teacher(3, 'Fareed Alvi', 'Electronics', 'UBIT')\n",
    "print(t3.Id, t3.name, t3.course)"
   ]
  },
  {
   "cell_type": "code",
   "execution_count": 15,
   "id": "f8156b02",
   "metadata": {},
   "outputs": [
    {
     "name": "stdout",
     "output_type": "stream",
     "text": [
      "We have Nauman Islam on id: 2\n"
     ]
    }
   ],
   "source": [
    "print(f'We have {t2.name} on id: {t2.Id}')"
   ]
  },
  {
   "cell_type": "code",
   "execution_count": 16,
   "id": "0046a5e1",
   "metadata": {},
   "outputs": [
    {
     "name": "stdout",
     "output_type": "stream",
     "text": [
      "We have Fareed Alvi on id: 3 and he teachs Electronics\n"
     ]
    }
   ],
   "source": [
    "print(f'We have {t3.name} on id: {t3.Id} and he teachs {t3.course}')"
   ]
  },
  {
   "cell_type": "code",
   "execution_count": 17,
   "id": "10644fbd",
   "metadata": {},
   "outputs": [
    {
     "data": {
      "text/plain": [
       "int"
      ]
     },
     "execution_count": 17,
     "metadata": {},
     "output_type": "execute_result"
    }
   ],
   "source": [
    "type(t3.Id)"
   ]
  },
  {
   "cell_type": "markdown",
   "id": "1ac699bd",
   "metadata": {},
   "source": [
    "self creates a new copy of an variable as object, rather than overriding it."
   ]
  },
  {
   "cell_type": "code",
   "execution_count": 18,
   "id": "41811229",
   "metadata": {},
   "outputs": [
    {
     "data": {
      "text/plain": [
       "__main__.Teacher"
      ]
     },
     "execution_count": 18,
     "metadata": {},
     "output_type": "execute_result"
    }
   ],
   "source": [
    "type(t3)"
   ]
  },
  {
   "cell_type": "markdown",
   "id": "d3843c1d",
   "metadata": {},
   "source": [
    "# Inheritance:\n",
    "    If anything has an object, it must consist a class. \n",
    "    Class = Father\n",
    "    Function and Objects = Child"
   ]
  },
  {
   "cell_type": "code",
   "execution_count": 19,
   "id": "ea914892",
   "metadata": {},
   "outputs": [],
   "source": [
    "#Done"
   ]
  }
 ],
 "metadata": {
  "kernelspec": {
   "display_name": "Python 3 (ipykernel)",
   "language": "python",
   "name": "python3"
  },
  "language_info": {
   "codemirror_mode": {
    "name": "ipython",
    "version": 3
   },
   "file_extension": ".py",
   "mimetype": "text/x-python",
   "name": "python",
   "nbconvert_exporter": "python",
   "pygments_lexer": "ipython3",
   "version": "3.9.7"
  }
 },
 "nbformat": 4,
 "nbformat_minor": 5
}
