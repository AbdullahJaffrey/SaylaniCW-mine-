{
 "cells": [
  {
   "cell_type": "code",
   "execution_count": 1,
   "id": "6a0e5cdd",
   "metadata": {},
   "outputs": [],
   "source": [
    "#class4(19-5-2022)"
   ]
  },
  {
   "cell_type": "markdown",
   "id": "d635a298",
   "metadata": {
    "id": "7612b2fa"
   },
   "source": [
    "# More on Operators\n",
    "\n",
    "- =  (Assignment)\n",
    "- == (Equals to)\n",
    "- != (Not Equals to)\n",
    "- ** (Exponent)\n",
    "- %  (modulus)\n",
    "- >  (Greater than)\n",
    "- <  (Less than)\n",
    "- >=  (Greater than and equals to)\n",
    "- <=  (Less than and equals to)\n",
    "- and (logical and)\n",
    "- or  (logical or)"
   ]
  },
  {
   "cell_type": "code",
   "execution_count": 2,
   "id": "dd418300",
   "metadata": {
    "id": "dd418300"
   },
   "outputs": [],
   "source": [
    "a = 10 "
   ]
  },
  {
   "cell_type": "code",
   "execution_count": 3,
   "id": "cf0be088",
   "metadata": {
    "id": "cf0be088"
   },
   "outputs": [],
   "source": [
    "b = 10"
   ]
  },
  {
   "cell_type": "code",
   "execution_count": 4,
   "id": "01fe3850",
   "metadata": {
    "id": "01fe3850",
    "outputId": "a34eeb82-821f-4dcf-9574-dfd1d3a3dc28"
   },
   "outputs": [
    {
     "data": {
      "text/plain": [
       "True"
      ]
     },
     "execution_count": 4,
     "metadata": {},
     "output_type": "execute_result"
    }
   ],
   "source": [
    "a == b"
   ]
  },
  {
   "cell_type": "code",
   "execution_count": 5,
   "id": "872dadd3",
   "metadata": {
    "id": "872dadd3",
    "outputId": "4361e250-b09a-4fc2-c04d-8c952208b87f"
   },
   "outputs": [
    {
     "data": {
      "text/plain": [
       "False"
      ]
     },
     "execution_count": 5,
     "metadata": {},
     "output_type": "execute_result"
    }
   ],
   "source": [
    "a!=b"
   ]
  },
  {
   "cell_type": "code",
   "execution_count": 6,
   "id": "8fb02d4d",
   "metadata": {
    "id": "8fb02d4d",
    "outputId": "504bcda7-37a6-4aa6-91f2-c3d73a3ded6c"
   },
   "outputs": [
    {
     "data": {
      "text/plain": [
       "1000"
      ]
     },
     "execution_count": 6,
     "metadata": {},
     "output_type": "execute_result"
    }
   ],
   "source": [
    "a**3"
   ]
  },
  {
   "cell_type": "code",
   "execution_count": 7,
   "id": "e2084a8c",
   "metadata": {
    "id": "e2084a8c",
    "outputId": "1a3bd0c4-d47c-4069-ca7d-7f8f785e5060"
   },
   "outputs": [
    {
     "data": {
      "text/plain": [
       "False"
      ]
     },
     "execution_count": 7,
     "metadata": {},
     "output_type": "execute_result"
    }
   ],
   "source": [
    "a > b"
   ]
  },
  {
   "cell_type": "code",
   "execution_count": 8,
   "id": "b8a3d692",
   "metadata": {
    "id": "b8a3d692",
    "outputId": "7eb8cd12-ab60-4b02-947d-7a87a2fa5659"
   },
   "outputs": [
    {
     "data": {
      "text/plain": [
       "False"
      ]
     },
     "execution_count": 8,
     "metadata": {},
     "output_type": "execute_result"
    }
   ],
   "source": [
    "b<a"
   ]
  },
  {
   "cell_type": "code",
   "execution_count": 9,
   "id": "42f4f4b1",
   "metadata": {
    "id": "42f4f4b1",
    "outputId": "fd2286cd-c6d0-4f8e-cb16-eeee444dfa70"
   },
   "outputs": [
    {
     "data": {
      "text/plain": [
       "True"
      ]
     },
     "execution_count": 9,
     "metadata": {},
     "output_type": "execute_result"
    }
   ],
   "source": [
    "a<=b"
   ]
  },
  {
   "cell_type": "code",
   "execution_count": 10,
   "id": "0acc64c9",
   "metadata": {
    "id": "0acc64c9",
    "outputId": "11a25f4c-09ee-447a-ceda-cf3ceaaad7ae"
   },
   "outputs": [
    {
     "data": {
      "text/plain": [
       "True"
      ]
     },
     "execution_count": 10,
     "metadata": {},
     "output_type": "execute_result"
    }
   ],
   "source": [
    "a<=b"
   ]
  },
  {
   "cell_type": "code",
   "execution_count": 11,
   "id": "fde105a4",
   "metadata": {
    "id": "fde105a4",
    "outputId": "d72b5a7d-70fe-433d-c8e0-2dfb6d7b28df"
   },
   "outputs": [
    {
     "data": {
      "text/plain": [
       "3.3333333333333335"
      ]
     },
     "execution_count": 11,
     "metadata": {},
     "output_type": "execute_result"
    }
   ],
   "source": [
    "10/3"
   ]
  },
  {
   "cell_type": "code",
   "execution_count": 12,
   "id": "3ad80fa6",
   "metadata": {
    "id": "3ad80fa6",
    "outputId": "3ad0e17f-37a4-427c-f1e7-846b47524475"
   },
   "outputs": [
    {
     "data": {
      "text/plain": [
       "1"
      ]
     },
     "execution_count": 12,
     "metadata": {},
     "output_type": "execute_result"
    }
   ],
   "source": [
    "15%7"
   ]
  },
  {
   "cell_type": "code",
   "execution_count": 13,
   "id": "c832fc9a",
   "metadata": {
    "id": "c832fc9a",
    "outputId": "93e80f8b-c339-43d7-d07f-5a7ee6116053"
   },
   "outputs": [
    {
     "data": {
      "text/plain": [
       "2"
      ]
     },
     "execution_count": 13,
     "metadata": {},
     "output_type": "execute_result"
    }
   ],
   "source": [
    "15//7"
   ]
  },
  {
   "cell_type": "code",
   "execution_count": 14,
   "id": "d06ed57b",
   "metadata": {
    "id": "d06ed57b",
    "outputId": "93f2929b-5d9b-45b1-bf7d-0ad272303516"
   },
   "outputs": [
    {
     "data": {
      "text/plain": [
       "2.142857142857143"
      ]
     },
     "execution_count": 14,
     "metadata": {},
     "output_type": "execute_result"
    }
   ],
   "source": [
    "15/7"
   ]
  },
  {
   "cell_type": "code",
   "execution_count": 15,
   "id": "934a70f1",
   "metadata": {
    "id": "934a70f1",
    "outputId": "7bab2367-82fa-4982-ab0b-b993ec791ae5"
   },
   "outputs": [
    {
     "data": {
      "text/plain": [
       "2"
      ]
     },
     "execution_count": 15,
     "metadata": {},
     "output_type": "execute_result"
    }
   ],
   "source": [
    "20%6"
   ]
  },
  {
   "cell_type": "markdown",
   "id": "2ab1fcb0",
   "metadata": {
    "id": "2ab1fcb0"
   },
   "source": [
    "# Logical \"and\" and Logical \"or\""
   ]
  },
  {
   "cell_type": "code",
   "execution_count": 16,
   "id": "bacc3812",
   "metadata": {
    "id": "07415be0"
   },
   "outputs": [],
   "source": [
    "#  r1           r2        or(+)        and (*)\n",
    "# True(1)     True(1)      True         True \n",
    "# True        False        True         False\n",
    "# False(0)    True         True         False\n",
    "# False       False        False        False"
   ]
  },
  {
   "cell_type": "code",
   "execution_count": 17,
   "id": "06bf6319",
   "metadata": {
    "id": "06bf6319",
    "outputId": "d0ae0ab9-0862-4aa3-9f41-4af73de7cd1a"
   },
   "outputs": [
    {
     "data": {
      "text/plain": [
       "True"
      ]
     },
     "execution_count": 17,
     "metadata": {},
     "output_type": "execute_result"
    }
   ],
   "source": [
    "10 > 5 or 20 < 10\n",
    " #True     False"
   ]
  },
  {
   "cell_type": "code",
   "execution_count": 18,
   "id": "88c2d176",
   "metadata": {
    "id": "88c2d176",
    "outputId": "09eb9b61-8d04-4e49-b6df-d291834481ad"
   },
   "outputs": [
    {
     "data": {
      "text/plain": [
       "False"
      ]
     },
     "execution_count": 18,
     "metadata": {},
     "output_type": "execute_result"
    }
   ],
   "source": [
    "10 > 5 and 20 < 10\n",
    "# True    False"
   ]
  },
  {
   "cell_type": "markdown",
   "id": "ce346e78",
   "metadata": {
    "id": "ce346e78"
   },
   "source": [
    "# If Statment\n",
    " - If \n",
    " - If else \n",
    " - Elif\n"
   ]
  },
  {
   "cell_type": "code",
   "execution_count": 19,
   "id": "d0aca0a2",
   "metadata": {
    "id": "d0aca0a2",
    "outputId": "3907e63c-e437-4fdc-8523-7c9c11066083"
   },
   "outputs": [
    {
     "name": "stdout",
     "output_type": "stream",
     "text": [
      "Enter a number of your choice: 2\n",
      "Enter another numner of your choice: 3\n",
      "I am out of if block \n"
     ]
    }
   ],
   "source": [
    "num1 = int(input(\"Enter a number of your choice: \"))\n",
    "num2 = int(input(\"Enter another numner of your choice: \"))\n",
    "\n",
    "if num1==num2:\n",
    "    print(\"Number 1 is equal to number 2\")\n",
    "print(\"I am out of if block \")"
   ]
  },
  {
   "cell_type": "code",
   "execution_count": 21,
   "id": "d01ca7a5",
   "metadata": {
    "id": "d01ca7a5",
    "outputId": "a3c60037-6ab1-4bf1-8674-9f0ffcc15dc7"
   },
   "outputs": [
    {
     "name": "stdout",
     "output_type": "stream",
     "text": [
      "Enter a number of your choice:3\n",
      "Enter another numner of your choice: 2\n",
      "3 is not equal to 2\n"
     ]
    }
   ],
   "source": [
    "num1 = int(input(\"Enter a number of your choice:\"))\n",
    "num2 = int(input(\"Enter another numner of your choice: \"))\n",
    "\n",
    "if num1==num2:\n",
    "    print(f\"{num1} is equal to {num2}\")\n",
    "else:\n",
    "    print(f\"{num1} is not equal to {num2}\")\n",
    "    "
   ]
  },
  {
   "cell_type": "markdown",
   "id": "7ca3701b",
   "metadata": {
    "id": "7ca3701b"
   },
   "source": [
    "# Multiple if's"
   ]
  },
  {
   "cell_type": "code",
   "execution_count": 22,
   "id": "500f535c",
   "metadata": {
    "id": "500f535c",
    "outputId": "49abdeb5-854e-4374-d956-918956c87172"
   },
   "outputs": [
    {
     "name": "stdout",
     "output_type": "stream",
     "text": [
      "Enter a number of your choice: 3\n",
      "Enter another numner of your choice: 2\n",
      "3 is greater than 2\n"
     ]
    }
   ],
   "source": [
    "num1 = int(input(\"Enter a number of your choice: \"))\n",
    "num2 = int(input(\"Enter another numner of your choice: \"))\n",
    "\n",
    "if num1==num2:\n",
    "    print(f\"{num1} is equal to {num2}\")\n",
    "    \n",
    "elif num1 > num2:    \n",
    "    print(f\"{num1} is greater than {num2}\")\n",
    "    \n",
    "elif num1 < num2:\n",
    "    print(f\"{num1} is less than {num2}\")\n",
    "else:\n",
    "    print(\"Pata nahui kia hy\")\n",
    "    \n",
    "    "
   ]
  },
  {
   "cell_type": "code",
   "execution_count": 23,
   "id": "b0d05512",
   "metadata": {
    "id": "8ba520f1"
   },
   "outputs": [],
   "source": [
    "# Check if the number inputted by a user is a multiple of 5 or 7"
   ]
  },
  {
   "cell_type": "code",
   "execution_count": 24,
   "id": "8e2caa8c",
   "metadata": {
    "id": "8e2caa8c",
    "outputId": "0daf091f-e896-450f-8fce-dce67a36ef83"
   },
   "outputs": [
    {
     "name": "stdout",
     "output_type": "stream",
     "text": [
      "Enter a number of your choice: 6\n"
     ]
    }
   ],
   "source": [
    "num = int(input(\"Enter a number of your choice: \"))"
   ]
  },
  {
   "cell_type": "code",
   "execution_count": 25,
   "id": "43075c23",
   "metadata": {
    "id": "43075c23",
    "outputId": "e4929943-ff76-408e-b464-b20bd1b72145"
   },
   "outputs": [
    {
     "name": "stdout",
     "output_type": "stream",
     "text": [
      "The number is not multiple of 5 or 7\n"
     ]
    }
   ],
   "source": [
    "if ((num%5==0) or (num%7==0)):\n",
    "    print(\"The number is multiple of 5 or 7\")\n",
    "else:\n",
    "    print(\"The number is not multiple of 5 or 7\")"
   ]
  },
  {
   "cell_type": "code",
   "execution_count": 26,
   "id": "d456349e",
   "metadata": {
    "colab": {
     "base_uri": "https://localhost:8080/"
    },
    "executionInfo": {
     "elapsed": 5386,
     "status": "ok",
     "timestamp": 1652984386843,
     "user": {
      "displayName": "Abdullah Jafri",
      "userId": "10826202716450043412"
     },
     "user_tz": -300
    },
    "id": "d456349e",
    "outputId": "9b45fc0a-b941-4764-d338-3739256b557a"
   },
   "outputs": [
    {
     "name": "stdout",
     "output_type": "stream",
     "text": [
      "Enter a number of your choice25\n",
      "multiple of 5\n"
     ]
    }
   ],
   "source": [
    "num = int(input(\"Enter a number of your choice\"))\n",
    "\n",
    "if num%5==0:\n",
    "    print(\"multiple of 5\")\n",
    "elif num%7==0:\n",
    "    print(\"multiple of 7\")\n",
    "else:\n",
    "    print(\"Nor multiple of 7 or 5\")"
   ]
  }
 ],
 "metadata": {
  "colab": {
   "name": "class4(19May).ipynb",
   "provenance": []
  },
  "kernelspec": {
   "display_name": "Python 3 (ipykernel)",
   "language": "python",
   "name": "python3"
  },
  "language_info": {
   "codemirror_mode": {
    "name": "ipython",
    "version": 3
   },
   "file_extension": ".py",
   "mimetype": "text/x-python",
   "name": "python",
   "nbconvert_exporter": "python",
   "pygments_lexer": "ipython3",
   "version": "3.9.7"
  }
 },
 "nbformat": 4,
 "nbformat_minor": 5
}
