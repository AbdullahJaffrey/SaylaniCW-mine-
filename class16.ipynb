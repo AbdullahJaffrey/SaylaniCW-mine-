{
 "cells": [
  {
   "cell_type": "code",
   "execution_count": 1,
   "id": "dee7222b",
   "metadata": {},
   "outputs": [],
   "source": [
    "#Advanced functions 30-06-2022"
   ]
  },
  {
   "cell_type": "markdown",
   "id": "6880fb4f",
   "metadata": {},
   "source": [
    "# Keyword Arguments:"
   ]
  },
  {
   "cell_type": "code",
   "execution_count": 2,
   "id": "338edc18",
   "metadata": {},
   "outputs": [],
   "source": [
    "#arr mein value aur task mein proces/ operation jo perform krna hai"
   ]
  },
  {
   "cell_type": "code",
   "execution_count": 3,
   "id": "8dbcebdb",
   "metadata": {},
   "outputs": [],
   "source": [
    "# made a function which can perform sum ,mult, max, min, even, odd as per user demand.\n"
   ]
  },
  {
   "cell_type": "code",
   "execution_count": 4,
   "id": "cc21aae6",
   "metadata": {},
   "outputs": [],
   "source": [
    "def func(arr,task=''):\n",
    "    if task == \"sum\":\n",
    "        return sum(arr) \n",
    "    \n",
    "    \n",
    "    \n",
    "    elif task == \"mult\":\n",
    "        result = 1\n",
    "        for num in arr:\n",
    "            result *= num\n",
    "        return result\n",
    "    \n",
    "    \n",
    "    \n",
    "    elif task == \"max\":\n",
    "        return max(arr)\n",
    "    \n",
    "    \n",
    "    \n",
    "    elif task == \"min\":\n",
    "        return min(arr)\n",
    "    \n",
    "    \n",
    "    \n",
    "    elif task == \"even\":\n",
    "        even = []\n",
    "        for num in arr:\n",
    "            if num%2 == 0:\n",
    "                even.append(num)\n",
    "        return even\n",
    "    \n",
    "    \n",
    "    \n",
    "    elif task == \"odd\":\n",
    "        odd = []\n",
    "        for num in arr:\n",
    "            if num%2 != 0:\n",
    "                odd.append(num)\n",
    "        return odd"
   ]
  },
  {
   "cell_type": "code",
   "execution_count": 5,
   "id": "c7bac77e",
   "metadata": {},
   "outputs": [
    {
     "data": {
      "text/plain": [
       "2520"
      ]
     },
     "execution_count": 5,
     "metadata": {},
     "output_type": "execute_result"
    }
   ],
   "source": [
    "func([3,4,5,6,7], \"mult\")"
   ]
  },
  {
   "cell_type": "code",
   "execution_count": 6,
   "id": "e57d294a",
   "metadata": {},
   "outputs": [
    {
     "data": {
      "text/plain": [
       "[3, 5, 7]"
      ]
     },
     "execution_count": 6,
     "metadata": {},
     "output_type": "execute_result"
    }
   ],
   "source": [
    "func([3,4,5,6,7], \"odd\")"
   ]
  },
  {
   "cell_type": "code",
   "execution_count": 7,
   "id": "89d0d1ca",
   "metadata": {},
   "outputs": [
    {
     "data": {
      "text/plain": [
       "[4, 6]"
      ]
     },
     "execution_count": 7,
     "metadata": {},
     "output_type": "execute_result"
    }
   ],
   "source": [
    "func([3,4,5,6,7], \"even\")"
   ]
  },
  {
   "cell_type": "markdown",
   "id": "1944dace",
   "metadata": {},
   "source": [
    "# Calculator:"
   ]
  },
  {
   "cell_type": "code",
   "execution_count": 8,
   "id": "2de82e05",
   "metadata": {},
   "outputs": [],
   "source": [
    "global num1\n",
    "global num2\n",
    "global sign\n",
    "\n",
    "def cal(num1,num2,sign):\n",
    "    num1 = int(input('Enter a num: '))\n",
    "    num2 = int(input('Enter a num: '))\n",
    "    sign = input('Enter a sign: ')\n",
    "    if sign == '+':\n",
    "        return num1+num2\n",
    "    elif sign == '-':\n",
    "        return num1-num2\n",
    "    elif sign == '*':\n",
    "        return num1*num2\n",
    "    else:\n",
    "        return num1/num2"
   ]
  },
  {
   "cell_type": "code",
   "execution_count": 9,
   "id": "f25c0f3c",
   "metadata": {},
   "outputs": [
    {
     "name": "stdout",
     "output_type": "stream",
     "text": [
      "Enter a num: 1\n",
      "Enter a num: 7\n",
      "Enter a sign: -\n"
     ]
    },
    {
     "data": {
      "text/plain": [
       "-6"
      ]
     },
     "execution_count": 9,
     "metadata": {},
     "output_type": "execute_result"
    }
   ],
   "source": [
    "cal(\"num1\",\"num2\",\"sign\")"
   ]
  },
  {
   "cell_type": "code",
   "execution_count": 10,
   "id": "fab45ebc",
   "metadata": {},
   "outputs": [],
   "source": [
    "def lists():\n",
    "    global arr1\n",
    "    arr1 = []\n",
    "    while True:\n",
    "        i = input(\"enter a number or press 'q' to exit: \")\n",
    "        if i == 'q':\n",
    "            break\n",
    "        else:\n",
    "            i=int(i)\n",
    "            arr1.append(i)\n",
    "\n",
    "\n",
    "def func(lists,task=''):\n",
    "    \n",
    "    if task == \"sum\":\n",
    "        return sum(arr1) \n",
    "    \n",
    "    \n",
    "    \n",
    "    elif task == \"mult\":\n",
    "        result = 1\n",
    "        for num in arr1:\n",
    "            result *= num\n",
    "        return result\n",
    "    \n",
    "    \n",
    "    \n",
    "    elif task == \"max\":\n",
    "        return max(arr1)\n",
    "    \n",
    "    \n",
    "    \n",
    "    elif task == \"min\":\n",
    "        return min(arr1)\n",
    "    \n",
    "    \n",
    "    \n",
    "    elif task == \"even\":\n",
    "        even = []\n",
    "        for num in arr1:\n",
    "            if num%2 == 0:\n",
    "                even.append(num)\n",
    "        return even\n",
    "    \n",
    "    \n",
    "    \n",
    "    elif task == \"odd\":\n",
    "        odd = []\n",
    "        for num in arr1:\n",
    "            if num%2 != 0:\n",
    "                odd.append(num)\n",
    "        return odd"
   ]
  },
  {
   "cell_type": "code",
   "execution_count": 11,
   "id": "ed2cd2f9",
   "metadata": {},
   "outputs": [
    {
     "name": "stdout",
     "output_type": "stream",
     "text": [
      "enter a number or press 'q' to exit: 1\n",
      "enter a number or press 'q' to exit: 2\n",
      "enter a number or press 'q' to exit: 3\n",
      "enter a number or press 'q' to exit: 4\n",
      "enter a number or press 'q' to exit: 5\n",
      "enter a number or press 'q' to exit: 6\n",
      "enter a number or press 'q' to exit: 7\n",
      "enter a number or press 'q' to exit: 8\n",
      "enter a number or press 'q' to exit: 9\n",
      "enter a number or press 'q' to exit: q\n"
     ]
    }
   ],
   "source": [
    "lists()"
   ]
  },
  {
   "cell_type": "code",
   "execution_count": 12,
   "id": "1879f809",
   "metadata": {},
   "outputs": [
    {
     "data": {
      "text/plain": [
       "9"
      ]
     },
     "execution_count": 12,
     "metadata": {},
     "output_type": "execute_result"
    }
   ],
   "source": [
    "func(lists, 'max')"
   ]
  },
  {
   "cell_type": "code",
   "execution_count": 14,
   "id": "08a66041",
   "metadata": {},
   "outputs": [
    {
     "data": {
      "text/plain": [
       "<function __main__.lists()>"
      ]
     },
     "execution_count": 14,
     "metadata": {},
     "output_type": "execute_result"
    }
   ],
   "source": [
    "lists"
   ]
  },
  {
   "cell_type": "code",
   "execution_count": 16,
   "id": "d7b437c9",
   "metadata": {},
   "outputs": [
    {
     "data": {
      "text/plain": [
       "[1, 3, 5, 7, 9]"
      ]
     },
     "execution_count": 16,
     "metadata": {},
     "output_type": "execute_result"
    }
   ],
   "source": [
    "func(lists, 'odd')"
   ]
  },
  {
   "cell_type": "markdown",
   "id": "73d0553e",
   "metadata": {},
   "source": [
    "# Keyword argument:"
   ]
  },
  {
   "cell_type": "code",
   "execution_count": 17,
   "id": "923ef8aa",
   "metadata": {},
   "outputs": [],
   "source": [
    "def description(name, age,gender, blood_group):\n",
    "    desc = f\"\"\"The name of the patient: {name},The age of the patient: {age},The gender of the patient: {gender},The blood group of the patient: {blood_group}\"\"\"\n",
    "    return desc"
   ]
  },
  {
   "cell_type": "code",
   "execution_count": 18,
   "id": "67d95b30",
   "metadata": {},
   "outputs": [
    {
     "data": {
      "text/plain": [
       "'The name of the patient: Abdullah Jaffrey,The age of the patient: 23,The gender of the patient: Male,The blood group of the patient: B+'"
      ]
     },
     "execution_count": 18,
     "metadata": {},
     "output_type": "execute_result"
    }
   ],
   "source": [
    "description(age=23, blood_group=\"B+\", name=\"Abdullah Jaffrey\", gender=\"Male\")"
   ]
  },
  {
   "cell_type": "code",
   "execution_count": 19,
   "id": "58c5a94f",
   "metadata": {},
   "outputs": [],
   "source": [
    "#### Returning a Dictionary"
   ]
  },
  {
   "cell_type": "code",
   "execution_count": 20,
   "id": "11553056",
   "metadata": {},
   "outputs": [],
   "source": [
    "def build_person(first_name,last_name,age):\n",
    "    \"\"\"Return a dictionary of information about a person\"\"\"\n",
    "    person  ={'first':first_name, 'last':last_name}\n",
    "    if age:\n",
    "        person['age'] = age\n",
    "    return person"
   ]
  },
  {
   "cell_type": "code",
   "execution_count": 21,
   "id": "57121171",
   "metadata": {},
   "outputs": [],
   "source": [
    "musician = build_person('jimmy', 'hendrix', age=None)"
   ]
  },
  {
   "cell_type": "code",
   "execution_count": 22,
   "id": "73e6d37a",
   "metadata": {},
   "outputs": [
    {
     "data": {
      "text/plain": [
       "{'first': 'jimmy', 'last': 'hendrix'}"
      ]
     },
     "execution_count": 22,
     "metadata": {},
     "output_type": "execute_result"
    }
   ],
   "source": [
    "musician"
   ]
  },
  {
   "cell_type": "code",
   "execution_count": 23,
   "id": "2e044997",
   "metadata": {},
   "outputs": [
    {
     "name": "stdout",
     "output_type": "stream",
     "text": [
      "printed_designsdodecahedron\n",
      "\n",
      " The following models have been printed: \n",
      "dodecahedron\n",
      "printed_designsrobot pendant\n",
      "\n",
      " The following models have been printed: \n",
      "dodecahedron\n",
      "robot pendant\n",
      "printed_designsiphone case\n",
      "\n",
      " The following models have been printed: \n",
      "dodecahedron\n",
      "robot pendant\n",
      "iphone case\n"
     ]
    }
   ],
   "source": [
    "unprinted_designs = ['iphone case', 'robot pendant', 'dodecahedron']\n",
    "completed_designs = []\n",
    "\n",
    "while unprinted_designs:\n",
    "    current_designs = unprinted_designs.pop()\n",
    "    print(\"printed_designs\" + current_designs)\n",
    "    completed_designs.append(current_designs)\n",
    "    print(\"\\n The following models have been printed: \")\n",
    "    for i in completed_designs:\n",
    "        print(i)"
   ]
  },
  {
   "cell_type": "code",
   "execution_count": null,
   "id": "7775dd44",
   "metadata": {},
   "outputs": [],
   "source": [
    "#Done! Class End"
   ]
  }
 ],
 "metadata": {
  "kernelspec": {
   "display_name": "Python 3 (ipykernel)",
   "language": "python",
   "name": "python3"
  },
  "language_info": {
   "codemirror_mode": {
    "name": "ipython",
    "version": 3
   },
   "file_extension": ".py",
   "mimetype": "text/x-python",
   "name": "python",
   "nbconvert_exporter": "python",
   "pygments_lexer": "ipython3",
   "version": "3.9.7"
  }
 },
 "nbformat": 4,
 "nbformat_minor": 5
}
