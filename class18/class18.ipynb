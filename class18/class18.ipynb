{
 "cells": [
  {
   "cell_type": "code",
   "execution_count": 1,
   "id": "a2d15f04",
   "metadata": {},
   "outputs": [],
   "source": [
    "# (14-JULY-2022) Thursday"
   ]
  },
  {
   "cell_type": "markdown",
   "id": "fc7c6715",
   "metadata": {},
   "source": [
    "# Modules:\n",
    "    \n",
    "Combination of classes and functions. Help you access the Function more efficiently. No effort is required to find the function location and access it. Just write the name of the module, and that's it. You got all the functionalities provided in the module."
   ]
  },
  {
   "cell_type": "code",
   "execution_count": 2,
   "id": "6f1a4090",
   "metadata": {},
   "outputs": [],
   "source": [
    "def addition(*num):\n",
    "    if len(num) == 0:\n",
    "        return \"enter atleast two values to generate the desired result\"\n",
    "    return sum(num)"
   ]
  },
  {
   "cell_type": "code",
   "execution_count": 3,
   "id": "25a5ab8d",
   "metadata": {},
   "outputs": [
    {
     "data": {
      "text/plain": [
       "15"
      ]
     },
     "execution_count": 3,
     "metadata": {},
     "output_type": "execute_result"
    }
   ],
   "source": [
    "addition(1,2,3,4,5)"
   ]
  },
  {
   "cell_type": "code",
   "execution_count": 4,
   "id": "d11aaa29",
   "metadata": {},
   "outputs": [],
   "source": [
    "# %load mymaths.py\n",
    "def addition(*num):\n",
    "    '''\n",
    "    It can take arbitrary arguments.\n",
    "    \n",
    "    '''\n",
    "    if len(num) == 0:\n",
    "        return 'atleast two parameters required'\n",
    "    else:\n",
    "        return sum(num)\n",
    "\n",
    "def exponent(num,exp):\n",
    "    return num**exp"
   ]
  },
  {
   "cell_type": "code",
   "execution_count": 5,
   "id": "dbe92f43",
   "metadata": {},
   "outputs": [],
   "source": [
    "import mymaths"
   ]
  },
  {
   "cell_type": "code",
   "execution_count": 6,
   "id": "0e79fc1d",
   "metadata": {},
   "outputs": [
    {
     "data": {
      "text/plain": [
       "10000"
      ]
     },
     "execution_count": 6,
     "metadata": {},
     "output_type": "execute_result"
    }
   ],
   "source": [
    "mymaths.exponent(10,4)"
   ]
  },
  {
   "cell_type": "code",
   "execution_count": 7,
   "id": "8ce6d2ca",
   "metadata": {},
   "outputs": [
    {
     "data": {
      "text/plain": [
       "112"
      ]
     },
     "execution_count": 7,
     "metadata": {},
     "output_type": "execute_result"
    }
   ],
   "source": [
    "mymaths.addition(100,12)"
   ]
  },
  {
   "cell_type": "markdown",
   "id": "64b81853",
   "metadata": {},
   "source": [
    "ANALYZE THE FORMATTING OF A STRING WHERE YOU TAKE A STRING AND CALCULATE THE SPACES, WORDS, CHAR INIT. "
   ]
  },
  {
   "cell_type": "code",
   "execution_count": 8,
   "id": "e8cd944b",
   "metadata": {},
   "outputs": [],
   "source": [
    "# %load mymodules.py\n",
    "def charcount(param):\n",
    "    return len([i for i in param if i !=\" \"])\n",
    "\n",
    "\n",
    "def spacecount(param1):\n",
    "    return len([i for i in param1 if i ==\" \"])\n",
    "\n",
    "def splitcount(param2):\n",
    "    return len([i for i in param2.split(',')])\n",
    "\n",
    "def totalcount1(param3):\n",
    "    return len([i for i in param3.split(' ')])\n",
    "\n",
    "def indexfinder(param4):\n",
    "    return param4.find('Hello')\n",
    "\n",
    "def wordfinder(string, wordfind):\n",
    "#     string = input('Enter a line: ')\n",
    "#     wordfind = input('Enter a word, you like to find: ')\n",
    "      for i in string:\n",
    "        if wordfind in string:\n",
    "            return f\" '{wordfind}' >> {True}\"\n",
    "        else:\n",
    "            return f\" '{wordfind}' >> {False}: Not found \"\n",
    "        \n",
    "def splitcount(string1):\n",
    "    return len([i for i in string1.split(',')])\n",
    "\n",
    "def indexfinder(string, indexfind):\n",
    "    for i in string:\n",
    "        if indexfind in string:\n",
    "            return f\" '{indexfind} >> {string.find(indexfind)}'\"\n",
    "        else:\n",
    "            return f\" '{indexfind} >> Not found \""
   ]
  },
  {
   "cell_type": "code",
   "execution_count": 9,
   "id": "dfa7df14",
   "metadata": {},
   "outputs": [],
   "source": [
    "import mymodules"
   ]
  },
  {
   "cell_type": "code",
   "execution_count": 10,
   "id": "a3dce049",
   "metadata": {},
   "outputs": [
    {
     "data": {
      "text/plain": [
       "28"
      ]
     },
     "execution_count": 10,
     "metadata": {},
     "output_type": "execute_result"
    }
   ],
   "source": [
    "charcount('Hello world, My name is Abdullah.')"
   ]
  },
  {
   "cell_type": "code",
   "execution_count": 11,
   "id": "1a837729",
   "metadata": {},
   "outputs": [
    {
     "data": {
      "text/plain": [
       "5"
      ]
     },
     "execution_count": 11,
     "metadata": {},
     "output_type": "execute_result"
    }
   ],
   "source": [
    "spacecount('Hello world, My name is Jaffrey.')"
   ]
  },
  {
   "cell_type": "code",
   "execution_count": 12,
   "id": "a11aa268",
   "metadata": {},
   "outputs": [
    {
     "data": {
      "text/plain": [
       "2"
      ]
     },
     "execution_count": 12,
     "metadata": {},
     "output_type": "execute_result"
    }
   ],
   "source": [
    "splitcount('Hello world, My name is Abdullah.')"
   ]
  },
  {
   "cell_type": "code",
   "execution_count": 13,
   "id": "ebac1e72",
   "metadata": {},
   "outputs": [
    {
     "data": {
      "text/plain": [
       "9"
      ]
     },
     "execution_count": 13,
     "metadata": {},
     "output_type": "execute_result"
    }
   ],
   "source": [
    "totalcount1('Enter a string or something else similiar to string')"
   ]
  },
  {
   "cell_type": "code",
   "execution_count": 14,
   "id": "d6b08780",
   "metadata": {},
   "outputs": [
    {
     "data": {
      "text/plain": [
       "\" 'Hello' >> True\""
      ]
     },
     "execution_count": 14,
     "metadata": {},
     "output_type": "execute_result"
    }
   ],
   "source": [
    "wordfinder('Hello world, My name is Abdullah.', 'Hello')"
   ]
  },
  {
   "cell_type": "code",
   "execution_count": 15,
   "id": "f0636999",
   "metadata": {},
   "outputs": [
    {
     "data": {
      "text/plain": [
       "\" 'Abdullah' >> True\""
      ]
     },
     "execution_count": 15,
     "metadata": {},
     "output_type": "execute_result"
    }
   ],
   "source": [
    "wordfinder('Hello world, My name is Abdullah.', 'Abdullah')"
   ]
  },
  {
   "cell_type": "code",
   "execution_count": 16,
   "id": "606b843c",
   "metadata": {},
   "outputs": [
    {
     "data": {
      "text/plain": [
       "\" 'Jaffrey' >> False: Not found \""
      ]
     },
     "execution_count": 16,
     "metadata": {},
     "output_type": "execute_result"
    }
   ],
   "source": [
    "wordfinder('Hello world, My name is Abdullah.', 'Jaffrey')"
   ]
  },
  {
   "cell_type": "code",
   "execution_count": 17,
   "id": "bbd215df",
   "metadata": {},
   "outputs": [
    {
     "data": {
      "text/plain": [
       "\" 'Abdullah >> 24'\""
      ]
     },
     "execution_count": 17,
     "metadata": {},
     "output_type": "execute_result"
    }
   ],
   "source": [
    "indexfinder('Hello world, My name is Abdullah.', 'Abdullah')"
   ]
  },
  {
   "cell_type": "code",
   "execution_count": 18,
   "id": "801fde04",
   "metadata": {},
   "outputs": [
    {
     "data": {
      "text/plain": [
       "\" 'Jaffrey >> Not found \""
      ]
     },
     "execution_count": 18,
     "metadata": {},
     "output_type": "execute_result"
    }
   ],
   "source": [
    "indexfinder('Hello world, My name is Abdullah.', 'Jaffrey')"
   ]
  },
  {
   "cell_type": "code",
   "execution_count": 19,
   "id": "32f629b9",
   "metadata": {},
   "outputs": [
    {
     "data": {
      "text/plain": [
       "\" 'Hello >> 0'\""
      ]
     },
     "execution_count": 19,
     "metadata": {},
     "output_type": "execute_result"
    }
   ],
   "source": [
    "indexfinder('Hello world, My name is Abdullah.', 'Hello')"
   ]
  },
  {
   "cell_type": "code",
   "execution_count": 20,
   "id": "2f7f63f8",
   "metadata": {},
   "outputs": [],
   "source": [
    "#Done"
   ]
  }
 ],
 "metadata": {
  "kernelspec": {
   "display_name": "Python 3 (ipykernel)",
   "language": "python",
   "name": "python3"
  },
  "language_info": {
   "codemirror_mode": {
    "name": "ipython",
    "version": 3
   },
   "file_extension": ".py",
   "mimetype": "text/x-python",
   "name": "python",
   "nbconvert_exporter": "python",
   "pygments_lexer": "ipython3",
   "version": "3.9.7"
  }
 },
 "nbformat": 4,
 "nbformat_minor": 5
}
