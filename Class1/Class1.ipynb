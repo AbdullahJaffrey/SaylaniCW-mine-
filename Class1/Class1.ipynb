{
 "cells": [
  {
   "cell_type": "code",
   "execution_count": 1,
   "id": "bede54e4",
   "metadata": {},
   "outputs": [],
   "source": [
    "#Class1(9-5-2022)"
   ]
  },
  {
   "cell_type": "code",
   "execution_count": 2,
   "id": "a5fb6e40",
   "metadata": {
    "id": "a5fb6e40",
    "outputId": "843a1538-6e5a-4074-b8a1-75d8242cbb17"
   },
   "outputs": [
    {
     "name": "stdout",
     "output_type": "stream",
     "text": [
      "hello\n"
     ]
    }
   ],
   "source": [
    "print(\"hello\")"
   ]
  },
  {
   "cell_type": "code",
   "execution_count": 3,
   "id": "74b0fdb1",
   "metadata": {
    "id": "74b0fdb1",
    "outputId": "a1142a04-6f15-49ce-9c8e-5cee4629438c"
   },
   "outputs": [
    {
     "name": "stdout",
     "output_type": "stream",
     "text": [
      "hello world\n"
     ]
    }
   ],
   "source": [
    "%run file1.py"
   ]
  },
  {
   "cell_type": "code",
   "execution_count": 4,
   "id": "8244c9af",
   "metadata": {
    "id": "8244c9af"
   },
   "outputs": [
    {
     "name": "stdout",
     "output_type": "stream",
     "text": [
      "hello world\n"
     ]
    }
   ],
   "source": [
    "# %load file1.py\n",
    "print('hello world')"
   ]
  },
  {
   "cell_type": "code",
   "execution_count": 5,
   "id": "1fe1e845",
   "metadata": {
    "id": "1fe1e845",
    "outputId": "a94e28df-4987-43e4-a972-97963c04b254"
   },
   "outputs": [
    {
     "name": "stdout",
     "output_type": "stream",
     "text": [
      "True\n"
     ]
    }
   ],
   "source": [
    "print(True)"
   ]
  },
  {
   "cell_type": "code",
   "execution_count": 6,
   "id": "30d0ca95",
   "metadata": {
    "id": "30d0ca95",
    "outputId": "2b9e4058-3404-441c-9026-8225148e9fde"
   },
   "outputs": [
    {
     "name": "stdout",
     "output_type": "stream",
     "text": [
      "False\n"
     ]
    }
   ],
   "source": [
    "print(False)"
   ]
  },
  {
   "cell_type": "code",
   "execution_count": 7,
   "id": "c98e7838",
   "metadata": {
    "id": "c98e7838",
    "outputId": "75f7b776-fc2f-4cdf-9c0f-1a1ee5ed044a"
   },
   "outputs": [
    {
     "name": "stdout",
     "output_type": "stream",
     "text": [
      "3.4\n"
     ]
    }
   ],
   "source": [
    "print(3.4)"
   ]
  },
  {
   "cell_type": "code",
   "execution_count": 8,
   "id": "b02d88eb",
   "metadata": {
    "id": "b02d88eb",
    "outputId": "50e11baf-f3ea-41d6-d180-336009244d21"
   },
   "outputs": [
    {
     "name": "stdout",
     "output_type": "stream",
     "text": [
      "5\n"
     ]
    }
   ],
   "source": [
    "print(5)"
   ]
  },
  {
   "cell_type": "code",
   "execution_count": 9,
   "id": "fffaf488",
   "metadata": {
    "id": "fffaf488",
    "outputId": "650380ff-950a-4169-a9a7-c82e28049937"
   },
   "outputs": [
    {
     "name": "stdout",
     "output_type": "stream",
     "text": [
      "Abdullah 3 4.9 True a\n"
     ]
    }
   ],
   "source": [
    "print(\"Abdullah\",3,4.9,True,'a')"
   ]
  },
  {
   "cell_type": "code",
   "execution_count": null,
   "id": "10da2193",
   "metadata": {
    "id": "10da2193"
   },
   "outputs": [],
   "source": []
  }
 ],
 "metadata": {
  "colab": {
   "name": "Class1(9)5(22).ipynb",
   "provenance": []
  },
  "kernelspec": {
   "display_name": "Python 3 (ipykernel)",
   "language": "python",
   "name": "python3"
  },
  "language_info": {
   "codemirror_mode": {
    "name": "ipython",
    "version": 3
   },
   "file_extension": ".py",
   "mimetype": "text/x-python",
   "name": "python",
   "nbconvert_exporter": "python",
   "pygments_lexer": "ipython3",
   "version": "3.9.7"
  }
 },
 "nbformat": 4,
 "nbformat_minor": 5
}
