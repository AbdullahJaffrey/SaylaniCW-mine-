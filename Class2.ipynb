{
 "cells": [
  {
   "cell_type": "code",
   "execution_count": 1,
   "id": "7d6ef7a4",
   "metadata": {},
   "outputs": [],
   "source": [
    "#class2 (12-5-2022)"
   ]
  },
  {
   "cell_type": "markdown",
   "id": "6286bf21",
   "metadata": {
    "id": "6286bf21"
   },
   "source": [
    "# Python class 2\n"
   ]
  },
  {
   "cell_type": "markdown",
   "id": "5a5d3537",
   "metadata": {
    "id": "5a5d3537"
   },
   "source": [
    "Print funtion: print() is a python built-in function/statement\n",
    "\n"
   ]
  },
  {
   "cell_type": "code",
   "execution_count": 2,
   "id": "8505f3eb",
   "metadata": {
    "id": "8505f3eb",
    "outputId": "fe2ad943-fb01-4b42-d46c-3028b1498f68"
   },
   "outputs": [
    {
     "name": "stdout",
     "output_type": "stream",
     "text": [
      "Pakistan zindabad\n"
     ]
    }
   ],
   "source": [
    "print(\"Pakistan zindabad\")\n",
    "#function-name    #argument "
   ]
  },
  {
   "cell_type": "code",
   "execution_count": 3,
   "id": "18757c26",
   "metadata": {
    "id": "18757c26",
    "outputId": "73273085-f88a-4935-8bfe-b3bb668c0387"
   },
   "outputs": [
    {
     "name": "stdout",
     "output_type": "stream",
     "text": [
      "i am a string value 1217 122.56 True\n"
     ]
    }
   ],
   "source": [
    "print(\"i am a string value\", 1217, 122.56, True)"
   ]
  },
  {
   "cell_type": "code",
   "execution_count": 4,
   "id": "aab59848",
   "metadata": {
    "id": "aab59848",
    "outputId": "6b827c03-af7e-46d9-df42-1b08c519376b"
   },
   "outputs": [
    {
     "name": "stdout",
     "output_type": "stream",
     "text": [
      "i am a string value--1217--122.56--True\n"
     ]
    }
   ],
   "source": [
    "print(\"i am a string value\", 1217, 122.56, True, sep=\"--\")"
   ]
  },
  {
   "cell_type": "code",
   "execution_count": 5,
   "id": "4c944292",
   "metadata": {
    "id": "4c944292"
   },
   "outputs": [
    {
     "name": "stdout",
     "output_type": "stream",
     "text": [
      "Hello world.Bye\n"
     ]
    }
   ],
   "source": [
    "print(\"Hello world\",end=\".\")\n",
    "print(\"Bye\")"
   ]
  },
  {
   "cell_type": "code",
   "execution_count": 6,
   "id": "61dd527d",
   "metadata": {
    "id": "61dd527d",
    "outputId": "ed6ef779-a858-46b7-ca4b-ba3478594e9f"
   },
   "outputs": [
    {
     "name": "stdout",
     "output_type": "stream",
     "text": [
      "Hello world\n"
     ]
    }
   ],
   "source": [
    "print(\"Hello world\")"
   ]
  },
  {
   "cell_type": "markdown",
   "id": "94af90dd",
   "metadata": {
    "id": "94af90dd"
   },
   "source": [
    "# Variables for string"
   ]
  },
  {
   "cell_type": "code",
   "execution_count": 7,
   "id": "2ba6d5cd",
   "metadata": {
    "id": "2ba6d5cd"
   },
   "outputs": [],
   "source": [
    "#age is a variable. \n",
    "#1.5 is a float value.\n",
    "#we can say that 1.5 is assigned to age.\n",
    "# = >>>>> is assignment operator."
   ]
  },
  {
   "cell_type": "code",
   "execution_count": 8,
   "id": "e86733f8",
   "metadata": {},
   "outputs": [],
   "source": [
    "age = 1.5"
   ]
  },
  {
   "cell_type": "code",
   "execution_count": 9,
   "id": "82e1fe2b",
   "metadata": {
    "id": "82e1fe2b"
   },
   "outputs": [],
   "source": [
    "name = \"Noah\""
   ]
  },
  {
   "cell_type": "code",
   "execution_count": 10,
   "id": "514ecca3",
   "metadata": {
    "id": "514ecca3"
   },
   "outputs": [
    {
     "data": {
      "text/plain": [
       "1.5"
      ]
     },
     "execution_count": 10,
     "metadata": {},
     "output_type": "execute_result"
    }
   ],
   "source": [
    "age"
   ]
  },
  {
   "cell_type": "code",
   "execution_count": 11,
   "id": "c1e198f6",
   "metadata": {
    "id": "c1e198f6"
   },
   "outputs": [
    {
     "data": {
      "text/plain": [
       "'Noah'"
      ]
     },
     "execution_count": 11,
     "metadata": {},
     "output_type": "execute_result"
    }
   ],
   "source": [
    "name"
   ]
  },
  {
   "cell_type": "code",
   "execution_count": 12,
   "id": "6c6dcf0d",
   "metadata": {
    "id": "6c6dcf0d",
    "outputId": "57f09d41-3506-4e53-e498-7dd46dc2433f"
   },
   "outputs": [
    {
     "data": {
      "text/plain": [
       "2234269211600"
      ]
     },
     "execution_count": 12,
     "metadata": {},
     "output_type": "execute_result"
    }
   ],
   "source": [
    "id(age)"
   ]
  },
  {
   "cell_type": "code",
   "execution_count": 13,
   "id": "8724fa96",
   "metadata": {
    "id": "8724fa96",
    "outputId": "c1b37442-7cc5-4099-e81c-8a1b35476673"
   },
   "outputs": [
    {
     "data": {
      "text/plain": [
       "float"
      ]
     },
     "execution_count": 13,
     "metadata": {},
     "output_type": "execute_result"
    }
   ],
   "source": [
    "type(age)"
   ]
  },
  {
   "cell_type": "code",
   "execution_count": 14,
   "id": "46614ace",
   "metadata": {
    "id": "46614ace",
    "outputId": "ee3a68ee-4c08-4fd9-c0eb-8cae6b959df1"
   },
   "outputs": [
    {
     "data": {
      "text/plain": [
       "str"
      ]
     },
     "execution_count": 14,
     "metadata": {},
     "output_type": "execute_result"
    }
   ],
   "source": [
    "type (name)"
   ]
  },
  {
   "cell_type": "markdown",
   "id": "7770218c",
   "metadata": {
    "id": "7770218c"
   },
   "source": [
    "# Operaters:\n",
    "\n",
    "* Addition (+)\n",
    "* substraction(-)\n",
    "* Multiply(*)\n",
    "* Division (/) and (//)\n",
    "\n",
    "\n"
   ]
  },
  {
   "cell_type": "code",
   "execution_count": 15,
   "id": "a0a58454",
   "metadata": {
    "id": "a0a58454",
    "outputId": "e7ff2023-a27f-4d97-9e9b-43b8a3792b5b"
   },
   "outputs": [
    {
     "data": {
      "text/plain": [
       "95"
      ]
     },
     "execution_count": 15,
     "metadata": {},
     "output_type": "execute_result"
    }
   ],
   "source": [
    "marks = 45\n",
    "\n",
    "marks + 50"
   ]
  },
  {
   "cell_type": "code",
   "execution_count": 16,
   "id": "dc1b9793",
   "metadata": {
    "id": "8454526d"
   },
   "outputs": [
    {
     "data": {
      "text/plain": [
       "45"
      ]
     },
     "execution_count": 16,
     "metadata": {},
     "output_type": "execute_result"
    }
   ],
   "source": [
    "marks"
   ]
  },
  {
   "cell_type": "code",
   "execution_count": 17,
   "id": "205b38be",
   "metadata": {
    "id": "205b38be",
    "outputId": "f83b81e4-512d-4358-d6e1-6044620d60c0"
   },
   "outputs": [
    {
     "data": {
      "text/plain": [
       "1.5"
      ]
     },
     "execution_count": 17,
     "metadata": {},
     "output_type": "execute_result"
    }
   ],
   "source": [
    "age"
   ]
  },
  {
   "cell_type": "code",
   "execution_count": 18,
   "id": "35ef7b17",
   "metadata": {
    "id": "35ef7b17"
   },
   "outputs": [],
   "source": [
    "age = age + 1"
   ]
  },
  {
   "cell_type": "code",
   "execution_count": 19,
   "id": "3c213e8a",
   "metadata": {
    "id": "3c213e8a",
    "outputId": "048daacd-146c-41b9-abf0-0cdd5ad7b28e"
   },
   "outputs": [
    {
     "data": {
      "text/plain": [
       "2.5"
      ]
     },
     "execution_count": 19,
     "metadata": {},
     "output_type": "execute_result"
    }
   ],
   "source": [
    "age"
   ]
  },
  {
   "cell_type": "code",
   "execution_count": 20,
   "id": "3467d0ab",
   "metadata": {
    "id": "3467d0ab"
   },
   "outputs": [],
   "source": [
    "age -= 1 "
   ]
  },
  {
   "cell_type": "code",
   "execution_count": 21,
   "id": "8247baba",
   "metadata": {
    "id": "8247baba",
    "outputId": "99aeb5cd-23f1-4e54-9a44-7ab67137984e"
   },
   "outputs": [
    {
     "data": {
      "text/plain": [
       "1.5"
      ]
     },
     "execution_count": 21,
     "metadata": {},
     "output_type": "execute_result"
    }
   ],
   "source": [
    "age"
   ]
  },
  {
   "cell_type": "code",
   "execution_count": 22,
   "id": "2a5aa951",
   "metadata": {
    "id": "2a5aa951"
   },
   "outputs": [],
   "source": [
    "#Division by default in python is float"
   ]
  },
  {
   "cell_type": "code",
   "execution_count": 23,
   "id": "136e9cad",
   "metadata": {
    "id": "136e9cad",
    "outputId": "7a6d7a3b-bc19-4f8d-e436-d81620394b30"
   },
   "outputs": [
    {
     "data": {
      "text/plain": [
       "2.0"
      ]
     },
     "execution_count": 23,
     "metadata": {},
     "output_type": "execute_result"
    }
   ],
   "source": [
    "10/5"
   ]
  },
  {
   "cell_type": "code",
   "execution_count": 24,
   "id": "43f97f9f",
   "metadata": {
    "id": "43f97f9f",
    "outputId": "eff94e0a-bf2b-49f0-99f3-8ae5ec58b98a"
   },
   "outputs": [
    {
     "data": {
      "text/plain": [
       "2"
      ]
     },
     "execution_count": 24,
     "metadata": {},
     "output_type": "execute_result"
    }
   ],
   "source": [
    "#makes the value from float to integer, and eliminates the point value.\n",
    "10//5"
   ]
  },
  {
   "cell_type": "code",
   "execution_count": 25,
   "id": "3bed108f",
   "metadata": {
    "id": "3bed108f",
    "outputId": "f1e9fcc7-10d8-40fb-ab11-77eda1963cb0"
   },
   "outputs": [
    {
     "data": {
      "text/plain": [
       "1"
      ]
     },
     "execution_count": 25,
     "metadata": {},
     "output_type": "execute_result"
    }
   ],
   "source": [
    "import math\n",
    "math.floor(1.5)"
   ]
  },
  {
   "cell_type": "code",
   "execution_count": 26,
   "id": "e9b428a9",
   "metadata": {
    "id": "e9b428a9",
    "outputId": "be88fe35-94ca-40df-d9f5-41c9427bd9e0"
   },
   "outputs": [
    {
     "data": {
      "text/plain": [
       "2"
      ]
     },
     "execution_count": 26,
     "metadata": {},
     "output_type": "execute_result"
    }
   ],
   "source": [
    "math.ceil(1.5)"
   ]
  },
  {
   "cell_type": "code",
   "execution_count": 27,
   "id": "7ee4d141",
   "metadata": {
    "id": "7ee4d141",
    "outputId": "14c4653a-54ee-46e3-b1cb-6499b96f7efa"
   },
   "outputs": [
    {
     "name": "stdout",
     "output_type": "stream",
     "text": [
      "25\n"
     ]
    }
   ],
   "source": [
    "A = 25\n",
    "print(A)"
   ]
  },
  {
   "cell_type": "code",
   "execution_count": 28,
   "id": "73b63a05",
   "metadata": {
    "id": "73b63a05",
    "outputId": "61a5cb5e-9065-4022-8579-ee63f3995957"
   },
   "outputs": [
    {
     "name": "stdout",
     "output_type": "stream",
     "text": [
      "20\n",
      "120\n"
     ]
    }
   ],
   "source": [
    "A -= 5\n",
    "B = A + 100\n",
    "print(A)\n",
    "print(B)\n"
   ]
  },
  {
   "cell_type": "markdown",
   "id": "a027ebfa",
   "metadata": {
    "id": "a027ebfa"
   },
   "source": [
    "# Variable Names Legal and illegal:\n",
    "\n",
    "some words cann't be used as a variable name since they are reserved for somthing else\n",
    "\n",
    "i.e:\n",
    "\n",
    "print,else,if,for,in,....\n"
   ]
  },
  {
   "cell_type": "code",
   "execution_count": 29,
   "id": "568fe025",
   "metadata": {
    "id": "568fe025"
   },
   "outputs": [],
   "source": [
    "# else = 123"
   ]
  },
  {
   "cell_type": "code",
   "execution_count": 30,
   "id": "4a0d6b09",
   "metadata": {
    "id": "4a0d6b09",
    "outputId": "2af6a589-0b85-4701-9a2d-cab0b6d1ffaa"
   },
   "outputs": [
    {
     "ename": "SyntaxError",
     "evalue": "invalid syntax (Temp/ipykernel_6268/3999172609.py, line 2)",
     "output_type": "error",
     "traceback": [
      "\u001b[1;36m  File \u001b[1;32m\"C:\\Users\\abdul\\AppData\\Local\\Temp/ipykernel_6268/3999172609.py\"\u001b[1;36m, line \u001b[1;32m2\u001b[0m\n\u001b[1;33m    father name = \"Jafri\"\u001b[0m\n\u001b[1;37m           ^\u001b[0m\n\u001b[1;31mSyntaxError\u001b[0m\u001b[1;31m:\u001b[0m invalid syntax\n"
     ]
    }
   ],
   "source": [
    "#variable cannot have space\n",
    "father name = \"Jafri\""
   ]
  },
  {
   "cell_type": "code",
   "execution_count": 31,
   "id": "915e2511",
   "metadata": {
    "id": "915e2511"
   },
   "outputs": [
    {
     "ename": "SyntaxError",
     "evalue": "cannot assign to operator (Temp/ipykernel_6268/4026648319.py, line 2)",
     "output_type": "error",
     "traceback": [
      "\u001b[1;36m  File \u001b[1;32m\"C:\\Users\\abdul\\AppData\\Local\\Temp/ipykernel_6268/4026648319.py\"\u001b[1;36m, line \u001b[1;32m2\u001b[0m\n\u001b[1;33m    father@name =\"Jafri\"\u001b[0m\n\u001b[1;37m    ^\u001b[0m\n\u001b[1;31mSyntaxError\u001b[0m\u001b[1;31m:\u001b[0m cannot assign to operator\n"
     ]
    }
   ],
   "source": [
    "#special characters and number cannot be used as variable\n",
    "father@name =\"Jafri\"\n",
    "father-name =\"Jafri\""
   ]
  },
  {
   "cell_type": "code",
   "execution_count": 32,
   "id": "eede87fe",
   "metadata": {
    "id": "eede87fe"
   },
   "outputs": [],
   "source": [
    "father_Name = \"Jafri\"\n",
    "father_name112 = \"Jafri\""
   ]
  },
  {
   "cell_type": "code",
   "execution_count": 33,
   "id": "782da426",
   "metadata": {},
   "outputs": [],
   "source": [
    "#Above one is okay but not preffered"
   ]
  },
  {
   "cell_type": "markdown",
   "id": "afbbda3a",
   "metadata": {
    "id": "afbbda3a"
   },
   "source": [
    "# USER Input"
   ]
  },
  {
   "cell_type": "code",
   "execution_count": 34,
   "id": "b440623b",
   "metadata": {
    "id": "b440623b"
   },
   "outputs": [
    {
     "name": "stdout",
     "output_type": "stream",
     "text": [
      "23\n"
     ]
    }
   ],
   "source": [
    "age = input()"
   ]
  },
  {
   "cell_type": "code",
   "execution_count": 35,
   "id": "391a50c2",
   "metadata": {
    "id": "391a50c2"
   },
   "outputs": [
    {
     "name": "stdout",
     "output_type": "stream",
     "text": [
      "Enter your age: 23\n",
      "23\n"
     ]
    }
   ],
   "source": [
    "age = input(\"Enter your age: \")\n",
    "print(age)"
   ]
  },
  {
   "cell_type": "code",
   "execution_count": 36,
   "id": "8edc9370",
   "metadata": {
    "id": "8edc9370"
   },
   "outputs": [
    {
     "name": "stdout",
     "output_type": "stream",
     "text": [
      "Enter your Height: 6\n",
      "6\n"
     ]
    }
   ],
   "source": [
    "height = input(\"Enter your Height: \")\n",
    "print(height)"
   ]
  },
  {
   "cell_type": "code",
   "execution_count": 37,
   "id": "d6428f56",
   "metadata": {
    "id": "d6428f56"
   },
   "outputs": [
    {
     "name": "stdout",
     "output_type": "stream",
     "text": [
      "Enter your name: Abdullah\n",
      "Enter your Age: 23\n",
      "your Name is  Abdullah your Age is  23\n"
     ]
    }
   ],
   "source": [
    "name = input(\"Enter your name: \")\n",
    "age = input (\"Enter your Age: \")\n",
    "print (\"your Name is \", name, \"your Age is \",age)\n"
   ]
  },
  {
   "cell_type": "markdown",
   "id": "f2b85ef0",
   "metadata": {
    "id": "f2b85ef0"
   },
   "source": [
    "# String Concatination\n"
   ]
  },
  {
   "cell_type": "code",
   "execution_count": 38,
   "id": "d3401173",
   "metadata": {
    "id": "d3401173"
   },
   "outputs": [
    {
     "data": {
      "text/plain": [
       "'Noah Hussein'"
      ]
     },
     "execution_count": 38,
     "metadata": {},
     "output_type": "execute_result"
    }
   ],
   "source": [
    "first_name = \"Noah\"\n",
    "last_name = \"Hussein\"\n",
    "first_name + \" \" + last_name"
   ]
  },
  {
   "cell_type": "code",
   "execution_count": 39,
   "id": "23c2e44c",
   "metadata": {
    "id": "23c2e44c"
   },
   "outputs": [],
   "source": [
    "# + operator "
   ]
  },
  {
   "cell_type": "markdown",
   "id": "4fac7dee",
   "metadata": {
    "id": "4fac7dee"
   },
   "source": [
    "int + int >>>>>> addition                                       \n",
    "string + string >>>>> concatination                                        \n",
    "string + int >>>>  error                                          \n",
    "int + string >>>>  error"
   ]
  },
  {
   "cell_type": "code",
   "execution_count": 40,
   "id": "2841363f",
   "metadata": {
    "id": "2841363f"
   },
   "outputs": [
    {
     "name": "stdout",
     "output_type": "stream",
     "text": [
      "Dear your Name is Abdullah And your age is 23\n"
     ]
    }
   ],
   "source": [
    "print (\"Dear your Name is \"+ name + \" And your age is \"+ age)"
   ]
  },
  {
   "cell_type": "markdown",
   "id": "b8aa0c2b",
   "metadata": {
    "id": "b8aa0c2b"
   },
   "source": [
    "# Type casting\n"
   ]
  },
  {
   "cell_type": "code",
   "execution_count": 41,
   "id": "496efd1a",
   "metadata": {
    "id": "496efd1a"
   },
   "outputs": [
    {
     "data": {
      "text/plain": [
       "100"
      ]
     },
     "execution_count": 41,
     "metadata": {},
     "output_type": "execute_result"
    }
   ],
   "source": [
    "number_of_apples = \"100\"\n",
    "number_of_apples = int(number_of_apples)\n",
    "number_of_apples "
   ]
  },
  {
   "cell_type": "code",
   "execution_count": 42,
   "id": "c455d98a",
   "metadata": {
    "id": "c455d98a"
   },
   "outputs": [
    {
     "ename": "SyntaxError",
     "evalue": "cannot assign to function call (Temp/ipykernel_6268/504631435.py, line 1)",
     "output_type": "error",
     "traceback": [
      "\u001b[1;36m  File \u001b[1;32m\"C:\\Users\\abdul\\AppData\\Local\\Temp/ipykernel_6268/504631435.py\"\u001b[1;36m, line \u001b[1;32m1\u001b[0m\n\u001b[1;33m    int(number_of_apples ) = \"100\"\u001b[0m\n\u001b[1;37m    ^\u001b[0m\n\u001b[1;31mSyntaxError\u001b[0m\u001b[1;31m:\u001b[0m cannot assign to function call\n"
     ]
    }
   ],
   "source": [
    "int(number_of_apples ) = \"100\""
   ]
  },
  {
   "cell_type": "code",
   "execution_count": 44,
   "id": "b80e198d",
   "metadata": {
    "id": "b80e198d"
   },
   "outputs": [
    {
     "name": "stdout",
     "output_type": "stream",
     "text": [
      "enter your age: 23\n",
      "your name: Abdullah\n"
     ]
    },
    {
     "ename": "TypeError",
     "evalue": "can only concatenate str (not \"int\") to str",
     "output_type": "error",
     "traceback": [
      "\u001b[1;31m---------------------------------------------------------------------------\u001b[0m",
      "\u001b[1;31mTypeError\u001b[0m                                 Traceback (most recent call last)",
      "\u001b[1;32m~\\AppData\\Local\\Temp/ipykernel_6268/2693702236.py\u001b[0m in \u001b[0;36m<module>\u001b[1;34m\u001b[0m\n\u001b[0;32m      1\u001b[0m \u001b[0mage\u001b[0m \u001b[1;33m=\u001b[0m \u001b[0mint\u001b[0m\u001b[1;33m(\u001b[0m\u001b[0minput\u001b[0m\u001b[1;33m(\u001b[0m\u001b[1;34m\"enter your age: \"\u001b[0m\u001b[1;33m)\u001b[0m\u001b[1;33m)\u001b[0m\u001b[1;33m\u001b[0m\u001b[1;33m\u001b[0m\u001b[0m\n\u001b[0;32m      2\u001b[0m \u001b[0mname\u001b[0m \u001b[1;33m=\u001b[0m \u001b[0minput\u001b[0m\u001b[1;33m(\u001b[0m\u001b[1;34m\"your name: \"\u001b[0m\u001b[1;33m)\u001b[0m\u001b[1;33m\u001b[0m\u001b[1;33m\u001b[0m\u001b[0m\n\u001b[1;32m----> 3\u001b[1;33m \u001b[0mprint\u001b[0m \u001b[1;33m(\u001b[0m\u001b[1;34m\"Your Name is \"\u001b[0m\u001b[1;33m+\u001b[0m \u001b[0mname\u001b[0m \u001b[1;33m+\u001b[0m \u001b[1;34m\" and your age is \"\u001b[0m\u001b[1;33m+\u001b[0m \u001b[0mage\u001b[0m\u001b[1;33m)\u001b[0m\u001b[1;33m\u001b[0m\u001b[1;33m\u001b[0m\u001b[0m\n\u001b[0m",
      "\u001b[1;31mTypeError\u001b[0m: can only concatenate str (not \"int\") to str"
     ]
    }
   ],
   "source": [
    "age = int(input(\"enter your age: \"))\n",
    "name = input(\"your name: \")\n",
    "print (\"Your Name is \"+ name + \" and your age is \"+ age)"
   ]
  },
  {
   "cell_type": "code",
   "execution_count": 45,
   "id": "4df4e2b7",
   "metadata": {
    "id": "4df4e2b7"
   },
   "outputs": [
    {
     "name": "stdout",
     "output_type": "stream",
     "text": [
      "Your Name is Abdullah And your age is 23\n"
     ]
    }
   ],
   "source": [
    "print (\"Your Name is \"+ name + \" And your age is \"+ str(age))"
   ]
  },
  {
   "cell_type": "code",
   "execution_count": 46,
   "id": "cec1b72f",
   "metadata": {
    "id": "cec1b72f",
    "outputId": "5fbd2ab2-d748-4441-f912-755f7e11840d"
   },
   "outputs": [
    {
     "name": "stdout",
     "output_type": "stream",
     "text": [
      "23 Noah\n",
      "23 55\n"
     ]
    }
   ],
   "source": [
    "a=int(23)\n",
    "b=\"Noah\"\n",
    "c=int (55)\n",
    "\n",
    "print (str(a)+ \" \"+b)\n",
    "print (str(a)+ \" \" + str(c))"
   ]
  },
  {
   "cell_type": "markdown",
   "id": "69cab8b2",
   "metadata": {
    "id": "69cab8b2"
   },
   "source": [
    "# string formation"
   ]
  },
  {
   "cell_type": "code",
   "execution_count": 47,
   "id": "89e60061",
   "metadata": {
    "id": "89e60061"
   },
   "outputs": [
    {
     "name": "stdout",
     "output_type": "stream",
     "text": [
      "Enter the name of the company Dawlance\n",
      "how many units do you buy? 10\n",
      "Enter the price of per unit 90000\n"
     ]
    }
   ],
   "source": [
    "name_of_company = input(\"Enter the name of the company \")\n",
    "number_of_units = int(input(\"how many units do you buy? \"))\n",
    "price_per_unit = int(input(\"Enter the price of per unit \"))\n",
    "total_price = number_of_units * price_per_unit"
   ]
  },
  {
   "cell_type": "code",
   "execution_count": 50,
   "id": "a95f5772",
   "metadata": {
    "id": "a95f5772"
   },
   "outputs": [
    {
     "name": "stdout",
     "output_type": "stream",
     "text": [
      "You have ordered 10 units of the company Dawlance. The total cost of your units is 900000 \n"
     ]
    }
   ],
   "source": [
    "print (\"You have ordered {} units of the company {}. The total cost of your units is {} \".format(number_of_units,name_of_company,total_price))"
   ]
  },
  {
   "cell_type": "code",
   "execution_count": null,
   "id": "836ab21d",
   "metadata": {
    "id": "836ab21d"
   },
   "outputs": [],
   "source": []
  }
 ],
 "metadata": {
  "colab": {
   "name": "class 2 12may.ipynb",
   "provenance": []
  },
  "kernelspec": {
   "display_name": "Python 3 (ipykernel)",
   "language": "python",
   "name": "python3"
  },
  "language_info": {
   "codemirror_mode": {
    "name": "ipython",
    "version": 3
   },
   "file_extension": ".py",
   "mimetype": "text/x-python",
   "name": "python",
   "nbconvert_exporter": "python",
   "pygments_lexer": "ipython3",
   "version": "3.9.7"
  }
 },
 "nbformat": 4,
 "nbformat_minor": 5
}
