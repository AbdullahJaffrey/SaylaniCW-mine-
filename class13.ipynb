{
 "cells": [
  {
   "cell_type": "markdown",
   "id": "eb6dec45",
   "metadata": {},
   "source": [
    "# CLASS 13:\n",
    "20-June-2022 7.45pm - 10.15pm\n"
   ]
  },
  {
   "cell_type": "markdown",
   "id": "a68262be",
   "metadata": {},
   "source": [
    "### WHILE LOOP:"
   ]
  },
  {
   "cell_type": "code",
   "execution_count": 1,
   "id": "f2c51c98",
   "metadata": {},
   "outputs": [],
   "source": [
    "names = ['asad','nasir','abdullah']"
   ]
  },
  {
   "cell_type": "code",
   "execution_count": 2,
   "id": "c35e2554",
   "metadata": {},
   "outputs": [
    {
     "name": "stdout",
     "output_type": "stream",
     "text": [
      "ASAD NASIR ABDULLAH "
     ]
    }
   ],
   "source": [
    "for name in names:\n",
    "    print(name.upper(), end=' ')"
   ]
  },
  {
   "cell_type": "code",
   "execution_count": 3,
   "id": "173a24fb",
   "metadata": {},
   "outputs": [
    {
     "name": "stdout",
     "output_type": "stream",
     "text": [
      "asad\n",
      "nasir\n",
      "abdullah\n"
     ]
    }
   ],
   "source": [
    "count = 0\n",
    "while count<len(names):\n",
    "    print(names[count])\n",
    "    count +=1"
   ]
  },
  {
   "cell_type": "code",
   "execution_count": 4,
   "id": "520069be",
   "metadata": {},
   "outputs": [
    {
     "name": "stdout",
     "output_type": "stream",
     "text": [
      "0 python\n",
      "1 python\n",
      "2 python\n",
      "3 python\n",
      "4 python\n"
     ]
    }
   ],
   "source": [
    "for a in range(5):\n",
    "    print(a, 'python')"
   ]
  },
  {
   "cell_type": "code",
   "execution_count": 5,
   "id": "7523d006",
   "metadata": {},
   "outputs": [
    {
     "name": "stdout",
     "output_type": "stream",
     "text": [
      "0 python\n",
      "1 python\n",
      "2 python\n",
      "3 python\n",
      "4 python\n"
     ]
    }
   ],
   "source": [
    "count = 0\n",
    "while count<5:\n",
    "    print(count, \"python\")\n",
    "    count +=1"
   ]
  },
  {
   "cell_type": "code",
   "execution_count": 6,
   "id": "bed9f79c",
   "metadata": {},
   "outputs": [
    {
     "name": "stdout",
     "output_type": "stream",
     "text": [
      "10 python\n",
      "9 python\n",
      "8 python\n",
      "7 python\n",
      "6 python\n",
      "5 python\n",
      "4 python\n",
      "3 python\n",
      "2 python\n",
      "1 python\n",
      "0 python\n"
     ]
    }
   ],
   "source": [
    "count = 10\n",
    "while count>=0:\n",
    "    print(count, \"python\")\n",
    "    count -=1"
   ]
  },
  {
   "cell_type": "code",
   "execution_count": 7,
   "id": "9d3f4be5",
   "metadata": {},
   "outputs": [
    {
     "name": "stdout",
     "output_type": "stream",
     "text": [
      "2\n",
      "4\n",
      "6\n",
      "8\n",
      "10\n",
      "12\n",
      "14\n",
      "16\n",
      "18\n",
      "20\n"
     ]
    }
   ],
   "source": [
    "count = 0\n",
    "while count<20:\n",
    "    count +=1\n",
    "    if count%2 == 0:\n",
    "        print(count)"
   ]
  },
  {
   "cell_type": "code",
   "execution_count": 8,
   "id": "b015a747",
   "metadata": {},
   "outputs": [
    {
     "name": "stdout",
     "output_type": "stream",
     "text": [
      "1\n",
      "3\n",
      "5\n",
      "7\n",
      "9\n",
      "11\n",
      "13\n",
      "15\n",
      "17\n",
      "19\n"
     ]
    }
   ],
   "source": [
    "count = 0\n",
    "while count<20:\n",
    "    count +=1\n",
    "    if count%2 == 0:\n",
    "        continue\n",
    "    print(count)"
   ]
  },
  {
   "cell_type": "code",
   "execution_count": 9,
   "id": "4bee768a",
   "metadata": {},
   "outputs": [
    {
     "name": "stdout",
     "output_type": "stream",
     "text": [
      "[2, 4, 6, 8, 10, 12, 14, 16, 18, 20]\n"
     ]
    }
   ],
   "source": [
    "lists = []\n",
    "count = 0\n",
    "while count<20:\n",
    "    count +=1\n",
    "    if count%2 == 0:\n",
    "        lists.append(count)\n",
    "print(lists)"
   ]
  },
  {
   "cell_type": "code",
   "execution_count": 10,
   "id": "e31af978",
   "metadata": {},
   "outputs": [
    {
     "name": "stdout",
     "output_type": "stream",
     "text": [
      "Enter your best friends name or press 'q' to exit: Bisma\n",
      "Enter your best friends name or press 'q' to exit: Usra\n",
      "Enter your best friends name or press 'q' to exit: Ahsan\n",
      "Enter your best friends name or press 'q' to exit: Umair\n",
      "Enter your best friends name or press 'q' to exit: Mehak\n",
      "Enter your best friends name or press 'q' to exit: Noah\n",
      "Enter your best friends name or press 'q' to exit: q\n"
     ]
    }
   ],
   "source": [
    "best_friends = []\n",
    "\n",
    "while True:\n",
    "    best_friend = input(\"Enter your best friends name or press 'q' to exit: \")\n",
    "    if best_friend == 'q':\n",
    "        break\n",
    "    else:\n",
    "        best_friends.append(best_friend)\n"
   ]
  },
  {
   "cell_type": "code",
   "execution_count": 11,
   "id": "59613eae",
   "metadata": {},
   "outputs": [
    {
     "data": {
      "text/plain": [
       "['Bisma', 'Usra', 'Ahsan', 'Umair', 'Mehak', 'Noah']"
      ]
     },
     "execution_count": 11,
     "metadata": {},
     "output_type": "execute_result"
    }
   ],
   "source": [
    "best_friends"
   ]
  },
  {
   "cell_type": "code",
   "execution_count": 12,
   "id": "e82f39ac",
   "metadata": {},
   "outputs": [
    {
     "name": "stdout",
     "output_type": "stream",
     "text": [
      "Enter your best friends name or press 'q' to exit: Usra\n",
      "Enter your best friends name or press 'q' to exit: Yasmeen\n",
      "Enter your best friends name or press 'q' to exit: Noah\n",
      "Enter your best friends name or press 'q' to exit: Bisma\n",
      "Enter your best friends name or press 'q' to exit: q\n"
     ]
    }
   ],
   "source": [
    "best_friends = []\n",
    "\n",
    "while True:\n",
    "    best_friend = input(\"Enter your best friends name or press 'q' to exit: \")\n",
    "    if best_friend == 'q':\n",
    "        break\n",
    "    else:\n",
    "        best_friends.append(best_friend)\n"
   ]
  },
  {
   "cell_type": "code",
   "execution_count": 13,
   "id": "9e791394",
   "metadata": {},
   "outputs": [
    {
     "name": "stdout",
     "output_type": "stream",
     "text": [
      "Enter number or press '0' to exit: 1\n",
      "Enter number or press '0' to exit: 2\n",
      "Enter number or press '0' to exit: 3\n",
      "Enter number or press '0' to exit: 4\n",
      "Enter number or press '0' to exit: 5\n",
      "Enter number or press '0' to exit: 6\n",
      "Enter number or press '0' to exit: 7\n",
      "Enter number or press '0' to exit: 8\n",
      "Enter number or press '0' to exit: 9\n",
      "Enter number or press '0' to exit: 0\n",
      "45\n"
     ]
    }
   ],
   "source": [
    "numbers = []\n",
    "flag=True\n",
    "while flag:\n",
    "    num = int(input(\"Enter number or press '0' to exit: \"))\n",
    "    if num == 0:\n",
    "        flag = False\n",
    "    else:\n",
    "        numbers.append(num)\n",
    "        total =sum(numbers)\n",
    "print(total)"
   ]
  },
  {
   "cell_type": "code",
   "execution_count": 14,
   "id": "9c15fc41",
   "metadata": {},
   "outputs": [
    {
     "name": "stdout",
     "output_type": "stream",
     "text": [
      "Enter number or press '0' to exit: 9\n",
      "Enter number or press '0' to exit: 8\n",
      "Enter number or press '0' to exit: 7\n",
      "Enter number or press '0' to exit: 6\n",
      "Enter number or press '0' to exit: 0\n",
      "30\n"
     ]
    }
   ],
   "source": [
    "numbers = []\n",
    "flag=True\n",
    "while flag:\n",
    "    num = int(input(\"Enter number or press '0' to exit: \"))\n",
    "    if num == 0:\n",
    "        flag = False\n",
    "    else:\n",
    "        numbers.append(num)\n",
    "        total =sum(numbers)\n",
    "print(total)"
   ]
  },
  {
   "cell_type": "code",
   "execution_count": 15,
   "id": "2fcd4799",
   "metadata": {},
   "outputs": [],
   "source": [
    "nums = [1,2,3,4,5,6,7,8,9]"
   ]
  },
  {
   "cell_type": "code",
   "execution_count": 16,
   "id": "fb40e4b5",
   "metadata": {},
   "outputs": [],
   "source": [
    "sum10 = []\n",
    "for num in nums:\n",
    "    for a in nums[1:]:\n",
    "        summ= num + a\n",
    "        if summ>=10:\n",
    "            sum10.append(summ)"
   ]
  },
  {
   "cell_type": "code",
   "execution_count": 17,
   "id": "6c05715b",
   "metadata": {},
   "outputs": [
    {
     "data": {
      "text/plain": [
       "[10,\n",
       " 10,\n",
       " 11,\n",
       " 10,\n",
       " 11,\n",
       " 12,\n",
       " 10,\n",
       " 11,\n",
       " 12,\n",
       " 13,\n",
       " 10,\n",
       " 11,\n",
       " 12,\n",
       " 13,\n",
       " 14,\n",
       " 10,\n",
       " 11,\n",
       " 12,\n",
       " 13,\n",
       " 14,\n",
       " 15,\n",
       " 10,\n",
       " 11,\n",
       " 12,\n",
       " 13,\n",
       " 14,\n",
       " 15,\n",
       " 16,\n",
       " 10,\n",
       " 11,\n",
       " 12,\n",
       " 13,\n",
       " 14,\n",
       " 15,\n",
       " 16,\n",
       " 17,\n",
       " 11,\n",
       " 12,\n",
       " 13,\n",
       " 14,\n",
       " 15,\n",
       " 16,\n",
       " 17,\n",
       " 18]"
      ]
     },
     "execution_count": 17,
     "metadata": {},
     "output_type": "execute_result"
    }
   ],
   "source": [
    "sum10"
   ]
  },
  {
   "cell_type": "code",
   "execution_count": 18,
   "id": "2c8d66ae",
   "metadata": {},
   "outputs": [],
   "source": [
    "# Done "
   ]
  }
 ],
 "metadata": {
  "kernelspec": {
   "display_name": "Python 3 (ipykernel)",
   "language": "python",
   "name": "python3"
  },
  "language_info": {
   "codemirror_mode": {
    "name": "ipython",
    "version": 3
   },
   "file_extension": ".py",
   "mimetype": "text/x-python",
   "name": "python",
   "nbconvert_exporter": "python",
   "pygments_lexer": "ipython3",
   "version": "3.9.7"
  }
 },
 "nbformat": 4,
 "nbformat_minor": 5
}
