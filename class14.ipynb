{
 "cells": [
  {
   "cell_type": "code",
   "execution_count": 1,
   "id": "4e22d0d5",
   "metadata": {},
   "outputs": [],
   "source": [
    "#23-June-2022"
   ]
  },
  {
   "cell_type": "markdown",
   "id": "10bafbb3",
   "metadata": {},
   "source": [
    "# While:"
   ]
  },
  {
   "cell_type": "code",
   "execution_count": 2,
   "id": "42d7fde7",
   "metadata": {},
   "outputs": [],
   "source": [
    "l = []"
   ]
  },
  {
   "cell_type": "code",
   "execution_count": 3,
   "id": "0018c885",
   "metadata": {},
   "outputs": [
    {
     "name": "stdout",
     "output_type": "stream",
     "text": [
      "Enter a number or press \"w\" to exit: 1\n",
      "Enter a number or press \"w\" to exit: 2\n",
      "Enter a number or press \"w\" to exit: 3\n",
      "Enter a number or press \"w\" to exit: 4\n",
      "Enter a number or press \"w\" to exit: 5\n",
      "Enter a number or press \"w\" to exit: 6\n",
      "Enter a number or press \"w\" to exit: 7\n",
      "Enter a number or press \"w\" to exit: 8\n",
      "Enter a number or press \"w\" to exit: 9\n",
      "Enter a number or press \"w\" to exit: w\n"
     ]
    },
    {
     "data": {
      "text/plain": [
       "['1', '2', '3', '4', '5', '6', '7', '8', '9']"
      ]
     },
     "execution_count": 3,
     "metadata": {},
     "output_type": "execute_result"
    }
   ],
   "source": [
    "while True:\n",
    "    i = input('Enter a number or press \"w\" to exit: ')\n",
    "    if i == 'w':\n",
    "        break\n",
    "    else:\n",
    "        l.append(i)\n",
    "    \n",
    "l"
   ]
  },
  {
   "cell_type": "markdown",
   "id": "0cea7ec5",
   "metadata": {},
   "source": [
    "# Tuple"
   ]
  },
  {
   "cell_type": "code",
   "execution_count": 4,
   "id": "ec8c7741",
   "metadata": {},
   "outputs": [],
   "source": [
    "marks = (2,4,True, 'Pakistan',['P1','P2'],(2,3,4),{'class':'Js'}) "
   ]
  },
  {
   "cell_type": "code",
   "execution_count": 5,
   "id": "a6aa3748",
   "metadata": {},
   "outputs": [
    {
     "data": {
      "text/plain": [
       "'Pakistan'"
      ]
     },
     "execution_count": 5,
     "metadata": {},
     "output_type": "execute_result"
    }
   ],
   "source": [
    "marks[3]"
   ]
  },
  {
   "cell_type": "code",
   "execution_count": 6,
   "id": "c739fa32",
   "metadata": {},
   "outputs": [
    {
     "data": {
      "text/plain": [
       "['P1', 'P2']"
      ]
     },
     "execution_count": 6,
     "metadata": {},
     "output_type": "execute_result"
    }
   ],
   "source": [
    "marks[4]"
   ]
  },
  {
   "cell_type": "code",
   "execution_count": 7,
   "id": "ffd2e408",
   "metadata": {},
   "outputs": [],
   "source": [
    "marks[4][1] = 'Person2'"
   ]
  },
  {
   "cell_type": "code",
   "execution_count": 8,
   "id": "33c81e12",
   "metadata": {},
   "outputs": [
    {
     "data": {
      "text/plain": [
       "(2, 4, True, 'Pakistan', ['P1', 'Person2'], (2, 3, 4), {'class': 'Js'})"
      ]
     },
     "execution_count": 8,
     "metadata": {},
     "output_type": "execute_result"
    }
   ],
   "source": [
    "marks"
   ]
  },
  {
   "cell_type": "code",
   "execution_count": 9,
   "id": "f3c2ff40",
   "metadata": {},
   "outputs": [
    {
     "data": {
      "text/plain": [
       "'Js'"
      ]
     },
     "execution_count": 9,
     "metadata": {},
     "output_type": "execute_result"
    }
   ],
   "source": [
    "marks[6]['class']"
   ]
  },
  {
   "cell_type": "code",
   "execution_count": 10,
   "id": "8598169f",
   "metadata": {},
   "outputs": [
    {
     "ename": "TypeError",
     "evalue": "'tuple' object does not support item assignment",
     "output_type": "error",
     "traceback": [
      "\u001b[1;31m---------------------------------------------------------------------------\u001b[0m",
      "\u001b[1;31mTypeError\u001b[0m                                 Traceback (most recent call last)",
      "\u001b[1;32m~\\AppData\\Local\\Temp/ipykernel_4084/430071493.py\u001b[0m in \u001b[0;36m<module>\u001b[1;34m\u001b[0m\n\u001b[0;32m      1\u001b[0m \u001b[1;31m# immutable\u001b[0m\u001b[1;33m\u001b[0m\u001b[1;33m\u001b[0m\u001b[0m\n\u001b[1;32m----> 2\u001b[1;33m \u001b[0mmarks\u001b[0m\u001b[1;33m[\u001b[0m\u001b[1;36m0\u001b[0m\u001b[1;33m]\u001b[0m\u001b[1;33m=\u001b[0m\u001b[1;36m7\u001b[0m\u001b[1;33m\u001b[0m\u001b[1;33m\u001b[0m\u001b[0m\n\u001b[0m",
      "\u001b[1;31mTypeError\u001b[0m: 'tuple' object does not support item assignment"
     ]
    }
   ],
   "source": [
    "# immutable \n",
    "marks[0]=7"
   ]
  },
  {
   "cell_type": "code",
   "execution_count": 11,
   "id": "4cf10919",
   "metadata": {},
   "outputs": [
    {
     "data": {
      "text/plain": [
       "1"
      ]
     },
     "execution_count": 11,
     "metadata": {},
     "output_type": "execute_result"
    }
   ],
   "source": [
    "marks.count(2)"
   ]
  },
  {
   "cell_type": "code",
   "execution_count": 12,
   "id": "c09a95de",
   "metadata": {},
   "outputs": [
    {
     "data": {
      "text/plain": [
       "3"
      ]
     },
     "execution_count": 12,
     "metadata": {},
     "output_type": "execute_result"
    }
   ],
   "source": [
    "marks.index('Pakistan')"
   ]
  },
  {
   "cell_type": "markdown",
   "id": "f8bd0603",
   "metadata": {},
   "source": [
    "# Set:"
   ]
  },
  {
   "cell_type": "code",
   "execution_count": 13,
   "id": "27f18eb3",
   "metadata": {},
   "outputs": [
    {
     "data": {
      "text/plain": [
       "set"
      ]
     },
     "execution_count": 13,
     "metadata": {},
     "output_type": "execute_result"
    }
   ],
   "source": [
    "my_set = {2,3}\n",
    "\n",
    "type(my_set)"
   ]
  },
  {
   "cell_type": "code",
   "execution_count": 14,
   "id": "3fe4ef6e",
   "metadata": {},
   "outputs": [],
   "source": [
    "li= [1,2,3,4,3,6,8,6,5,7,9]"
   ]
  },
  {
   "cell_type": "code",
   "execution_count": 15,
   "id": "b000fc37",
   "metadata": {},
   "outputs": [
    {
     "data": {
      "text/plain": [
       "[22, 33, 44, 55]"
      ]
     },
     "execution_count": 15,
     "metadata": {},
     "output_type": "execute_result"
    }
   ],
   "source": [
    "alist = [22,33,44,55,33,44,22]\n",
    "\n",
    "newlist = []\n",
    "\n",
    "for i in alist:\n",
    "    if i not in newlist:\n",
    "        newlist.append(i)\n",
    "        \n",
    "        \n",
    "newlist"
   ]
  },
  {
   "cell_type": "code",
   "execution_count": 16,
   "id": "e2cddf17",
   "metadata": {},
   "outputs": [
    {
     "data": {
      "text/plain": [
       "{22, 33, 44, 55}"
      ]
     },
     "execution_count": 16,
     "metadata": {},
     "output_type": "execute_result"
    }
   ],
   "source": [
    "set(alist)"
   ]
  },
  {
   "cell_type": "code",
   "execution_count": 17,
   "id": "2de17a57",
   "metadata": {},
   "outputs": [
    {
     "data": {
      "text/plain": [
       "[33, 44, 22, 55]"
      ]
     },
     "execution_count": 17,
     "metadata": {},
     "output_type": "execute_result"
    }
   ],
   "source": [
    "list(set(alist))"
   ]
  },
  {
   "cell_type": "code",
   "execution_count": 18,
   "id": "9afe9506",
   "metadata": {},
   "outputs": [
    {
     "data": {
      "text/plain": [
       "{22, 33, 44, 55}"
      ]
     },
     "execution_count": 18,
     "metadata": {},
     "output_type": "execute_result"
    }
   ],
   "source": [
    "pin2 = set(alist)\n",
    "pin2"
   ]
  },
  {
   "cell_type": "code",
   "execution_count": 19,
   "id": "f48def57",
   "metadata": {},
   "outputs": [
    {
     "data": {
      "text/plain": [
       "{22, 33, 44, 55}"
      ]
     },
     "execution_count": 19,
     "metadata": {},
     "output_type": "execute_result"
    }
   ],
   "source": [
    "pin3 = pin2.copy()\n",
    "pin3"
   ]
  },
  {
   "cell_type": "code",
   "execution_count": 20,
   "id": "da19a49d",
   "metadata": {},
   "outputs": [
    {
     "data": {
      "text/plain": [
       "{10, 22, 33, 44, 55}"
      ]
     },
     "execution_count": 20,
     "metadata": {},
     "output_type": "execute_result"
    }
   ],
   "source": [
    "pin3.add(10)\n",
    "pin3"
   ]
  },
  {
   "cell_type": "code",
   "execution_count": 21,
   "id": "74215f63",
   "metadata": {},
   "outputs": [
    {
     "data": {
      "text/plain": [
       "{'n'}"
      ]
     },
     "execution_count": 21,
     "metadata": {},
     "output_type": "execute_result"
    }
   ],
   "source": [
    "pin4 = {'n'} \n",
    "pin4.difference(pin3,pin2)"
   ]
  },
  {
   "cell_type": "code",
   "execution_count": 22,
   "id": "cffcb9b7",
   "metadata": {},
   "outputs": [
    {
     "data": {
      "text/plain": [
       "{'n'}"
      ]
     },
     "execution_count": 22,
     "metadata": {},
     "output_type": "execute_result"
    }
   ],
   "source": [
    "pin4"
   ]
  },
  {
   "cell_type": "code",
   "execution_count": 23,
   "id": "7a326b29",
   "metadata": {},
   "outputs": [
    {
     "data": {
      "text/plain": [
       "{10, 22, 44, 55}"
      ]
     },
     "execution_count": 23,
     "metadata": {},
     "output_type": "execute_result"
    }
   ],
   "source": [
    "pin3.pop()\n",
    "pin3"
   ]
  },
  {
   "cell_type": "code",
   "execution_count": 24,
   "id": "a0000fee",
   "metadata": {},
   "outputs": [
    {
     "data": {
      "text/plain": [
       "{10, 22, 44, 55}"
      ]
     },
     "execution_count": 24,
     "metadata": {},
     "output_type": "execute_result"
    }
   ],
   "source": [
    "pin3.union(pin2)\n",
    "pin3"
   ]
  },
  {
   "cell_type": "code",
   "execution_count": 25,
   "id": "5c5abce7",
   "metadata": {},
   "outputs": [
    {
     "data": {
      "text/plain": [
       "{10, 22, 33, 44, 55}"
      ]
     },
     "execution_count": 25,
     "metadata": {},
     "output_type": "execute_result"
    }
   ],
   "source": [
    "pin3.update(pin2)\n",
    "pin3"
   ]
  },
  {
   "cell_type": "code",
   "execution_count": 26,
   "id": "7b9f554d",
   "metadata": {},
   "outputs": [],
   "source": [
    "set1 = {1,2,3,5,6,7,8,9} - {2,4,6,8}"
   ]
  },
  {
   "cell_type": "code",
   "execution_count": 27,
   "id": "965a6586",
   "metadata": {},
   "outputs": [
    {
     "data": {
      "text/plain": [
       "{1, 3, 5, 7, 9}"
      ]
     },
     "execution_count": 27,
     "metadata": {},
     "output_type": "execute_result"
    }
   ],
   "source": [
    "set1"
   ]
  },
  {
   "cell_type": "code",
   "execution_count": 28,
   "id": "617b2364",
   "metadata": {},
   "outputs": [],
   "source": [
    "set2 = {1,2,3,5,6,7,8,9}.union({2,4,6,8})"
   ]
  },
  {
   "cell_type": "code",
   "execution_count": 29,
   "id": "4726a0be",
   "metadata": {},
   "outputs": [
    {
     "data": {
      "text/plain": [
       "{2, 4, 6, 8}"
      ]
     },
     "execution_count": 29,
     "metadata": {},
     "output_type": "execute_result"
    }
   ],
   "source": [
    "set2.difference(set1)"
   ]
  },
  {
   "cell_type": "code",
   "execution_count": 30,
   "id": "fe8f6c63",
   "metadata": {},
   "outputs": [
    {
     "data": {
      "text/plain": [
       "{1, 2, 3, 4, 5, 6, 7, 8, 9}"
      ]
     },
     "execution_count": 30,
     "metadata": {},
     "output_type": "execute_result"
    }
   ],
   "source": [
    "set2"
   ]
  },
  {
   "cell_type": "code",
   "execution_count": 31,
   "id": "fe88430e",
   "metadata": {},
   "outputs": [],
   "source": [
    "set2.remove(7)"
   ]
  },
  {
   "cell_type": "code",
   "execution_count": 32,
   "id": "c375ef18",
   "metadata": {},
   "outputs": [
    {
     "data": {
      "text/plain": [
       "{1, 2, 3, 4, 5, 6, 8, 9}"
      ]
     },
     "execution_count": 32,
     "metadata": {},
     "output_type": "execute_result"
    }
   ],
   "source": [
    "set2"
   ]
  },
  {
   "cell_type": "code",
   "execution_count": 33,
   "id": "613b0e16",
   "metadata": {},
   "outputs": [],
   "source": [
    "set40 = {1,2}"
   ]
  },
  {
   "cell_type": "code",
   "execution_count": 34,
   "id": "5553a6fa",
   "metadata": {},
   "outputs": [],
   "source": [
    "set40.add(3)"
   ]
  },
  {
   "cell_type": "code",
   "execution_count": 35,
   "id": "b710575c",
   "metadata": {},
   "outputs": [
    {
     "data": {
      "text/plain": [
       "{1, 2, 3}"
      ]
     },
     "execution_count": 35,
     "metadata": {},
     "output_type": "execute_result"
    }
   ],
   "source": [
    "set40"
   ]
  },
  {
   "cell_type": "code",
   "execution_count": 36,
   "id": "99a645c3",
   "metadata": {},
   "outputs": [
    {
     "data": {
      "text/plain": [
       "False"
      ]
     },
     "execution_count": 36,
     "metadata": {},
     "output_type": "execute_result"
    }
   ],
   "source": [
    "set40.isdisjoint(set2)"
   ]
  },
  {
   "cell_type": "code",
   "execution_count": 37,
   "id": "5791bf25",
   "metadata": {},
   "outputs": [
    {
     "data": {
      "text/plain": [
       "{1, 2, 3, 4, 5, 6, 8, 9}"
      ]
     },
     "execution_count": 37,
     "metadata": {},
     "output_type": "execute_result"
    }
   ],
   "source": [
    "set2"
   ]
  },
  {
   "cell_type": "code",
   "execution_count": 38,
   "id": "bb7ec1c9",
   "metadata": {},
   "outputs": [],
   "source": [
    "set2.discard(8)"
   ]
  },
  {
   "cell_type": "code",
   "execution_count": 39,
   "id": "3b3d0935",
   "metadata": {},
   "outputs": [
    {
     "data": {
      "text/plain": [
       "{1, 2, 3, 4, 5, 6, 9}"
      ]
     },
     "execution_count": 39,
     "metadata": {},
     "output_type": "execute_result"
    }
   ],
   "source": [
    "set2"
   ]
  },
  {
   "cell_type": "code",
   "execution_count": 40,
   "id": "446971c0",
   "metadata": {},
   "outputs": [],
   "source": [
    "set2.difference_update(set40)"
   ]
  },
  {
   "cell_type": "code",
   "execution_count": 41,
   "id": "d6dabb28",
   "metadata": {},
   "outputs": [
    {
     "data": {
      "text/plain": [
       "{4, 5, 6, 9}"
      ]
     },
     "execution_count": 41,
     "metadata": {},
     "output_type": "execute_result"
    }
   ],
   "source": [
    "set2"
   ]
  },
  {
   "cell_type": "markdown",
   "id": "0934a7a0",
   "metadata": {},
   "source": [
    "# Function:\n",
    "\n",
    "* BUILT-IN FUNCTION\n",
    "* USER-DEFINED FUNCTION"
   ]
  },
  {
   "cell_type": "code",
   "execution_count": 42,
   "id": "c26d4eef",
   "metadata": {},
   "outputs": [],
   "source": [
    "def prnt(value):\n",
    "    print(value)"
   ]
  },
  {
   "cell_type": "code",
   "execution_count": 43,
   "id": "39137997",
   "metadata": {},
   "outputs": [
    {
     "name": "stdout",
     "output_type": "stream",
     "text": [
      "helloworld\n"
     ]
    }
   ],
   "source": [
    "prnt('helloworld')"
   ]
  },
  {
   "cell_type": "code",
   "execution_count": 44,
   "id": "a3704f14",
   "metadata": {},
   "outputs": [],
   "source": [
    "def say_hello():\n",
    "    print('hello world')\n",
    "    "
   ]
  },
  {
   "cell_type": "code",
   "execution_count": 45,
   "id": "a391c8de",
   "metadata": {},
   "outputs": [
    {
     "name": "stdout",
     "output_type": "stream",
     "text": [
      "hello world\n"
     ]
    }
   ],
   "source": [
    "say_hello()"
   ]
  },
  {
   "cell_type": "code",
   "execution_count": 46,
   "id": "5d1a0b9d",
   "metadata": {},
   "outputs": [
    {
     "name": "stdout",
     "output_type": "stream",
     "text": [
      "Assalam o Alaikum\n"
     ]
    }
   ],
   "source": [
    "def say_hello2(value1,value2):\n",
    "    print(value1,value2)\n",
    "\n",
    "say_hello2('Assalam', 'o Alaikum')"
   ]
  },
  {
   "cell_type": "code",
   "execution_count": 47,
   "id": "31e5dc6b",
   "metadata": {},
   "outputs": [],
   "source": [
    "def charcount(value):\n",
    "    print(f' There are {len(value)} characters in your given paragraph')"
   ]
  },
  {
   "cell_type": "code",
   "execution_count": 48,
   "id": "430dc162",
   "metadata": {},
   "outputs": [
    {
     "name": "stdout",
     "output_type": "stream",
     "text": [
      " There are 5 characters in your given paragraph\n"
     ]
    }
   ],
   "source": [
    "charcount('hello')"
   ]
  },
  {
   "cell_type": "code",
   "execution_count": 49,
   "id": "48d2ab6d",
   "metadata": {},
   "outputs": [],
   "source": [
    "def word_count(value):\n",
    "    print(f' There are {len(value.split(\" \"))} words in your given paragraph')"
   ]
  },
  {
   "cell_type": "code",
   "execution_count": 50,
   "id": "44027e62",
   "metadata": {},
   "outputs": [
    {
     "name": "stdout",
     "output_type": "stream",
     "text": [
      " There are 2 words in your given paragraph\n"
     ]
    }
   ],
   "source": [
    "word_count(\"HELLO KARACHI\")"
   ]
  },
  {
   "cell_type": "code",
   "execution_count": 51,
   "id": "d6e87d78",
   "metadata": {},
   "outputs": [],
   "source": [
    "def sentence_count(value):\n",
    "    print(f' There are {len(value.split(\". \"))-1} words in your given paragraph')"
   ]
  },
  {
   "cell_type": "code",
   "execution_count": 52,
   "id": "ead027f8",
   "metadata": {},
   "outputs": [
    {
     "name": "stdout",
     "output_type": "stream",
     "text": [
      " There are 4 words in your given paragraph\n"
     ]
    }
   ],
   "source": [
    "sentence_count('a set of words that is complete in itself. typically containing a subject and predicate. conveying a statement, question. exclamation, or command, and consisting of a main clause. and sometimes one or more subordinate clauses.')"
   ]
  },
  {
   "cell_type": "code",
   "execution_count": 53,
   "id": "809230b0",
   "metadata": {},
   "outputs": [
    {
     "data": {
      "text/plain": [
       "True"
      ]
     },
     "execution_count": 53,
     "metadata": {},
     "output_type": "execute_result"
    }
   ],
   "source": [
    "\"pk\".isalpha()"
   ]
  },
  {
   "cell_type": "code",
   "execution_count": 54,
   "id": "089030dd",
   "metadata": {},
   "outputs": [],
   "source": [
    "# Done! Class off."
   ]
  }
 ],
 "metadata": {
  "kernelspec": {
   "display_name": "Python 3 (ipykernel)",
   "language": "python",
   "name": "python3"
  },
  "language_info": {
   "codemirror_mode": {
    "name": "ipython",
    "version": 3
   },
   "file_extension": ".py",
   "mimetype": "text/x-python",
   "name": "python",
   "nbconvert_exporter": "python",
   "pygments_lexer": "ipython3",
   "version": "3.9.7"
  }
 },
 "nbformat": 4,
 "nbformat_minor": 5
}
